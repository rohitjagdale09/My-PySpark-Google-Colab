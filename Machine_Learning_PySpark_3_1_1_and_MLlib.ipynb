{
  "nbformat": 4,
  "nbformat_minor": 0,
  "metadata": {
    "kernelspec": {
      "name": "python3",
      "display_name": "Python 3"
    },
    "colab": {
      "name": "Machine Learning PySpark 3.1.1 and MLlib.ipynb",
      "provenance": [],
      "collapsed_sections": []
    },
    "language_info": {
      "name": "python"
    },
    "accelerator": "GPU"
  },
  "cells": [
    {
      "cell_type": "code",
      "metadata": {
        "colab": {
          "base_uri": "https://localhost:8080/"
        },
        "id": "_gLiLr_48QUF",
        "outputId": "47d73b1c-f661-43f9-a871-a219a4915565"
      },
      "source": [
        "!wget https://archive.apache.org/dist/spark/spark-3.1.1/spark-3.1.1-bin-hadoop2.7.tgz\n",
        "!tar -xvzf spark-3.1.1-bin-hadoop2.7.tgz\n",
        "!pip install -q findspark"
      ],
      "execution_count": 1,
      "outputs": [
        {
          "output_type": "stream",
          "text": [
            "--2021-05-11 06:00:19--  https://archive.apache.org/dist/spark/spark-3.1.1/spark-3.1.1-bin-hadoop2.7.tgz\n",
            "Resolving archive.apache.org (archive.apache.org)... 138.201.131.134, 2a01:4f8:172:2ec5::2\n",
            "Connecting to archive.apache.org (archive.apache.org)|138.201.131.134|:443... connected.\n",
            "HTTP request sent, awaiting response... 200 OK\n",
            "Length: 224374704 (214M) [application/x-gzip]\n",
            "Saving to: ‘spark-3.1.1-bin-hadoop2.7.tgz’\n",
            "\n",
            "spark-3.1.1-bin-had 100%[===================>] 213.98M  15.2MB/s    in 15s     \n",
            "\n",
            "2021-05-11 06:00:35 (14.4 MB/s) - ‘spark-3.1.1-bin-hadoop2.7.tgz’ saved [224374704/224374704]\n",
            "\n",
            "spark-3.1.1-bin-hadoop2.7/\n",
            "spark-3.1.1-bin-hadoop2.7/NOTICE\n",
            "spark-3.1.1-bin-hadoop2.7/kubernetes/\n",
            "spark-3.1.1-bin-hadoop2.7/kubernetes/tests/\n",
            "spark-3.1.1-bin-hadoop2.7/kubernetes/tests/python_executable_check.py\n",
            "spark-3.1.1-bin-hadoop2.7/kubernetes/tests/autoscale.py\n",
            "spark-3.1.1-bin-hadoop2.7/kubernetes/tests/worker_memory_check.py\n",
            "spark-3.1.1-bin-hadoop2.7/kubernetes/tests/py_container_checks.py\n",
            "spark-3.1.1-bin-hadoop2.7/kubernetes/tests/decommissioning.py\n",
            "spark-3.1.1-bin-hadoop2.7/kubernetes/tests/pyfiles.py\n",
            "spark-3.1.1-bin-hadoop2.7/kubernetes/tests/decommissioning_cleanup.py\n",
            "spark-3.1.1-bin-hadoop2.7/kubernetes/dockerfiles/\n",
            "spark-3.1.1-bin-hadoop2.7/kubernetes/dockerfiles/spark/\n",
            "spark-3.1.1-bin-hadoop2.7/kubernetes/dockerfiles/spark/decom.sh\n",
            "spark-3.1.1-bin-hadoop2.7/kubernetes/dockerfiles/spark/entrypoint.sh\n",
            "spark-3.1.1-bin-hadoop2.7/kubernetes/dockerfiles/spark/bindings/\n",
            "spark-3.1.1-bin-hadoop2.7/kubernetes/dockerfiles/spark/bindings/R/\n",
            "spark-3.1.1-bin-hadoop2.7/kubernetes/dockerfiles/spark/bindings/R/Dockerfile\n",
            "spark-3.1.1-bin-hadoop2.7/kubernetes/dockerfiles/spark/bindings/python/\n",
            "spark-3.1.1-bin-hadoop2.7/kubernetes/dockerfiles/spark/bindings/python/Dockerfile\n",
            "spark-3.1.1-bin-hadoop2.7/kubernetes/dockerfiles/spark/Dockerfile\n",
            "spark-3.1.1-bin-hadoop2.7/jars/\n",
            "spark-3.1.1-bin-hadoop2.7/jars/jackson-xc-1.9.13.jar\n",
            "spark-3.1.1-bin-hadoop2.7/jars/RoaringBitmap-0.9.0.jar\n",
            "spark-3.1.1-bin-hadoop2.7/jars/commons-digester-1.8.jar\n",
            "spark-3.1.1-bin-hadoop2.7/jars/api-util-1.0.0-M20.jar\n",
            "spark-3.1.1-bin-hadoop2.7/jars/hive-vector-code-gen-2.3.7.jar\n",
            "spark-3.1.1-bin-hadoop2.7/jars/derby-10.12.1.1.jar\n",
            "spark-3.1.1-bin-hadoop2.7/jars/commons-beanutils-1.9.4.jar\n",
            "spark-3.1.1-bin-hadoop2.7/jars/okhttp-3.12.12.jar\n",
            "spark-3.1.1-bin-hadoop2.7/jars/httpcore-4.4.12.jar\n",
            "spark-3.1.1-bin-hadoop2.7/jars/logging-interceptor-3.12.12.jar\n",
            "spark-3.1.1-bin-hadoop2.7/jars/hadoop-yarn-api-2.7.4.jar\n",
            "spark-3.1.1-bin-hadoop2.7/jars/scala-library-2.12.10.jar\n",
            "spark-3.1.1-bin-hadoop2.7/jars/spark-mllib-local_2.12-3.1.1.jar\n",
            "spark-3.1.1-bin-hadoop2.7/jars/parquet-format-2.4.0.jar\n",
            "spark-3.1.1-bin-hadoop2.7/jars/kryo-shaded-4.0.2.jar\n",
            "spark-3.1.1-bin-hadoop2.7/jars/xercesImpl-2.12.0.jar\n",
            "spark-3.1.1-bin-hadoop2.7/jars/commons-logging-1.1.3.jar\n",
            "spark-3.1.1-bin-hadoop2.7/jars/commons-compiler-3.0.16.jar\n",
            "spark-3.1.1-bin-hadoop2.7/jars/jdo-api-3.0.1.jar\n",
            "spark-3.1.1-bin-hadoop2.7/jars/spire-macros_2.12-0.17.0-M1.jar\n",
            "spark-3.1.1-bin-hadoop2.7/jars/json4s-core_2.12-3.7.0-M5.jar\n",
            "spark-3.1.1-bin-hadoop2.7/jars/JLargeArrays-1.5.jar\n",
            "spark-3.1.1-bin-hadoop2.7/jars/jsp-api-2.1.jar\n",
            "spark-3.1.1-bin-hadoop2.7/jars/kubernetes-model-autoscaling-4.12.0.jar\n",
            "spark-3.1.1-bin-hadoop2.7/jars/jcl-over-slf4j-1.7.30.jar\n",
            "spark-3.1.1-bin-hadoop2.7/jars/json4s-ast_2.12-3.7.0-M5.jar\n",
            "spark-3.1.1-bin-hadoop2.7/jars/hive-cli-2.3.7.jar\n",
            "spark-3.1.1-bin-hadoop2.7/jars/apacheds-i18n-2.0.0-M15.jar\n",
            "spark-3.1.1-bin-hadoop2.7/jars/parquet-common-1.10.1.jar\n",
            "spark-3.1.1-bin-hadoop2.7/jars/stax-api-1.0.1.jar\n",
            "spark-3.1.1-bin-hadoop2.7/jars/jackson-dataformat-yaml-2.10.0.jar\n",
            "spark-3.1.1-bin-hadoop2.7/jars/hive-storage-api-2.7.2.jar\n",
            "spark-3.1.1-bin-hadoop2.7/jars/algebra_2.12-2.0.0-M2.jar\n",
            "spark-3.1.1-bin-hadoop2.7/jars/hadoop-annotations-2.7.4.jar\n",
            "spark-3.1.1-bin-hadoop2.7/jars/guice-servlet-3.0.jar\n",
            "spark-3.1.1-bin-hadoop2.7/jars/spire-util_2.12-0.17.0-M1.jar\n",
            "spark-3.1.1-bin-hadoop2.7/jars/jakarta.activation-api-1.2.1.jar\n",
            "spark-3.1.1-bin-hadoop2.7/jars/jline-2.14.6.jar\n",
            "spark-3.1.1-bin-hadoop2.7/jars/breeze_2.12-1.0.jar\n",
            "spark-3.1.1-bin-hadoop2.7/jars/metrics-jvm-4.1.1.jar\n",
            "spark-3.1.1-bin-hadoop2.7/jars/dropwizard-metrics-hadoop-metrics2-reporter-0.1.2.jar\n",
            "spark-3.1.1-bin-hadoop2.7/jars/machinist_2.12-0.6.8.jar\n",
            "spark-3.1.1-bin-hadoop2.7/jars/scala-compiler-2.12.10.jar\n",
            "spark-3.1.1-bin-hadoop2.7/jars/commons-pool-1.5.4.jar\n",
            "spark-3.1.1-bin-hadoop2.7/jars/spark-network-shuffle_2.12-3.1.1.jar\n",
            "spark-3.1.1-bin-hadoop2.7/jars/spark-repl_2.12-3.1.1.jar\n",
            "spark-3.1.1-bin-hadoop2.7/jars/jta-1.1.jar\n",
            "spark-3.1.1-bin-hadoop2.7/jars/kubernetes-model-admissionregistration-4.12.0.jar\n",
            "spark-3.1.1-bin-hadoop2.7/jars/istack-commons-runtime-3.0.8.jar\n",
            "spark-3.1.1-bin-hadoop2.7/jars/metrics-graphite-4.1.1.jar\n",
            "spark-3.1.1-bin-hadoop2.7/jars/hadoop-hdfs-2.7.4.jar\n",
            "spark-3.1.1-bin-hadoop2.7/jars/spark-streaming_2.12-3.1.1.jar\n",
            "spark-3.1.1-bin-hadoop2.7/jars/spark-launcher_2.12-3.1.1.jar\n",
            "spark-3.1.1-bin-hadoop2.7/jars/objenesis-2.6.jar\n",
            "spark-3.1.1-bin-hadoop2.7/jars/commons-collections-3.2.2.jar\n",
            "spark-3.1.1-bin-hadoop2.7/jars/audience-annotations-0.5.0.jar\n",
            "spark-3.1.1-bin-hadoop2.7/jars/jpam-1.1.jar\n",
            "spark-3.1.1-bin-hadoop2.7/jars/jakarta.annotation-api-1.3.5.jar\n",
            "spark-3.1.1-bin-hadoop2.7/jars/xmlenc-0.52.jar\n",
            "spark-3.1.1-bin-hadoop2.7/jars/api-asn1-api-1.0.0-M20.jar\n",
            "spark-3.1.1-bin-hadoop2.7/jars/kubernetes-model-common-4.12.0.jar\n",
            "spark-3.1.1-bin-hadoop2.7/jars/kubernetes-model-extensions-4.12.0.jar\n",
            "spark-3.1.1-bin-hadoop2.7/jars/py4j-0.10.9.jar\n",
            "spark-3.1.1-bin-hadoop2.7/jars/hadoop-mapreduce-client-common-2.7.4.jar\n",
            "spark-3.1.1-bin-hadoop2.7/jars/spire-platform_2.12-0.17.0-M1.jar\n",
            "spark-3.1.1-bin-hadoop2.7/jars/avro-1.8.2.jar\n",
            "spark-3.1.1-bin-hadoop2.7/jars/curator-client-2.7.1.jar\n",
            "spark-3.1.1-bin-hadoop2.7/jars/javax.inject-1.jar\n",
            "spark-3.1.1-bin-hadoop2.7/jars/kubernetes-model-apiextensions-4.12.0.jar\n",
            "spark-3.1.1-bin-hadoop2.7/jars/jersey-media-jaxb-2.30.jar\n",
            "spark-3.1.1-bin-hadoop2.7/jars/javax.jdo-3.2.0-m3.jar\n",
            "spark-3.1.1-bin-hadoop2.7/jars/hadoop-auth-2.7.4.jar\n",
            "spark-3.1.1-bin-hadoop2.7/jars/commons-io-2.4.jar\n",
            "spark-3.1.1-bin-hadoop2.7/jars/json4s-jackson_2.12-3.7.0-M5.jar\n",
            "spark-3.1.1-bin-hadoop2.7/jars/paranamer-2.8.jar\n",
            "spark-3.1.1-bin-hadoop2.7/jars/cats-kernel_2.12-2.0.0-M4.jar\n",
            "spark-3.1.1-bin-hadoop2.7/jars/spark-mllib_2.12-3.1.1.jar\n",
            "spark-3.1.1-bin-hadoop2.7/jars/flatbuffers-java-1.9.0.jar\n",
            "spark-3.1.1-bin-hadoop2.7/jars/jersey-server-2.30.jar\n",
            "spark-3.1.1-bin-hadoop2.7/jars/stream-2.9.6.jar\n",
            "spark-3.1.1-bin-hadoop2.7/jars/datanucleus-api-jdo-4.2.4.jar\n",
            "spark-3.1.1-bin-hadoop2.7/jars/gson-2.2.4.jar\n",
            "spark-3.1.1-bin-hadoop2.7/jars/spark-hive-thriftserver_2.12-3.1.1.jar\n",
            "spark-3.1.1-bin-hadoop2.7/jars/xml-apis-1.4.01.jar\n",
            "spark-3.1.1-bin-hadoop2.7/jars/apacheds-kerberos-codec-2.0.0-M15.jar\n",
            "spark-3.1.1-bin-hadoop2.7/jars/antlr4-runtime-4.8-1.jar\n",
            "spark-3.1.1-bin-hadoop2.7/jars/hadoop-mapreduce-client-shuffle-2.7.4.jar\n",
            "spark-3.1.1-bin-hadoop2.7/jars/kubernetes-model-policy-4.12.0.jar\n",
            "spark-3.1.1-bin-hadoop2.7/jars/hive-jdbc-2.3.7.jar\n",
            "spark-3.1.1-bin-hadoop2.7/jars/hive-exec-2.3.7-core.jar\n",
            "spark-3.1.1-bin-hadoop2.7/jars/opencsv-2.3.jar\n",
            "spark-3.1.1-bin-hadoop2.7/jars/kubernetes-model-certificates-4.12.0.jar\n",
            "spark-3.1.1-bin-hadoop2.7/jars/avro-mapred-1.8.2-hadoop2.jar\n",
            "spark-3.1.1-bin-hadoop2.7/jars/jsr305-3.0.0.jar\n",
            "spark-3.1.1-bin-hadoop2.7/jars/macro-compat_2.12-1.1.1.jar\n",
            "spark-3.1.1-bin-hadoop2.7/jars/spark-sketch_2.12-3.1.1.jar\n",
            "spark-3.1.1-bin-hadoop2.7/jars/commons-dbcp-1.4.jar\n",
            "spark-3.1.1-bin-hadoop2.7/jars/jersey-container-servlet-core-2.30.jar\n",
            "spark-3.1.1-bin-hadoop2.7/jars/okio-1.14.0.jar\n",
            "spark-3.1.1-bin-hadoop2.7/jars/hk2-api-2.6.1.jar\n",
            "spark-3.1.1-bin-hadoop2.7/jars/parquet-jackson-1.10.1.jar\n",
            "spark-3.1.1-bin-hadoop2.7/jars/mesos-1.4.0-shaded-protobuf.jar\n",
            "spark-3.1.1-bin-hadoop2.7/jars/orc-mapreduce-1.5.12.jar\n",
            "spark-3.1.1-bin-hadoop2.7/jars/chill-java-0.9.5.jar\n",
            "spark-3.1.1-bin-hadoop2.7/jars/kubernetes-model-settings-4.12.0.jar\n",
            "spark-3.1.1-bin-hadoop2.7/jars/spark-tags_2.12-3.1.1.jar\n",
            "spark-3.1.1-bin-hadoop2.7/jars/jakarta.servlet-api-4.0.3.jar\n",
            "spark-3.1.1-bin-hadoop2.7/jars/spark-unsafe_2.12-3.1.1.jar\n",
            "spark-3.1.1-bin-hadoop2.7/jars/automaton-1.11-8.jar\n",
            "spark-3.1.1-bin-hadoop2.7/jars/commons-lang-2.6.jar\n",
            "spark-3.1.1-bin-hadoop2.7/jars/jackson-annotations-2.10.0.jar\n",
            "spark-3.1.1-bin-hadoop2.7/jars/hk2-utils-2.6.1.jar\n",
            "spark-3.1.1-bin-hadoop2.7/jars/velocity-1.5.jar\n",
            "spark-3.1.1-bin-hadoop2.7/jars/htrace-core-3.1.0-incubating.jar\n",
            "spark-3.1.1-bin-hadoop2.7/jars/jul-to-slf4j-1.7.30.jar\n",
            "spark-3.1.1-bin-hadoop2.7/jars/JTransforms-3.1.jar\n",
            "spark-3.1.1-bin-hadoop2.7/jars/jersey-client-2.30.jar\n",
            "spark-3.1.1-bin-hadoop2.7/jars/spark-catalyst_2.12-3.1.1.jar\n",
            "spark-3.1.1-bin-hadoop2.7/jars/httpclient-4.5.6.jar\n",
            "spark-3.1.1-bin-hadoop2.7/jars/kubernetes-model-discovery-4.12.0.jar\n",
            "spark-3.1.1-bin-hadoop2.7/jars/jetty-sslengine-6.1.26.jar\n",
            "spark-3.1.1-bin-hadoop2.7/jars/spire_2.12-0.17.0-M1.jar\n",
            "spark-3.1.1-bin-hadoop2.7/jars/jersey-hk2-2.30.jar\n",
            "spark-3.1.1-bin-hadoop2.7/jars/spark-sql_2.12-3.1.1.jar\n",
            "spark-3.1.1-bin-hadoop2.7/jars/commons-math3-3.4.1.jar\n",
            "spark-3.1.1-bin-hadoop2.7/jars/xbean-asm7-shaded-4.15.jar\n",
            "spark-3.1.1-bin-hadoop2.7/jars/spark-network-common_2.12-3.1.1.jar\n",
            "spark-3.1.1-bin-hadoop2.7/jars/jakarta.validation-api-2.0.2.jar\n",
            "spark-3.1.1-bin-hadoop2.7/jars/parquet-encoding-1.10.1.jar\n",
            "spark-3.1.1-bin-hadoop2.7/jars/snappy-java-1.1.8.2.jar\n",
            "spark-3.1.1-bin-hadoop2.7/jars/slf4j-log4j12-1.7.30.jar\n",
            "spark-3.1.1-bin-hadoop2.7/jars/hadoop-mapreduce-client-app-2.7.4.jar\n",
            "spark-3.1.1-bin-hadoop2.7/jars/slf4j-api-1.7.30.jar\n",
            "spark-3.1.1-bin-hadoop2.7/jars/hive-shims-0.23-2.3.7.jar\n",
            "spark-3.1.1-bin-hadoop2.7/jars/guava-14.0.1.jar\n",
            "spark-3.1.1-bin-hadoop2.7/jars/stax-api-1.0-2.jar\n",
            "spark-3.1.1-bin-hadoop2.7/jars/spark-kubernetes_2.12-3.1.1.jar\n",
            "spark-3.1.1-bin-hadoop2.7/jars/zjsonpatch-0.3.0.jar\n",
            "spark-3.1.1-bin-hadoop2.7/jars/hive-service-rpc-3.1.2.jar\n",
            "spark-3.1.1-bin-hadoop2.7/jars/shapeless_2.12-2.3.3.jar\n",
            "spark-3.1.1-bin-hadoop2.7/jars/spark-graphx_2.12-3.1.1.jar\n",
            "spark-3.1.1-bin-hadoop2.7/jars/oro-2.0.8.jar\n",
            "spark-3.1.1-bin-hadoop2.7/jars/arrow-memory-netty-2.0.0.jar\n",
            "spark-3.1.1-bin-hadoop2.7/jars/kubernetes-model-scheduling-4.12.0.jar\n",
            "spark-3.1.1-bin-hadoop2.7/jars/hadoop-yarn-client-2.7.4.jar\n",
            "spark-3.1.1-bin-hadoop2.7/jars/libfb303-0.9.3.jar\n",
            "spark-3.1.1-bin-hadoop2.7/jars/core-1.1.2.jar\n",
            "spark-3.1.1-bin-hadoop2.7/jars/jersey-container-servlet-2.30.jar\n",
            "spark-3.1.1-bin-hadoop2.7/jars/datanucleus-rdbms-4.1.19.jar\n",
            "spark-3.1.1-bin-hadoop2.7/jars/super-csv-2.2.0.jar\n",
            "spark-3.1.1-bin-hadoop2.7/jars/compress-lzf-1.0.3.jar\n",
            "spark-3.1.1-bin-hadoop2.7/jars/jackson-module-paranamer-2.10.0.jar\n",
            "spark-3.1.1-bin-hadoop2.7/jars/aopalliance-1.0.jar\n",
            "spark-3.1.1-bin-hadoop2.7/jars/osgi-resource-locator-1.0.3.jar\n",
            "spark-3.1.1-bin-hadoop2.7/jars/jackson-module-scala_2.12-2.10.0.jar\n",
            "spark-3.1.1-bin-hadoop2.7/jars/hive-shims-2.3.7.jar\n",
            "spark-3.1.1-bin-hadoop2.7/jars/hadoop-yarn-server-common-2.7.4.jar\n",
            "spark-3.1.1-bin-hadoop2.7/jars/json-1.8.jar\n",
            "spark-3.1.1-bin-hadoop2.7/jars/antlr-runtime-3.5.2.jar\n",
            "spark-3.1.1-bin-hadoop2.7/jars/threeten-extra-1.5.0.jar\n",
            "spark-3.1.1-bin-hadoop2.7/jars/orc-shims-1.5.12.jar\n",
            "spark-3.1.1-bin-hadoop2.7/jars/jetty-6.1.26.jar\n",
            "spark-3.1.1-bin-hadoop2.7/jars/arrow-vector-2.0.0.jar\n",
            "spark-3.1.1-bin-hadoop2.7/jars/jackson-module-jaxb-annotations-2.10.0.jar\n",
            "spark-3.1.1-bin-hadoop2.7/jars/jersey-common-2.30.jar\n",
            "spark-3.1.1-bin-hadoop2.7/jars/aircompressor-0.10.jar\n",
            "spark-3.1.1-bin-hadoop2.7/jars/lz4-java-1.7.1.jar\n",
            "spark-3.1.1-bin-hadoop2.7/jars/hadoop-client-2.7.4.jar\n",
            "spark-3.1.1-bin-hadoop2.7/jars/activation-1.1.1.jar\n",
            "spark-3.1.1-bin-hadoop2.7/jars/commons-crypto-1.1.0.jar\n",
            "spark-3.1.1-bin-hadoop2.7/jars/spark-tags_2.12-3.1.1-tests.jar\n",
            "spark-3.1.1-bin-hadoop2.7/jars/libthrift-0.12.0.jar\n",
            "spark-3.1.1-bin-hadoop2.7/jars/HikariCP-2.5.1.jar\n",
            "spark-3.1.1-bin-hadoop2.7/jars/generex-1.0.2.jar\n",
            "spark-3.1.1-bin-hadoop2.7/jars/breeze-macros_2.12-1.0.jar\n",
            "spark-3.1.1-bin-hadoop2.7/jars/leveldbjni-all-1.8.jar\n",
            "spark-3.1.1-bin-hadoop2.7/jars/jaxb-runtime-2.3.2.jar\n",
            "spark-3.1.1-bin-hadoop2.7/jars/json4s-scalap_2.12-3.7.0-M5.jar\n",
            "spark-3.1.1-bin-hadoop2.7/jars/kubernetes-model-events-4.12.0.jar\n",
            "spark-3.1.1-bin-hadoop2.7/jars/commons-lang3-3.10.jar\n",
            "spark-3.1.1-bin-hadoop2.7/jars/jackson-datatype-jsr310-2.11.2.jar\n",
            "spark-3.1.1-bin-hadoop2.7/jars/commons-httpclient-3.1.jar\n",
            "spark-3.1.1-bin-hadoop2.7/jars/kubernetes-client-4.12.0.jar\n",
            "spark-3.1.1-bin-hadoop2.7/jars/spark-hive_2.12-3.1.1.jar\n",
            "spark-3.1.1-bin-hadoop2.7/jars/shims-0.9.0.jar\n",
            "spark-3.1.1-bin-hadoop2.7/jars/jackson-core-asl-1.9.13.jar\n",
            "spark-3.1.1-bin-hadoop2.7/jars/scala-xml_2.12-1.2.0.jar\n",
            "spark-3.1.1-bin-hadoop2.7/jars/hk2-locator-2.6.1.jar\n",
            "spark-3.1.1-bin-hadoop2.7/jars/hadoop-common-2.7.4.jar\n",
            "spark-3.1.1-bin-hadoop2.7/jars/orc-core-1.5.12.jar\n",
            "spark-3.1.1-bin-hadoop2.7/jars/curator-recipes-2.7.1.jar\n",
            "spark-3.1.1-bin-hadoop2.7/jars/jackson-mapper-asl-1.9.13.jar\n",
            "spark-3.1.1-bin-hadoop2.7/jars/hive-common-2.3.7.jar\n",
            "spark-3.1.1-bin-hadoop2.7/jars/xz-1.5.jar\n",
            "spark-3.1.1-bin-hadoop2.7/jars/ST4-4.0.4.jar\n",
            "spark-3.1.1-bin-hadoop2.7/jars/hive-shims-scheduler-2.3.7.jar\n",
            "spark-3.1.1-bin-hadoop2.7/jars/spark-yarn_2.12-3.1.1.jar\n",
            "spark-3.1.1-bin-hadoop2.7/jars/kubernetes-model-batch-4.12.0.jar\n",
            "spark-3.1.1-bin-hadoop2.7/jars/netty-all-4.1.51.Final.jar\n",
            "spark-3.1.1-bin-hadoop2.7/jars/parquet-hadoop-1.10.1.jar\n",
            "spark-3.1.1-bin-hadoop2.7/jars/chill_2.12-0.9.5.jar\n",
            "spark-3.1.1-bin-hadoop2.7/jars/commons-configuration-1.6.jar\n",
            "spark-3.1.1-bin-hadoop2.7/jars/jackson-databind-2.10.0.jar\n",
            "spark-3.1.1-bin-hadoop2.7/jars/scala-reflect-2.12.10.jar\n",
            "spark-3.1.1-bin-hadoop2.7/jars/joda-time-2.10.5.jar\n",
            "spark-3.1.1-bin-hadoop2.7/jars/minlog-1.3.0.jar\n",
            "spark-3.1.1-bin-hadoop2.7/jars/jakarta.ws.rs-api-2.1.6.jar\n",
            "spark-3.1.1-bin-hadoop2.7/jars/aopalliance-repackaged-2.6.1.jar\n",
            "spark-3.1.1-bin-hadoop2.7/jars/commons-compress-1.20.jar\n",
            "spark-3.1.1-bin-hadoop2.7/jars/spark-core_2.12-3.1.1.jar\n",
            "spark-3.1.1-bin-hadoop2.7/jars/bonecp-0.8.0.RELEASE.jar\n",
            "spark-3.1.1-bin-hadoop2.7/jars/jodd-core-3.5.2.jar\n",
            "spark-3.1.1-bin-hadoop2.7/jars/kubernetes-model-storageclass-4.12.0.jar\n",
            "spark-3.1.1-bin-hadoop2.7/jars/hadoop-yarn-server-web-proxy-2.7.4.jar\n",
            "spark-3.1.1-bin-hadoop2.7/jars/jackson-core-2.10.0.jar\n",
            "spark-3.1.1-bin-hadoop2.7/jars/kubernetes-model-core-4.12.0.jar\n",
            "spark-3.1.1-bin-hadoop2.7/jars/protobuf-java-2.5.0.jar\n",
            "spark-3.1.1-bin-hadoop2.7/jars/commons-net-3.1.jar\n",
            "spark-3.1.1-bin-hadoop2.7/jars/hadoop-mapreduce-client-jobclient-2.7.4.jar\n",
            "spark-3.1.1-bin-hadoop2.7/jars/datanucleus-core-4.1.17.jar\n",
            "spark-3.1.1-bin-hadoop2.7/jars/jackson-jaxrs-1.9.13.jar\n",
            "spark-3.1.1-bin-hadoop2.7/jars/janino-3.0.16.jar\n",
            "spark-3.1.1-bin-hadoop2.7/jars/hive-shims-common-2.3.7.jar\n",
            "spark-3.1.1-bin-hadoop2.7/jars/javolution-5.5.1.jar\n",
            "spark-3.1.1-bin-hadoop2.7/jars/kubernetes-model-rbac-4.12.0.jar\n",
            "spark-3.1.1-bin-hadoop2.7/jars/transaction-api-1.1.jar\n",
            "spark-3.1.1-bin-hadoop2.7/jars/kubernetes-model-metrics-4.12.0.jar\n",
            "spark-3.1.1-bin-hadoop2.7/jars/jaxb-api-2.2.2.jar\n",
            "spark-3.1.1-bin-hadoop2.7/jars/commons-cli-1.2.jar\n",
            "spark-3.1.1-bin-hadoop2.7/jars/jakarta.inject-2.6.1.jar\n",
            "spark-3.1.1-bin-hadoop2.7/jars/metrics-jmx-4.1.1.jar\n",
            "spark-3.1.1-bin-hadoop2.7/jars/zstd-jni-1.4.8-1.jar\n",
            "spark-3.1.1-bin-hadoop2.7/jars/jakarta.xml.bind-api-2.3.2.jar\n",
            "spark-3.1.1-bin-hadoop2.7/jars/commons-codec-1.10.jar\n",
            "spark-3.1.1-bin-hadoop2.7/jars/hadoop-yarn-common-2.7.4.jar\n",
            "spark-3.1.1-bin-hadoop2.7/jars/curator-framework-2.7.1.jar\n",
            "spark-3.1.1-bin-hadoop2.7/jars/arpack_combined_all-0.1.jar\n",
            "spark-3.1.1-bin-hadoop2.7/jars/hive-metastore-2.3.7.jar\n",
            "spark-3.1.1-bin-hadoop2.7/jars/hive-beeline-2.3.7.jar\n",
            "spark-3.1.1-bin-hadoop2.7/jars/metrics-core-4.1.1.jar\n",
            "spark-3.1.1-bin-hadoop2.7/jars/hive-llap-common-2.3.7.jar\n",
            "spark-3.1.1-bin-hadoop2.7/jars/arrow-format-2.0.0.jar\n",
            "spark-3.1.1-bin-hadoop2.7/jars/spark-kvstore_2.12-3.1.1.jar\n",
            "spark-3.1.1-bin-hadoop2.7/jars/javassist-3.25.0-GA.jar\n",
            "spark-3.1.1-bin-hadoop2.7/jars/scala-collection-compat_2.12-2.1.1.jar\n",
            "spark-3.1.1-bin-hadoop2.7/jars/arrow-memory-core-2.0.0.jar\n",
            "spark-3.1.1-bin-hadoop2.7/jars/parquet-column-1.10.1.jar\n",
            "spark-3.1.1-bin-hadoop2.7/jars/jetty-util-6.1.26.jar\n",
            "spark-3.1.1-bin-hadoop2.7/jars/kubernetes-model-coordination-4.12.0.jar\n",
            "spark-3.1.1-bin-hadoop2.7/jars/avro-ipc-1.8.2.jar\n",
            "spark-3.1.1-bin-hadoop2.7/jars/guice-3.0.jar\n",
            "spark-3.1.1-bin-hadoop2.7/jars/commons-text-1.6.jar\n",
            "spark-3.1.1-bin-hadoop2.7/jars/kubernetes-model-apps-4.12.0.jar\n",
            "spark-3.1.1-bin-hadoop2.7/jars/metrics-json-4.1.1.jar\n",
            "spark-3.1.1-bin-hadoop2.7/jars/snakeyaml-1.24.jar\n",
            "spark-3.1.1-bin-hadoop2.7/jars/ivy-2.4.0.jar\n",
            "spark-3.1.1-bin-hadoop2.7/jars/hadoop-mapreduce-client-core-2.7.4.jar\n",
            "spark-3.1.1-bin-hadoop2.7/jars/univocity-parsers-2.9.1.jar\n",
            "spark-3.1.1-bin-hadoop2.7/jars/pyrolite-4.30.jar\n",
            "spark-3.1.1-bin-hadoop2.7/jars/spark-mesos_2.12-3.1.1.jar\n",
            "spark-3.1.1-bin-hadoop2.7/jars/log4j-1.2.17.jar\n",
            "spark-3.1.1-bin-hadoop2.7/jars/hive-serde-2.3.7.jar\n",
            "spark-3.1.1-bin-hadoop2.7/jars/scala-parser-combinators_2.12-1.1.2.jar\n",
            "spark-3.1.1-bin-hadoop2.7/jars/kubernetes-model-networking-4.12.0.jar\n",
            "spark-3.1.1-bin-hadoop2.7/jars/zookeeper-3.4.14.jar\n",
            "spark-3.1.1-bin-hadoop2.7/data/\n",
            "spark-3.1.1-bin-hadoop2.7/data/mllib/\n",
            "spark-3.1.1-bin-hadoop2.7/data/mllib/sample_lda_data.txt\n",
            "spark-3.1.1-bin-hadoop2.7/data/mllib/sample_libsvm_data.txt\n",
            "spark-3.1.1-bin-hadoop2.7/data/mllib/sample_svm_data.txt\n",
            "spark-3.1.1-bin-hadoop2.7/data/mllib/sample_multiclass_classification_data.txt\n",
            "spark-3.1.1-bin-hadoop2.7/data/mllib/sample_linear_regression_data.txt\n",
            "spark-3.1.1-bin-hadoop2.7/data/mllib/sample_lda_libsvm_data.txt\n",
            "spark-3.1.1-bin-hadoop2.7/data/mllib/sample_fpgrowth.txt\n",
            "spark-3.1.1-bin-hadoop2.7/data/mllib/sample_binary_classification_data.txt\n",
            "spark-3.1.1-bin-hadoop2.7/data/mllib/sample_isotonic_regression_libsvm_data.txt\n",
            "spark-3.1.1-bin-hadoop2.7/data/mllib/iris_libsvm.txt\n",
            "spark-3.1.1-bin-hadoop2.7/data/mllib/sample_movielens_data.txt\n",
            "spark-3.1.1-bin-hadoop2.7/data/mllib/als/\n",
            "spark-3.1.1-bin-hadoop2.7/data/mllib/als/test.data\n",
            "spark-3.1.1-bin-hadoop2.7/data/mllib/als/sample_movielens_ratings.txt\n",
            "spark-3.1.1-bin-hadoop2.7/data/mllib/sample_kmeans_data.txt\n",
            "spark-3.1.1-bin-hadoop2.7/data/mllib/pic_data.txt\n",
            "spark-3.1.1-bin-hadoop2.7/data/mllib/images/\n",
            "spark-3.1.1-bin-hadoop2.7/data/mllib/images/origin/\n",
            "spark-3.1.1-bin-hadoop2.7/data/mllib/images/origin/kittens/\n",
            "spark-3.1.1-bin-hadoop2.7/data/mllib/images/origin/kittens/54893.jpg\n",
            "spark-3.1.1-bin-hadoop2.7/data/mllib/images/origin/kittens/not-image.txt\n",
            "spark-3.1.1-bin-hadoop2.7/data/mllib/images/origin/kittens/DP802813.jpg\n",
            "spark-3.1.1-bin-hadoop2.7/data/mllib/images/origin/kittens/29.5.a_b_EGDP022204.jpg\n",
            "spark-3.1.1-bin-hadoop2.7/data/mllib/images/origin/kittens/DP153539.jpg\n",
            "spark-3.1.1-bin-hadoop2.7/data/mllib/images/origin/license.txt\n",
            "spark-3.1.1-bin-hadoop2.7/data/mllib/images/origin/multi-channel/\n",
            "spark-3.1.1-bin-hadoop2.7/data/mllib/images/origin/multi-channel/BGRA.png\n",
            "spark-3.1.1-bin-hadoop2.7/data/mllib/images/origin/multi-channel/BGRA_alpha_60.png\n",
            "spark-3.1.1-bin-hadoop2.7/data/mllib/images/origin/multi-channel/grayscale.jpg\n",
            "spark-3.1.1-bin-hadoop2.7/data/mllib/images/origin/multi-channel/chr30.4.184.jpg\n",
            "spark-3.1.1-bin-hadoop2.7/data/mllib/images/partitioned/\n",
            "spark-3.1.1-bin-hadoop2.7/data/mllib/images/partitioned/cls=multichannel/\n",
            "spark-3.1.1-bin-hadoop2.7/data/mllib/images/partitioned/cls=multichannel/date=2018-01/\n",
            "spark-3.1.1-bin-hadoop2.7/data/mllib/images/partitioned/cls=multichannel/date=2018-01/BGRA.png\n",
            "spark-3.1.1-bin-hadoop2.7/data/mllib/images/partitioned/cls=multichannel/date=2018-01/BGRA_alpha_60.png\n",
            "spark-3.1.1-bin-hadoop2.7/data/mllib/images/partitioned/cls=multichannel/date=2018-02/\n",
            "spark-3.1.1-bin-hadoop2.7/data/mllib/images/partitioned/cls=multichannel/date=2018-02/grayscale.jpg\n",
            "spark-3.1.1-bin-hadoop2.7/data/mllib/images/partitioned/cls=multichannel/date=2018-02/chr30.4.184.jpg\n",
            "spark-3.1.1-bin-hadoop2.7/data/mllib/images/partitioned/cls=kittens/\n",
            "spark-3.1.1-bin-hadoop2.7/data/mllib/images/partitioned/cls=kittens/date=2018-01/\n",
            "spark-3.1.1-bin-hadoop2.7/data/mllib/images/partitioned/cls=kittens/date=2018-01/not-image.txt\n",
            "spark-3.1.1-bin-hadoop2.7/data/mllib/images/partitioned/cls=kittens/date=2018-01/29.5.a_b_EGDP022204.jpg\n",
            "spark-3.1.1-bin-hadoop2.7/data/mllib/images/partitioned/cls=kittens/date=2018-02/\n",
            "spark-3.1.1-bin-hadoop2.7/data/mllib/images/partitioned/cls=kittens/date=2018-02/54893.jpg\n",
            "spark-3.1.1-bin-hadoop2.7/data/mllib/images/partitioned/cls=kittens/date=2018-02/DP802813.jpg\n",
            "spark-3.1.1-bin-hadoop2.7/data/mllib/images/partitioned/cls=kittens/date=2018-02/DP153539.jpg\n",
            "spark-3.1.1-bin-hadoop2.7/data/mllib/images/license.txt\n",
            "spark-3.1.1-bin-hadoop2.7/data/mllib/ridge-data/\n",
            "spark-3.1.1-bin-hadoop2.7/data/mllib/ridge-data/lpsa.data\n",
            "spark-3.1.1-bin-hadoop2.7/data/mllib/kmeans_data.txt\n",
            "spark-3.1.1-bin-hadoop2.7/data/mllib/streaming_kmeans_data_test.txt\n",
            "spark-3.1.1-bin-hadoop2.7/data/mllib/pagerank_data.txt\n",
            "spark-3.1.1-bin-hadoop2.7/data/mllib/gmm_data.txt\n",
            "spark-3.1.1-bin-hadoop2.7/data/graphx/\n",
            "spark-3.1.1-bin-hadoop2.7/data/graphx/users.txt\n",
            "spark-3.1.1-bin-hadoop2.7/data/graphx/followers.txt\n",
            "spark-3.1.1-bin-hadoop2.7/data/streaming/\n",
            "spark-3.1.1-bin-hadoop2.7/data/streaming/AFINN-111.txt\n",
            "spark-3.1.1-bin-hadoop2.7/R/\n",
            "spark-3.1.1-bin-hadoop2.7/R/lib/\n",
            "spark-3.1.1-bin-hadoop2.7/R/lib/sparkr.zip\n",
            "spark-3.1.1-bin-hadoop2.7/R/lib/SparkR/\n",
            "spark-3.1.1-bin-hadoop2.7/R/lib/SparkR/tests/\n",
            "spark-3.1.1-bin-hadoop2.7/R/lib/SparkR/tests/testthat/\n",
            "spark-3.1.1-bin-hadoop2.7/R/lib/SparkR/tests/testthat/test_basic.R\n",
            "spark-3.1.1-bin-hadoop2.7/R/lib/SparkR/DESCRIPTION\n",
            "spark-3.1.1-bin-hadoop2.7/R/lib/SparkR/profile/\n",
            "spark-3.1.1-bin-hadoop2.7/R/lib/SparkR/profile/shell.R\n",
            "spark-3.1.1-bin-hadoop2.7/R/lib/SparkR/profile/general.R\n",
            "spark-3.1.1-bin-hadoop2.7/R/lib/SparkR/INDEX\n",
            "spark-3.1.1-bin-hadoop2.7/R/lib/SparkR/Meta/\n",
            "spark-3.1.1-bin-hadoop2.7/R/lib/SparkR/Meta/features.rds\n",
            "spark-3.1.1-bin-hadoop2.7/R/lib/SparkR/Meta/links.rds\n",
            "spark-3.1.1-bin-hadoop2.7/R/lib/SparkR/Meta/nsInfo.rds\n",
            "spark-3.1.1-bin-hadoop2.7/R/lib/SparkR/Meta/package.rds\n",
            "spark-3.1.1-bin-hadoop2.7/R/lib/SparkR/Meta/Rd.rds\n",
            "spark-3.1.1-bin-hadoop2.7/R/lib/SparkR/Meta/hsearch.rds\n",
            "spark-3.1.1-bin-hadoop2.7/R/lib/SparkR/help/\n",
            "spark-3.1.1-bin-hadoop2.7/R/lib/SparkR/help/SparkR.rdb\n",
            "spark-3.1.1-bin-hadoop2.7/R/lib/SparkR/help/aliases.rds\n",
            "spark-3.1.1-bin-hadoop2.7/R/lib/SparkR/help/SparkR.rdx\n",
            "spark-3.1.1-bin-hadoop2.7/R/lib/SparkR/help/AnIndex\n",
            "spark-3.1.1-bin-hadoop2.7/R/lib/SparkR/help/paths.rds\n",
            "spark-3.1.1-bin-hadoop2.7/R/lib/SparkR/R/\n",
            "spark-3.1.1-bin-hadoop2.7/R/lib/SparkR/R/SparkR.rdb\n",
            "spark-3.1.1-bin-hadoop2.7/R/lib/SparkR/R/SparkR.rdx\n",
            "spark-3.1.1-bin-hadoop2.7/R/lib/SparkR/R/SparkR\n",
            "spark-3.1.1-bin-hadoop2.7/R/lib/SparkR/NAMESPACE\n",
            "spark-3.1.1-bin-hadoop2.7/R/lib/SparkR/html/\n",
            "spark-3.1.1-bin-hadoop2.7/R/lib/SparkR/html/00Index.html\n",
            "spark-3.1.1-bin-hadoop2.7/R/lib/SparkR/html/R.css\n",
            "spark-3.1.1-bin-hadoop2.7/R/lib/SparkR/worker/\n",
            "spark-3.1.1-bin-hadoop2.7/R/lib/SparkR/worker/worker.R\n",
            "spark-3.1.1-bin-hadoop2.7/R/lib/SparkR/worker/daemon.R\n",
            "spark-3.1.1-bin-hadoop2.7/README.md\n",
            "spark-3.1.1-bin-hadoop2.7/RELEASE\n",
            "spark-3.1.1-bin-hadoop2.7/yarn/\n",
            "spark-3.1.1-bin-hadoop2.7/yarn/spark-3.1.1-yarn-shuffle.jar\n",
            "spark-3.1.1-bin-hadoop2.7/LICENSE\n",
            "spark-3.1.1-bin-hadoop2.7/sbin/\n",
            "spark-3.1.1-bin-hadoop2.7/sbin/start-workers.sh\n",
            "spark-3.1.1-bin-hadoop2.7/sbin/stop-mesos-shuffle-service.sh\n",
            "spark-3.1.1-bin-hadoop2.7/sbin/start-master.sh\n",
            "spark-3.1.1-bin-hadoop2.7/sbin/workers.sh\n",
            "spark-3.1.1-bin-hadoop2.7/sbin/start-worker.sh\n",
            "spark-3.1.1-bin-hadoop2.7/sbin/spark-config.sh\n",
            "spark-3.1.1-bin-hadoop2.7/sbin/start-history-server.sh\n",
            "spark-3.1.1-bin-hadoop2.7/sbin/start-slaves.sh\n",
            "spark-3.1.1-bin-hadoop2.7/sbin/spark-daemon.sh\n",
            "spark-3.1.1-bin-hadoop2.7/sbin/stop-worker.sh\n",
            "spark-3.1.1-bin-hadoop2.7/sbin/stop-mesos-dispatcher.sh\n",
            "spark-3.1.1-bin-hadoop2.7/sbin/decommission-worker.sh\n",
            "spark-3.1.1-bin-hadoop2.7/sbin/start-mesos-shuffle-service.sh\n",
            "spark-3.1.1-bin-hadoop2.7/sbin/decommission-slave.sh\n",
            "spark-3.1.1-bin-hadoop2.7/sbin/slaves.sh\n",
            "spark-3.1.1-bin-hadoop2.7/sbin/stop-history-server.sh\n",
            "spark-3.1.1-bin-hadoop2.7/sbin/start-thriftserver.sh\n",
            "spark-3.1.1-bin-hadoop2.7/sbin/stop-thriftserver.sh\n",
            "spark-3.1.1-bin-hadoop2.7/sbin/start-slave.sh\n",
            "spark-3.1.1-bin-hadoop2.7/sbin/start-all.sh\n",
            "spark-3.1.1-bin-hadoop2.7/sbin/stop-slave.sh\n",
            "spark-3.1.1-bin-hadoop2.7/sbin/spark-daemons.sh\n",
            "spark-3.1.1-bin-hadoop2.7/sbin/stop-workers.sh\n",
            "spark-3.1.1-bin-hadoop2.7/sbin/stop-slaves.sh\n",
            "spark-3.1.1-bin-hadoop2.7/sbin/stop-all.sh\n",
            "spark-3.1.1-bin-hadoop2.7/sbin/start-mesos-dispatcher.sh\n",
            "spark-3.1.1-bin-hadoop2.7/sbin/stop-master.sh\n",
            "spark-3.1.1-bin-hadoop2.7/examples/\n",
            "spark-3.1.1-bin-hadoop2.7/examples/src/\n",
            "spark-3.1.1-bin-hadoop2.7/examples/src/main/\n",
            "spark-3.1.1-bin-hadoop2.7/examples/src/main/r/\n",
            "spark-3.1.1-bin-hadoop2.7/examples/src/main/r/ml/\n",
            "spark-3.1.1-bin-hadoop2.7/examples/src/main/r/ml/survreg.R\n",
            "spark-3.1.1-bin-hadoop2.7/examples/src/main/r/ml/glm.R\n",
            "spark-3.1.1-bin-hadoop2.7/examples/src/main/r/ml/prefixSpan.R\n",
            "spark-3.1.1-bin-hadoop2.7/examples/src/main/r/ml/lm_with_elastic_net.R\n",
            "spark-3.1.1-bin-hadoop2.7/examples/src/main/r/ml/powerIterationClustering.R\n",
            "spark-3.1.1-bin-hadoop2.7/examples/src/main/r/ml/lda.R\n",
            "spark-3.1.1-bin-hadoop2.7/examples/src/main/r/ml/kstest.R\n",
            "spark-3.1.1-bin-hadoop2.7/examples/src/main/r/ml/isoreg.R\n",
            "spark-3.1.1-bin-hadoop2.7/examples/src/main/r/ml/ml.R\n",
            "spark-3.1.1-bin-hadoop2.7/examples/src/main/r/ml/naiveBayes.R\n",
            "spark-3.1.1-bin-hadoop2.7/examples/src/main/r/ml/fmRegressor.R\n",
            "spark-3.1.1-bin-hadoop2.7/examples/src/main/r/ml/mlp.R\n",
            "spark-3.1.1-bin-hadoop2.7/examples/src/main/r/ml/als.R\n",
            "spark-3.1.1-bin-hadoop2.7/examples/src/main/r/ml/kmeans.R\n",
            "spark-3.1.1-bin-hadoop2.7/examples/src/main/r/ml/svmLinear.R\n",
            "spark-3.1.1-bin-hadoop2.7/examples/src/main/r/ml/fmClassifier.R\n",
            "spark-3.1.1-bin-hadoop2.7/examples/src/main/r/ml/logit.R\n",
            "spark-3.1.1-bin-hadoop2.7/examples/src/main/r/ml/randomForest.R\n",
            "spark-3.1.1-bin-hadoop2.7/examples/src/main/r/ml/gbt.R\n",
            "spark-3.1.1-bin-hadoop2.7/examples/src/main/r/ml/decisionTree.R\n",
            "spark-3.1.1-bin-hadoop2.7/examples/src/main/r/ml/gaussianMixture.R\n",
            "spark-3.1.1-bin-hadoop2.7/examples/src/main/r/ml/bisectingKmeans.R\n",
            "spark-3.1.1-bin-hadoop2.7/examples/src/main/r/ml/fpm.R\n",
            "spark-3.1.1-bin-hadoop2.7/examples/src/main/r/dataframe.R\n",
            "spark-3.1.1-bin-hadoop2.7/examples/src/main/r/RSparkSQLExample.R\n",
            "spark-3.1.1-bin-hadoop2.7/examples/src/main/r/data-manipulation.R\n",
            "spark-3.1.1-bin-hadoop2.7/examples/src/main/r/streaming/\n",
            "spark-3.1.1-bin-hadoop2.7/examples/src/main/r/streaming/structured_network_wordcount.R\n",
            "spark-3.1.1-bin-hadoop2.7/examples/src/main/scala/\n",
            "spark-3.1.1-bin-hadoop2.7/examples/src/main/scala/org/\n",
            "spark-3.1.1-bin-hadoop2.7/examples/src/main/scala/org/apache/\n",
            "spark-3.1.1-bin-hadoop2.7/examples/src/main/scala/org/apache/spark/\n",
            "spark-3.1.1-bin-hadoop2.7/examples/src/main/scala/org/apache/spark/examples/\n",
            "spark-3.1.1-bin-hadoop2.7/examples/src/main/scala/org/apache/spark/examples/SparkPageRank.scala\n",
            "spark-3.1.1-bin-hadoop2.7/examples/src/main/scala/org/apache/spark/examples/SkewedGroupByTest.scala\n",
            "spark-3.1.1-bin-hadoop2.7/examples/src/main/scala/org/apache/spark/examples/AccumulatorMetricsTest.scala\n",
            "spark-3.1.1-bin-hadoop2.7/examples/src/main/scala/org/apache/spark/examples/HdfsTest.scala\n",
            "spark-3.1.1-bin-hadoop2.7/examples/src/main/scala/org/apache/spark/examples/ml/\n",
            "spark-3.1.1-bin-hadoop2.7/examples/src/main/scala/org/apache/spark/examples/ml/Word2VecExample.scala\n",
            "spark-3.1.1-bin-hadoop2.7/examples/src/main/scala/org/apache/spark/examples/ml/DeveloperApiExample.scala\n",
            "spark-3.1.1-bin-hadoop2.7/examples/src/main/scala/org/apache/spark/examples/ml/MinHashLSHExample.scala\n",
            "spark-3.1.1-bin-hadoop2.7/examples/src/main/scala/org/apache/spark/examples/ml/IndexToStringExample.scala\n",
            "spark-3.1.1-bin-hadoop2.7/examples/src/main/scala/org/apache/spark/examples/ml/BisectingKMeansExample.scala\n",
            "spark-3.1.1-bin-hadoop2.7/examples/src/main/scala/org/apache/spark/examples/ml/CorrelationExample.scala\n",
            "spark-3.1.1-bin-hadoop2.7/examples/src/main/scala/org/apache/spark/examples/ml/MulticlassLogisticRegressionWithElasticNetExample.scala\n",
            "spark-3.1.1-bin-hadoop2.7/examples/src/main/scala/org/apache/spark/examples/ml/VectorSizeHintExample.scala\n",
            "spark-3.1.1-bin-hadoop2.7/examples/src/main/scala/org/apache/spark/examples/ml/NGramExample.scala\n",
            "spark-3.1.1-bin-hadoop2.7/examples/src/main/scala/org/apache/spark/examples/ml/BucketedRandomProjectionLSHExample.scala\n",
            "spark-3.1.1-bin-hadoop2.7/examples/src/main/scala/org/apache/spark/examples/ml/BinarizerExample.scala\n",
            "spark-3.1.1-bin-hadoop2.7/examples/src/main/scala/org/apache/spark/examples/ml/RandomForestExample.scala\n",
            "spark-3.1.1-bin-hadoop2.7/examples/src/main/scala/org/apache/spark/examples/ml/StandardScalerExample.scala\n",
            "spark-3.1.1-bin-hadoop2.7/examples/src/main/scala/org/apache/spark/examples/ml/LogisticRegressionExample.scala\n",
            "spark-3.1.1-bin-hadoop2.7/examples/src/main/scala/org/apache/spark/examples/ml/FeatureHasherExample.scala\n",
            "spark-3.1.1-bin-hadoop2.7/examples/src/main/scala/org/apache/spark/examples/ml/OneVsRestExample.scala\n",
            "spark-3.1.1-bin-hadoop2.7/examples/src/main/scala/org/apache/spark/examples/ml/StopWordsRemoverExample.scala\n",
            "spark-3.1.1-bin-hadoop2.7/examples/src/main/scala/org/apache/spark/examples/ml/LinearSVCExample.scala\n",
            "spark-3.1.1-bin-hadoop2.7/examples/src/main/scala/org/apache/spark/examples/ml/GaussianMixtureExample.scala\n",
            "spark-3.1.1-bin-hadoop2.7/examples/src/main/scala/org/apache/spark/examples/ml/MaxAbsScalerExample.scala\n",
            "spark-3.1.1-bin-hadoop2.7/examples/src/main/scala/org/apache/spark/examples/ml/VarianceThresholdSelectorExample.scala\n",
            "spark-3.1.1-bin-hadoop2.7/examples/src/main/scala/org/apache/spark/examples/ml/GBTExample.scala\n",
            "spark-3.1.1-bin-hadoop2.7/examples/src/main/scala/org/apache/spark/examples/ml/IsotonicRegressionExample.scala\n",
            "spark-3.1.1-bin-hadoop2.7/examples/src/main/scala/org/apache/spark/examples/ml/ModelSelectionViaCrossValidationExample.scala\n",
            "spark-3.1.1-bin-hadoop2.7/examples/src/main/scala/org/apache/spark/examples/ml/EstimatorTransformerParamExample.scala\n",
            "spark-3.1.1-bin-hadoop2.7/examples/src/main/scala/org/apache/spark/examples/ml/DecisionTreeRegressionExample.scala\n",
            "spark-3.1.1-bin-hadoop2.7/examples/src/main/scala/org/apache/spark/examples/ml/RandomForestRegressorExample.scala\n",
            "spark-3.1.1-bin-hadoop2.7/examples/src/main/scala/org/apache/spark/examples/ml/PrefixSpanExample.scala\n",
            "spark-3.1.1-bin-hadoop2.7/examples/src/main/scala/org/apache/spark/examples/ml/KMeansExample.scala\n",
            "spark-3.1.1-bin-hadoop2.7/examples/src/main/scala/org/apache/spark/examples/ml/ModelSelectionViaTrainValidationSplitExample.scala\n",
            "spark-3.1.1-bin-hadoop2.7/examples/src/main/scala/org/apache/spark/examples/ml/LogisticRegressionSummaryExample.scala\n",
            "spark-3.1.1-bin-hadoop2.7/examples/src/main/scala/org/apache/spark/examples/ml/MultilayerPerceptronClassifierExample.scala\n",
            "spark-3.1.1-bin-hadoop2.7/examples/src/main/scala/org/apache/spark/examples/ml/PCAExample.scala\n",
            "spark-3.1.1-bin-hadoop2.7/examples/src/main/scala/org/apache/spark/examples/ml/DCTExample.scala\n",
            "spark-3.1.1-bin-hadoop2.7/examples/src/main/scala/org/apache/spark/examples/ml/FPGrowthExample.scala\n",
            "spark-3.1.1-bin-hadoop2.7/examples/src/main/scala/org/apache/spark/examples/ml/ElementwiseProductExample.scala\n",
            "spark-3.1.1-bin-hadoop2.7/examples/src/main/scala/org/apache/spark/examples/ml/GeneralizedLinearRegressionExample.scala\n",
            "spark-3.1.1-bin-hadoop2.7/examples/src/main/scala/org/apache/spark/examples/ml/UnivariateFeatureSelectorExample.scala\n",
            "spark-3.1.1-bin-hadoop2.7/examples/src/main/scala/org/apache/spark/examples/ml/CountVectorizerExample.scala\n",
            "spark-3.1.1-bin-hadoop2.7/examples/src/main/scala/org/apache/spark/examples/ml/MinMaxScalerExample.scala\n",
            "spark-3.1.1-bin-hadoop2.7/examples/src/main/scala/org/apache/spark/examples/ml/ChiSquareTestExample.scala\n",
            "spark-3.1.1-bin-hadoop2.7/examples/src/main/scala/org/apache/spark/examples/ml/LogisticRegressionWithElasticNetExample.scala\n",
            "spark-3.1.1-bin-hadoop2.7/examples/src/main/scala/org/apache/spark/examples/ml/FMRegressorExample.scala\n",
            "spark-3.1.1-bin-hadoop2.7/examples/src/main/scala/org/apache/spark/examples/ml/VectorSlicerExample.scala\n",
            "spark-3.1.1-bin-hadoop2.7/examples/src/main/scala/org/apache/spark/examples/ml/LinearRegressionExample.scala\n",
            "spark-3.1.1-bin-hadoop2.7/examples/src/main/scala/org/apache/spark/examples/ml/StringIndexerExample.scala\n",
            "spark-3.1.1-bin-hadoop2.7/examples/src/main/scala/org/apache/spark/examples/ml/GradientBoostedTreeRegressorExample.scala\n",
            "spark-3.1.1-bin-hadoop2.7/examples/src/main/scala/org/apache/spark/examples/ml/ALSExample.scala\n",
            "spark-3.1.1-bin-hadoop2.7/examples/src/main/scala/org/apache/spark/examples/ml/DecisionTreeClassificationExample.scala\n",
            "spark-3.1.1-bin-hadoop2.7/examples/src/main/scala/org/apache/spark/examples/ml/PolynomialExpansionExample.scala\n",
            "spark-3.1.1-bin-hadoop2.7/examples/src/main/scala/org/apache/spark/examples/ml/FMClassifierExample.scala\n",
            "spark-3.1.1-bin-hadoop2.7/examples/src/main/scala/org/apache/spark/examples/ml/UnaryTransformerExample.scala\n",
            "spark-3.1.1-bin-hadoop2.7/examples/src/main/scala/org/apache/spark/examples/ml/ImputerExample.scala\n",
            "spark-3.1.1-bin-hadoop2.7/examples/src/main/scala/org/apache/spark/examples/ml/TokenizerExample.scala\n",
            "spark-3.1.1-bin-hadoop2.7/examples/src/main/scala/org/apache/spark/examples/ml/DecisionTreeExample.scala\n",
            "spark-3.1.1-bin-hadoop2.7/examples/src/main/scala/org/apache/spark/examples/ml/GradientBoostedTreeClassifierExample.scala\n",
            "spark-3.1.1-bin-hadoop2.7/examples/src/main/scala/org/apache/spark/examples/ml/PowerIterationClusteringExample.scala\n",
            "spark-3.1.1-bin-hadoop2.7/examples/src/main/scala/org/apache/spark/examples/ml/SQLTransformerExample.scala\n",
            "spark-3.1.1-bin-hadoop2.7/examples/src/main/scala/org/apache/spark/examples/ml/SummarizerExample.scala\n",
            "spark-3.1.1-bin-hadoop2.7/examples/src/main/scala/org/apache/spark/examples/ml/DataFrameExample.scala\n",
            "spark-3.1.1-bin-hadoop2.7/examples/src/main/scala/org/apache/spark/examples/ml/BucketizerExample.scala\n",
            "spark-3.1.1-bin-hadoop2.7/examples/src/main/scala/org/apache/spark/examples/ml/TfIdfExample.scala\n",
            "spark-3.1.1-bin-hadoop2.7/examples/src/main/scala/org/apache/spark/examples/ml/AFTSurvivalRegressionExample.scala\n",
            "spark-3.1.1-bin-hadoop2.7/examples/src/main/scala/org/apache/spark/examples/ml/QuantileDiscretizerExample.scala\n",
            "spark-3.1.1-bin-hadoop2.7/examples/src/main/scala/org/apache/spark/examples/ml/OneHotEncoderExample.scala\n",
            "spark-3.1.1-bin-hadoop2.7/examples/src/main/scala/org/apache/spark/examples/ml/PipelineExample.scala\n",
            "spark-3.1.1-bin-hadoop2.7/examples/src/main/scala/org/apache/spark/examples/ml/InteractionExample.scala\n",
            "spark-3.1.1-bin-hadoop2.7/examples/src/main/scala/org/apache/spark/examples/ml/LDAExample.scala\n",
            "spark-3.1.1-bin-hadoop2.7/examples/src/main/scala/org/apache/spark/examples/ml/RFormulaExample.scala\n",
            "spark-3.1.1-bin-hadoop2.7/examples/src/main/scala/org/apache/spark/examples/ml/VectorIndexerExample.scala\n",
            "spark-3.1.1-bin-hadoop2.7/examples/src/main/scala/org/apache/spark/examples/ml/VectorAssemblerExample.scala\n",
            "spark-3.1.1-bin-hadoop2.7/examples/src/main/scala/org/apache/spark/examples/ml/NormalizerExample.scala\n",
            "spark-3.1.1-bin-hadoop2.7/examples/src/main/scala/org/apache/spark/examples/ml/ChiSqSelectorExample.scala\n",
            "spark-3.1.1-bin-hadoop2.7/examples/src/main/scala/org/apache/spark/examples/ml/NaiveBayesExample.scala\n",
            "spark-3.1.1-bin-hadoop2.7/examples/src/main/scala/org/apache/spark/examples/ml/RandomForestClassifierExample.scala\n",
            "spark-3.1.1-bin-hadoop2.7/examples/src/main/scala/org/apache/spark/examples/ml/LinearRegressionWithElasticNetExample.scala\n",
            "spark-3.1.1-bin-hadoop2.7/examples/src/main/scala/org/apache/spark/examples/ml/RobustScalerExample.scala\n",
            "spark-3.1.1-bin-hadoop2.7/examples/src/main/scala/org/apache/spark/examples/LogQuery.scala\n",
            "spark-3.1.1-bin-hadoop2.7/examples/src/main/scala/org/apache/spark/examples/SparkRemoteFileTest.scala\n",
            "spark-3.1.1-bin-hadoop2.7/examples/src/main/scala/org/apache/spark/examples/ExceptionHandlingTest.scala\n",
            "spark-3.1.1-bin-hadoop2.7/examples/src/main/scala/org/apache/spark/examples/pythonconverters/\n",
            "spark-3.1.1-bin-hadoop2.7/examples/src/main/scala/org/apache/spark/examples/pythonconverters/AvroConverters.scala\n",
            "spark-3.1.1-bin-hadoop2.7/examples/src/main/scala/org/apache/spark/examples/BroadcastTest.scala\n",
            "spark-3.1.1-bin-hadoop2.7/examples/src/main/scala/org/apache/spark/examples/SparkHdfsLR.scala\n",
            "spark-3.1.1-bin-hadoop2.7/examples/src/main/scala/org/apache/spark/examples/mllib/\n",
            "spark-3.1.1-bin-hadoop2.7/examples/src/main/scala/org/apache/spark/examples/mllib/Word2VecExample.scala\n",
            "spark-3.1.1-bin-hadoop2.7/examples/src/main/scala/org/apache/spark/examples/mllib/GradientBoostedTreesRunner.scala\n",
            "spark-3.1.1-bin-hadoop2.7/examples/src/main/scala/org/apache/spark/examples/mllib/RandomRDDGeneration.scala\n",
            "spark-3.1.1-bin-hadoop2.7/examples/src/main/scala/org/apache/spark/examples/mllib/PMMLModelExportExample.scala\n",
            "spark-3.1.1-bin-hadoop2.7/examples/src/main/scala/org/apache/spark/examples/mllib/BisectingKMeansExample.scala\n",
            "spark-3.1.1-bin-hadoop2.7/examples/src/main/scala/org/apache/spark/examples/mllib/DecisionTreeRunner.scala\n",
            "spark-3.1.1-bin-hadoop2.7/examples/src/main/scala/org/apache/spark/examples/mllib/MultiLabelMetricsExample.scala\n",
            "spark-3.1.1-bin-hadoop2.7/examples/src/main/scala/org/apache/spark/examples/mllib/CorrelationsExample.scala\n",
            "spark-3.1.1-bin-hadoop2.7/examples/src/main/scala/org/apache/spark/examples/mllib/LBFGSExample.scala\n",
            "spark-3.1.1-bin-hadoop2.7/examples/src/main/scala/org/apache/spark/examples/mllib/TFIDFExample.scala\n",
            "spark-3.1.1-bin-hadoop2.7/examples/src/main/scala/org/apache/spark/examples/mllib/StandardScalerExample.scala\n",
            "spark-3.1.1-bin-hadoop2.7/examples/src/main/scala/org/apache/spark/examples/mllib/LogisticRegressionWithLBFGSExample.scala\n",
            "spark-3.1.1-bin-hadoop2.7/examples/src/main/scala/org/apache/spark/examples/mllib/StreamingTestExample.scala\n",
            "spark-3.1.1-bin-hadoop2.7/examples/src/main/scala/org/apache/spark/examples/mllib/BinaryClassification.scala\n",
            "spark-3.1.1-bin-hadoop2.7/examples/src/main/scala/org/apache/spark/examples/mllib/DenseKMeans.scala\n",
            "spark-3.1.1-bin-hadoop2.7/examples/src/main/scala/org/apache/spark/examples/mllib/GradientBoostingClassificationExample.scala\n",
            "spark-3.1.1-bin-hadoop2.7/examples/src/main/scala/org/apache/spark/examples/mllib/RankingMetricsExample.scala\n",
            "spark-3.1.1-bin-hadoop2.7/examples/src/main/scala/org/apache/spark/examples/mllib/GaussianMixtureExample.scala\n",
            "spark-3.1.1-bin-hadoop2.7/examples/src/main/scala/org/apache/spark/examples/mllib/MultivariateSummarizer.scala\n",
            "spark-3.1.1-bin-hadoop2.7/examples/src/main/scala/org/apache/spark/examples/mllib/IsotonicRegressionExample.scala\n",
            "spark-3.1.1-bin-hadoop2.7/examples/src/main/scala/org/apache/spark/examples/mllib/PCAOnSourceVectorExample.scala\n",
            "spark-3.1.1-bin-hadoop2.7/examples/src/main/scala/org/apache/spark/examples/mllib/Correlations.scala\n",
            "spark-3.1.1-bin-hadoop2.7/examples/src/main/scala/org/apache/spark/examples/mllib/HypothesisTestingExample.scala\n",
            "spark-3.1.1-bin-hadoop2.7/examples/src/main/scala/org/apache/spark/examples/mllib/DecisionTreeRegressionExample.scala\n",
            "spark-3.1.1-bin-hadoop2.7/examples/src/main/scala/org/apache/spark/examples/mllib/AssociationRulesExample.scala\n",
            "spark-3.1.1-bin-hadoop2.7/examples/src/main/scala/org/apache/spark/examples/mllib/StreamingLogisticRegression.scala\n",
            "spark-3.1.1-bin-hadoop2.7/examples/src/main/scala/org/apache/spark/examples/mllib/SVDExample.scala\n",
            "spark-3.1.1-bin-hadoop2.7/examples/src/main/scala/org/apache/spark/examples/mllib/PrefixSpanExample.scala\n",
            "spark-3.1.1-bin-hadoop2.7/examples/src/main/scala/org/apache/spark/examples/mllib/KMeansExample.scala\n",
            "spark-3.1.1-bin-hadoop2.7/examples/src/main/scala/org/apache/spark/examples/mllib/SparseNaiveBayes.scala\n",
            "spark-3.1.1-bin-hadoop2.7/examples/src/main/scala/org/apache/spark/examples/mllib/AbstractParams.scala\n",
            "spark-3.1.1-bin-hadoop2.7/examples/src/main/scala/org/apache/spark/examples/mllib/BinaryClassificationMetricsExample.scala\n",
            "spark-3.1.1-bin-hadoop2.7/examples/src/main/scala/org/apache/spark/examples/mllib/SampledRDDs.scala\n",
            "spark-3.1.1-bin-hadoop2.7/examples/src/main/scala/org/apache/spark/examples/mllib/FPGrowthExample.scala\n",
            "spark-3.1.1-bin-hadoop2.7/examples/src/main/scala/org/apache/spark/examples/mllib/ElementwiseProductExample.scala\n",
            "spark-3.1.1-bin-hadoop2.7/examples/src/main/scala/org/apache/spark/examples/mllib/RecommendationExample.scala\n",
            "spark-3.1.1-bin-hadoop2.7/examples/src/main/scala/org/apache/spark/examples/mllib/TallSkinnySVD.scala\n",
            "spark-3.1.1-bin-hadoop2.7/examples/src/main/scala/org/apache/spark/examples/mllib/HypothesisTestingKolmogorovSmirnovTestExample.scala\n",
            "spark-3.1.1-bin-hadoop2.7/examples/src/main/scala/org/apache/spark/examples/mllib/GradientBoostingRegressionExample.scala\n",
            "spark-3.1.1-bin-hadoop2.7/examples/src/main/scala/org/apache/spark/examples/mllib/StreamingKMeansExample.scala\n",
            "spark-3.1.1-bin-hadoop2.7/examples/src/main/scala/org/apache/spark/examples/mllib/CosineSimilarity.scala\n",
            "spark-3.1.1-bin-hadoop2.7/examples/src/main/scala/org/apache/spark/examples/mllib/RandomForestRegressionExample.scala\n",
            "spark-3.1.1-bin-hadoop2.7/examples/src/main/scala/org/apache/spark/examples/mllib/StreamingLinearRegressionExample.scala\n",
            "spark-3.1.1-bin-hadoop2.7/examples/src/main/scala/org/apache/spark/examples/mllib/StratifiedSamplingExample.scala\n",
            "spark-3.1.1-bin-hadoop2.7/examples/src/main/scala/org/apache/spark/examples/mllib/DecisionTreeClassificationExample.scala\n",
            "spark-3.1.1-bin-hadoop2.7/examples/src/main/scala/org/apache/spark/examples/mllib/TallSkinnyPCA.scala\n",
            "spark-3.1.1-bin-hadoop2.7/examples/src/main/scala/org/apache/spark/examples/mllib/RandomForestClassificationExample.scala\n",
            "spark-3.1.1-bin-hadoop2.7/examples/src/main/scala/org/apache/spark/examples/mllib/SimpleFPGrowth.scala\n",
            "spark-3.1.1-bin-hadoop2.7/examples/src/main/scala/org/apache/spark/examples/mllib/LatentDirichletAllocationExample.scala\n",
            "spark-3.1.1-bin-hadoop2.7/examples/src/main/scala/org/apache/spark/examples/mllib/KernelDensityEstimationExample.scala\n",
            "spark-3.1.1-bin-hadoop2.7/examples/src/main/scala/org/apache/spark/examples/mllib/PowerIterationClusteringExample.scala\n",
            "spark-3.1.1-bin-hadoop2.7/examples/src/main/scala/org/apache/spark/examples/mllib/SVMWithSGDExample.scala\n",
            "spark-3.1.1-bin-hadoop2.7/examples/src/main/scala/org/apache/spark/examples/mllib/LDAExample.scala\n",
            "spark-3.1.1-bin-hadoop2.7/examples/src/main/scala/org/apache/spark/examples/mllib/MovieLensALS.scala\n",
            "spark-3.1.1-bin-hadoop2.7/examples/src/main/scala/org/apache/spark/examples/mllib/NormalizerExample.scala\n",
            "spark-3.1.1-bin-hadoop2.7/examples/src/main/scala/org/apache/spark/examples/mllib/MulticlassMetricsExample.scala\n",
            "spark-3.1.1-bin-hadoop2.7/examples/src/main/scala/org/apache/spark/examples/mllib/ChiSqSelectorExample.scala\n",
            "spark-3.1.1-bin-hadoop2.7/examples/src/main/scala/org/apache/spark/examples/mllib/SummaryStatisticsExample.scala\n",
            "spark-3.1.1-bin-hadoop2.7/examples/src/main/scala/org/apache/spark/examples/mllib/PCAOnRowMatrixExample.scala\n",
            "spark-3.1.1-bin-hadoop2.7/examples/src/main/scala/org/apache/spark/examples/mllib/NaiveBayesExample.scala\n",
            "spark-3.1.1-bin-hadoop2.7/examples/src/main/scala/org/apache/spark/examples/SparkTC.scala\n",
            "spark-3.1.1-bin-hadoop2.7/examples/src/main/scala/org/apache/spark/examples/DriverSubmissionTest.scala\n",
            "spark-3.1.1-bin-hadoop2.7/examples/src/main/scala/org/apache/spark/examples/MultiBroadcastTest.scala\n",
            "spark-3.1.1-bin-hadoop2.7/examples/src/main/scala/org/apache/spark/examples/SparkLR.scala\n",
            "spark-3.1.1-bin-hadoop2.7/examples/src/main/scala/org/apache/spark/examples/SparkPi.scala\n",
            "spark-3.1.1-bin-hadoop2.7/examples/src/main/scala/org/apache/spark/examples/graphx/\n",
            "spark-3.1.1-bin-hadoop2.7/examples/src/main/scala/org/apache/spark/examples/graphx/ConnectedComponentsExample.scala\n",
            "spark-3.1.1-bin-hadoop2.7/examples/src/main/scala/org/apache/spark/examples/graphx/LiveJournalPageRank.scala\n",
            "spark-3.1.1-bin-hadoop2.7/examples/src/main/scala/org/apache/spark/examples/graphx/AggregateMessagesExample.scala\n",
            "spark-3.1.1-bin-hadoop2.7/examples/src/main/scala/org/apache/spark/examples/graphx/SSSPExample.scala\n",
            "spark-3.1.1-bin-hadoop2.7/examples/src/main/scala/org/apache/spark/examples/graphx/SynthBenchmark.scala\n",
            "spark-3.1.1-bin-hadoop2.7/examples/src/main/scala/org/apache/spark/examples/graphx/TriangleCountingExample.scala\n",
            "spark-3.1.1-bin-hadoop2.7/examples/src/main/scala/org/apache/spark/examples/graphx/PageRankExample.scala\n",
            "spark-3.1.1-bin-hadoop2.7/examples/src/main/scala/org/apache/spark/examples/graphx/ComprehensiveExample.scala\n",
            "spark-3.1.1-bin-hadoop2.7/examples/src/main/scala/org/apache/spark/examples/graphx/Analytics.scala\n",
            "spark-3.1.1-bin-hadoop2.7/examples/src/main/scala/org/apache/spark/examples/SparkKMeans.scala\n",
            "spark-3.1.1-bin-hadoop2.7/examples/src/main/scala/org/apache/spark/examples/streaming/\n",
            "spark-3.1.1-bin-hadoop2.7/examples/src/main/scala/org/apache/spark/examples/streaming/clickstream/\n",
            "spark-3.1.1-bin-hadoop2.7/examples/src/main/scala/org/apache/spark/examples/streaming/clickstream/PageViewGenerator.scala\n",
            "spark-3.1.1-bin-hadoop2.7/examples/src/main/scala/org/apache/spark/examples/streaming/clickstream/PageViewStream.scala\n",
            "spark-3.1.1-bin-hadoop2.7/examples/src/main/scala/org/apache/spark/examples/streaming/DirectKafkaWordCount.scala\n",
            "spark-3.1.1-bin-hadoop2.7/examples/src/main/scala/org/apache/spark/examples/streaming/HdfsWordCount.scala\n",
            "spark-3.1.1-bin-hadoop2.7/examples/src/main/scala/org/apache/spark/examples/streaming/DirectKerberizedKafkaWordCount.scala\n",
            "spark-3.1.1-bin-hadoop2.7/examples/src/main/scala/org/apache/spark/examples/streaming/RecoverableNetworkWordCount.scala\n",
            "spark-3.1.1-bin-hadoop2.7/examples/src/main/scala/org/apache/spark/examples/streaming/NetworkWordCount.scala\n",
            "spark-3.1.1-bin-hadoop2.7/examples/src/main/scala/org/apache/spark/examples/streaming/QueueStream.scala\n",
            "spark-3.1.1-bin-hadoop2.7/examples/src/main/scala/org/apache/spark/examples/streaming/SqlNetworkWordCount.scala\n",
            "spark-3.1.1-bin-hadoop2.7/examples/src/main/scala/org/apache/spark/examples/streaming/CustomReceiver.scala\n",
            "spark-3.1.1-bin-hadoop2.7/examples/src/main/scala/org/apache/spark/examples/streaming/RawNetworkGrep.scala\n",
            "spark-3.1.1-bin-hadoop2.7/examples/src/main/scala/org/apache/spark/examples/streaming/StatefulNetworkWordCount.scala\n",
            "spark-3.1.1-bin-hadoop2.7/examples/src/main/scala/org/apache/spark/examples/streaming/StreamingExamples.scala\n",
            "spark-3.1.1-bin-hadoop2.7/examples/src/main/scala/org/apache/spark/examples/LocalLR.scala\n",
            "spark-3.1.1-bin-hadoop2.7/examples/src/main/scala/org/apache/spark/examples/LocalKMeans.scala\n",
            "spark-3.1.1-bin-hadoop2.7/examples/src/main/scala/org/apache/spark/examples/GroupByTest.scala\n",
            "spark-3.1.1-bin-hadoop2.7/examples/src/main/scala/org/apache/spark/examples/LocalALS.scala\n",
            "spark-3.1.1-bin-hadoop2.7/examples/src/main/scala/org/apache/spark/examples/sql/\n",
            "spark-3.1.1-bin-hadoop2.7/examples/src/main/scala/org/apache/spark/examples/sql/SimpleTypedAggregator.scala\n",
            "spark-3.1.1-bin-hadoop2.7/examples/src/main/scala/org/apache/spark/examples/sql/UserDefinedUntypedAggregation.scala\n",
            "spark-3.1.1-bin-hadoop2.7/examples/src/main/scala/org/apache/spark/examples/sql/hive/\n",
            "spark-3.1.1-bin-hadoop2.7/examples/src/main/scala/org/apache/spark/examples/sql/hive/SparkHiveExample.scala\n",
            "spark-3.1.1-bin-hadoop2.7/examples/src/main/scala/org/apache/spark/examples/sql/RDDRelation.scala\n",
            "spark-3.1.1-bin-hadoop2.7/examples/src/main/scala/org/apache/spark/examples/sql/SparkSQLExample.scala\n",
            "spark-3.1.1-bin-hadoop2.7/examples/src/main/scala/org/apache/spark/examples/sql/SQLDataSourceExample.scala\n",
            "spark-3.1.1-bin-hadoop2.7/examples/src/main/scala/org/apache/spark/examples/sql/streaming/\n",
            "spark-3.1.1-bin-hadoop2.7/examples/src/main/scala/org/apache/spark/examples/sql/streaming/StructuredKerberizedKafkaWordCount.scala\n",
            "spark-3.1.1-bin-hadoop2.7/examples/src/main/scala/org/apache/spark/examples/sql/streaming/StructuredNetworkWordCount.scala\n",
            "spark-3.1.1-bin-hadoop2.7/examples/src/main/scala/org/apache/spark/examples/sql/streaming/StructuredNetworkWordCountWindowed.scala\n",
            "spark-3.1.1-bin-hadoop2.7/examples/src/main/scala/org/apache/spark/examples/sql/streaming/StructuredKafkaWordCount.scala\n",
            "spark-3.1.1-bin-hadoop2.7/examples/src/main/scala/org/apache/spark/examples/sql/streaming/StructuredSessionization.scala\n",
            "spark-3.1.1-bin-hadoop2.7/examples/src/main/scala/org/apache/spark/examples/sql/UserDefinedTypedAggregation.scala\n",
            "spark-3.1.1-bin-hadoop2.7/examples/src/main/scala/org/apache/spark/examples/sql/UserDefinedScalar.scala\n",
            "spark-3.1.1-bin-hadoop2.7/examples/src/main/scala/org/apache/spark/examples/SimpleSkewedGroupByTest.scala\n",
            "spark-3.1.1-bin-hadoop2.7/examples/src/main/scala/org/apache/spark/examples/LocalFileLR.scala\n",
            "spark-3.1.1-bin-hadoop2.7/examples/src/main/scala/org/apache/spark/examples/LocalPi.scala\n",
            "spark-3.1.1-bin-hadoop2.7/examples/src/main/scala/org/apache/spark/examples/DFSReadWriteTest.scala\n",
            "spark-3.1.1-bin-hadoop2.7/examples/src/main/scala/org/apache/spark/examples/SparkALS.scala\n",
            "spark-3.1.1-bin-hadoop2.7/examples/src/main/resources/\n",
            "spark-3.1.1-bin-hadoop2.7/examples/src/main/resources/people.json\n",
            "spark-3.1.1-bin-hadoop2.7/examples/src/main/resources/users.avro\n",
            "spark-3.1.1-bin-hadoop2.7/examples/src/main/resources/people.csv\n",
            "spark-3.1.1-bin-hadoop2.7/examples/src/main/resources/users.parquet\n",
            "spark-3.1.1-bin-hadoop2.7/examples/src/main/resources/users.orc\n",
            "spark-3.1.1-bin-hadoop2.7/examples/src/main/resources/dir1/\n",
            "spark-3.1.1-bin-hadoop2.7/examples/src/main/resources/dir1/file1.parquet\n",
            "spark-3.1.1-bin-hadoop2.7/examples/src/main/resources/dir1/dir2/\n",
            "spark-3.1.1-bin-hadoop2.7/examples/src/main/resources/dir1/dir2/file2.parquet\n",
            "spark-3.1.1-bin-hadoop2.7/examples/src/main/resources/dir1/file3.json\n",
            "spark-3.1.1-bin-hadoop2.7/examples/src/main/resources/user.avsc\n",
            "spark-3.1.1-bin-hadoop2.7/examples/src/main/resources/full_user.avsc\n",
            "spark-3.1.1-bin-hadoop2.7/examples/src/main/resources/kv1.txt\n",
            "spark-3.1.1-bin-hadoop2.7/examples/src/main/resources/people.txt\n",
            "spark-3.1.1-bin-hadoop2.7/examples/src/main/resources/employees.json\n",
            "spark-3.1.1-bin-hadoop2.7/examples/src/main/java/\n",
            "spark-3.1.1-bin-hadoop2.7/examples/src/main/java/org/\n",
            "spark-3.1.1-bin-hadoop2.7/examples/src/main/java/org/apache/\n",
            "spark-3.1.1-bin-hadoop2.7/examples/src/main/java/org/apache/spark/\n",
            "spark-3.1.1-bin-hadoop2.7/examples/src/main/java/org/apache/spark/examples/\n",
            "spark-3.1.1-bin-hadoop2.7/examples/src/main/java/org/apache/spark/examples/ml/\n",
            "spark-3.1.1-bin-hadoop2.7/examples/src/main/java/org/apache/spark/examples/ml/JavaStringIndexerExample.java\n",
            "spark-3.1.1-bin-hadoop2.7/examples/src/main/java/org/apache/spark/examples/ml/JavaChiSqSelectorExample.java\n",
            "spark-3.1.1-bin-hadoop2.7/examples/src/main/java/org/apache/spark/examples/ml/JavaLabeledDocument.java\n",
            "spark-3.1.1-bin-hadoop2.7/examples/src/main/java/org/apache/spark/examples/ml/JavaLogisticRegressionWithElasticNetExample.java\n",
            "spark-3.1.1-bin-hadoop2.7/examples/src/main/java/org/apache/spark/examples/ml/JavaPolynomialExpansionExample.java\n",
            "spark-3.1.1-bin-hadoop2.7/examples/src/main/java/org/apache/spark/examples/ml/JavaTfIdfExample.java\n",
            "spark-3.1.1-bin-hadoop2.7/examples/src/main/java/org/apache/spark/examples/ml/JavaBucketizerExample.java\n",
            "spark-3.1.1-bin-hadoop2.7/examples/src/main/java/org/apache/spark/examples/ml/JavaLogisticRegressionSummaryExample.java\n",
            "spark-3.1.1-bin-hadoop2.7/examples/src/main/java/org/apache/spark/examples/ml/JavaSummarizerExample.java\n",
            "spark-3.1.1-bin-hadoop2.7/examples/src/main/java/org/apache/spark/examples/ml/JavaQuantileDiscretizerExample.java\n",
            "spark-3.1.1-bin-hadoop2.7/examples/src/main/java/org/apache/spark/examples/ml/JavaBinarizerExample.java\n",
            "spark-3.1.1-bin-hadoop2.7/examples/src/main/java/org/apache/spark/examples/ml/JavaOneHotEncoderExample.java\n",
            "spark-3.1.1-bin-hadoop2.7/examples/src/main/java/org/apache/spark/examples/ml/JavaStandardScalerExample.java\n",
            "spark-3.1.1-bin-hadoop2.7/examples/src/main/java/org/apache/spark/examples/ml/JavaDCTExample.java\n",
            "spark-3.1.1-bin-hadoop2.7/examples/src/main/java/org/apache/spark/examples/ml/JavaDecisionTreeRegressionExample.java\n",
            "spark-3.1.1-bin-hadoop2.7/examples/src/main/java/org/apache/spark/examples/ml/JavaRandomForestClassifierExample.java\n",
            "spark-3.1.1-bin-hadoop2.7/examples/src/main/java/org/apache/spark/examples/ml/JavaOneVsRestExample.java\n",
            "spark-3.1.1-bin-hadoop2.7/examples/src/main/java/org/apache/spark/examples/ml/JavaGeneralizedLinearRegressionExample.java\n",
            "spark-3.1.1-bin-hadoop2.7/examples/src/main/java/org/apache/spark/examples/ml/JavaGaussianMixtureExample.java\n",
            "spark-3.1.1-bin-hadoop2.7/examples/src/main/java/org/apache/spark/examples/ml/JavaWord2VecExample.java\n",
            "spark-3.1.1-bin-hadoop2.7/examples/src/main/java/org/apache/spark/examples/ml/JavaNormalizerExample.java\n",
            "spark-3.1.1-bin-hadoop2.7/examples/src/main/java/org/apache/spark/examples/ml/JavaLDAExample.java\n",
            "spark-3.1.1-bin-hadoop2.7/examples/src/main/java/org/apache/spark/examples/ml/JavaCountVectorizerExample.java\n",
            "spark-3.1.1-bin-hadoop2.7/examples/src/main/java/org/apache/spark/examples/ml/JavaMultilayerPerceptronClassifierExample.java\n",
            "spark-3.1.1-bin-hadoop2.7/examples/src/main/java/org/apache/spark/examples/ml/JavaMinMaxScalerExample.java\n",
            "spark-3.1.1-bin-hadoop2.7/examples/src/main/java/org/apache/spark/examples/ml/JavaCorrelationExample.java\n",
            "spark-3.1.1-bin-hadoop2.7/examples/src/main/java/org/apache/spark/examples/ml/JavaNGramExample.java\n",
            "spark-3.1.1-bin-hadoop2.7/examples/src/main/java/org/apache/spark/examples/ml/JavaImputerExample.java\n",
            "spark-3.1.1-bin-hadoop2.7/examples/src/main/java/org/apache/spark/examples/ml/JavaMinHashLSHExample.java\n",
            "spark-3.1.1-bin-hadoop2.7/examples/src/main/java/org/apache/spark/examples/ml/JavaVectorSizeHintExample.java\n",
            "spark-3.1.1-bin-hadoop2.7/examples/src/main/java/org/apache/spark/examples/ml/JavaFMClassifierExample.java\n",
            "spark-3.1.1-bin-hadoop2.7/examples/src/main/java/org/apache/spark/examples/ml/JavaFeatureHasherExample.java\n",
            "spark-3.1.1-bin-hadoop2.7/examples/src/main/java/org/apache/spark/examples/ml/JavaModelSelectionViaTrainValidationSplitExample.java\n",
            "spark-3.1.1-bin-hadoop2.7/examples/src/main/java/org/apache/spark/examples/ml/JavaSQLTransformerExample.java\n",
            "spark-3.1.1-bin-hadoop2.7/examples/src/main/java/org/apache/spark/examples/ml/JavaKMeansExample.java\n",
            "spark-3.1.1-bin-hadoop2.7/examples/src/main/java/org/apache/spark/examples/ml/JavaVectorAssemblerExample.java\n",
            "spark-3.1.1-bin-hadoop2.7/examples/src/main/java/org/apache/spark/examples/ml/JavaGradientBoostedTreeRegressorExample.java\n",
            "spark-3.1.1-bin-hadoop2.7/examples/src/main/java/org/apache/spark/examples/ml/JavaPrefixSpanExample.java\n",
            "spark-3.1.1-bin-hadoop2.7/examples/src/main/java/org/apache/spark/examples/ml/JavaFMRegressorExample.java\n",
            "spark-3.1.1-bin-hadoop2.7/examples/src/main/java/org/apache/spark/examples/ml/JavaNaiveBayesExample.java\n",
            "spark-3.1.1-bin-hadoop2.7/examples/src/main/java/org/apache/spark/examples/ml/JavaMulticlassLogisticRegressionWithElasticNetExample.java\n",
            "spark-3.1.1-bin-hadoop2.7/examples/src/main/java/org/apache/spark/examples/ml/JavaModelSelectionViaCrossValidationExample.java\n",
            "spark-3.1.1-bin-hadoop2.7/examples/src/main/java/org/apache/spark/examples/ml/JavaDocument.java\n",
            "spark-3.1.1-bin-hadoop2.7/examples/src/main/java/org/apache/spark/examples/ml/JavaUnivariateFeatureSelectorExample.java\n",
            "spark-3.1.1-bin-hadoop2.7/examples/src/main/java/org/apache/spark/examples/ml/JavaGradientBoostedTreeClassifierExample.java\n",
            "spark-3.1.1-bin-hadoop2.7/examples/src/main/java/org/apache/spark/examples/ml/JavaRandomForestRegressorExample.java\n",
            "spark-3.1.1-bin-hadoop2.7/examples/src/main/java/org/apache/spark/examples/ml/JavaAFTSurvivalRegressionExample.java\n",
            "spark-3.1.1-bin-hadoop2.7/examples/src/main/java/org/apache/spark/examples/ml/JavaIsotonicRegressionExample.java\n",
            "spark-3.1.1-bin-hadoop2.7/examples/src/main/java/org/apache/spark/examples/ml/JavaElementwiseProductExample.java\n",
            "spark-3.1.1-bin-hadoop2.7/examples/src/main/java/org/apache/spark/examples/ml/JavaALSExample.java\n",
            "spark-3.1.1-bin-hadoop2.7/examples/src/main/java/org/apache/spark/examples/ml/JavaBucketedRandomProjectionLSHExample.java\n",
            "spark-3.1.1-bin-hadoop2.7/examples/src/main/java/org/apache/spark/examples/ml/JavaVarianceThresholdSelectorExample.java\n",
            "spark-3.1.1-bin-hadoop2.7/examples/src/main/java/org/apache/spark/examples/ml/JavaVectorSlicerExample.java\n",
            "spark-3.1.1-bin-hadoop2.7/examples/src/main/java/org/apache/spark/examples/ml/JavaTokenizerExample.java\n",
            "spark-3.1.1-bin-hadoop2.7/examples/src/main/java/org/apache/spark/examples/ml/JavaRFormulaExample.java\n",
            "spark-3.1.1-bin-hadoop2.7/examples/src/main/java/org/apache/spark/examples/ml/JavaEstimatorTransformerParamExample.java\n",
            "spark-3.1.1-bin-hadoop2.7/examples/src/main/java/org/apache/spark/examples/ml/JavaPowerIterationClusteringExample.java\n",
            "spark-3.1.1-bin-hadoop2.7/examples/src/main/java/org/apache/spark/examples/ml/JavaBisectingKMeansExample.java\n",
            "spark-3.1.1-bin-hadoop2.7/examples/src/main/java/org/apache/spark/examples/ml/JavaMaxAbsScalerExample.java\n",
            "spark-3.1.1-bin-hadoop2.7/examples/src/main/java/org/apache/spark/examples/ml/JavaDecisionTreeClassificationExample.java\n",
            "spark-3.1.1-bin-hadoop2.7/examples/src/main/java/org/apache/spark/examples/ml/JavaPCAExample.java\n",
            "spark-3.1.1-bin-hadoop2.7/examples/src/main/java/org/apache/spark/examples/ml/JavaPipelineExample.java\n",
            "spark-3.1.1-bin-hadoop2.7/examples/src/main/java/org/apache/spark/examples/ml/JavaStopWordsRemoverExample.java\n",
            "spark-3.1.1-bin-hadoop2.7/examples/src/main/java/org/apache/spark/examples/ml/JavaIndexToStringExample.java\n",
            "spark-3.1.1-bin-hadoop2.7/examples/src/main/java/org/apache/spark/examples/ml/JavaFPGrowthExample.java\n",
            "spark-3.1.1-bin-hadoop2.7/examples/src/main/java/org/apache/spark/examples/ml/JavaVectorIndexerExample.java\n",
            "spark-3.1.1-bin-hadoop2.7/examples/src/main/java/org/apache/spark/examples/ml/JavaInteractionExample.java\n",
            "spark-3.1.1-bin-hadoop2.7/examples/src/main/java/org/apache/spark/examples/ml/JavaChiSquareTestExample.java\n",
            "spark-3.1.1-bin-hadoop2.7/examples/src/main/java/org/apache/spark/examples/ml/JavaRobustScalerExample.java\n",
            "spark-3.1.1-bin-hadoop2.7/examples/src/main/java/org/apache/spark/examples/ml/JavaLinearRegressionWithElasticNetExample.java\n",
            "spark-3.1.1-bin-hadoop2.7/examples/src/main/java/org/apache/spark/examples/ml/JavaLinearSVCExample.java\n",
            "spark-3.1.1-bin-hadoop2.7/examples/src/main/java/org/apache/spark/examples/JavaWordCount.java\n",
            "spark-3.1.1-bin-hadoop2.7/examples/src/main/java/org/apache/spark/examples/JavaHdfsLR.java\n",
            "spark-3.1.1-bin-hadoop2.7/examples/src/main/java/org/apache/spark/examples/JavaStatusTrackerDemo.java\n",
            "spark-3.1.1-bin-hadoop2.7/examples/src/main/java/org/apache/spark/examples/mllib/\n",
            "spark-3.1.1-bin-hadoop2.7/examples/src/main/java/org/apache/spark/examples/mllib/JavaChiSqSelectorExample.java\n",
            "spark-3.1.1-bin-hadoop2.7/examples/src/main/java/org/apache/spark/examples/mllib/JavaHypothesisTestingKolmogorovSmirnovTestExample.java\n",
            "spark-3.1.1-bin-hadoop2.7/examples/src/main/java/org/apache/spark/examples/mllib/JavaRandomForestRegressionExample.java\n",
            "spark-3.1.1-bin-hadoop2.7/examples/src/main/java/org/apache/spark/examples/mllib/JavaSimpleFPGrowth.java\n",
            "spark-3.1.1-bin-hadoop2.7/examples/src/main/java/org/apache/spark/examples/mllib/JavaRandomForestClassificationExample.java\n",
            "spark-3.1.1-bin-hadoop2.7/examples/src/main/java/org/apache/spark/examples/mllib/JavaMulticlassClassificationMetricsExample.java\n",
            "spark-3.1.1-bin-hadoop2.7/examples/src/main/java/org/apache/spark/examples/mllib/JavaKernelDensityEstimationExample.java\n",
            "spark-3.1.1-bin-hadoop2.7/examples/src/main/java/org/apache/spark/examples/mllib/JavaSummaryStatisticsExample.java\n",
            "spark-3.1.1-bin-hadoop2.7/examples/src/main/java/org/apache/spark/examples/mllib/JavaDecisionTreeRegressionExample.java\n",
            "spark-3.1.1-bin-hadoop2.7/examples/src/main/java/org/apache/spark/examples/mllib/JavaGradientBoostingClassificationExample.java\n",
            "spark-3.1.1-bin-hadoop2.7/examples/src/main/java/org/apache/spark/examples/mllib/JavaGaussianMixtureExample.java\n",
            "spark-3.1.1-bin-hadoop2.7/examples/src/main/java/org/apache/spark/examples/mllib/JavaStratifiedSamplingExample.java\n",
            "spark-3.1.1-bin-hadoop2.7/examples/src/main/java/org/apache/spark/examples/mllib/JavaSVDExample.java\n",
            "spark-3.1.1-bin-hadoop2.7/examples/src/main/java/org/apache/spark/examples/mllib/JavaAssociationRulesExample.java\n",
            "spark-3.1.1-bin-hadoop2.7/examples/src/main/java/org/apache/spark/examples/mllib/JavaALS.java\n",
            "spark-3.1.1-bin-hadoop2.7/examples/src/main/java/org/apache/spark/examples/mllib/JavaKMeansExample.java\n",
            "spark-3.1.1-bin-hadoop2.7/examples/src/main/java/org/apache/spark/examples/mllib/JavaSVMWithSGDExample.java\n",
            "spark-3.1.1-bin-hadoop2.7/examples/src/main/java/org/apache/spark/examples/mllib/JavaPrefixSpanExample.java\n",
            "spark-3.1.1-bin-hadoop2.7/examples/src/main/java/org/apache/spark/examples/mllib/JavaNaiveBayesExample.java\n",
            "spark-3.1.1-bin-hadoop2.7/examples/src/main/java/org/apache/spark/examples/mllib/JavaLogisticRegressionWithLBFGSExample.java\n",
            "spark-3.1.1-bin-hadoop2.7/examples/src/main/java/org/apache/spark/examples/mllib/JavaLBFGSExample.java\n",
            "spark-3.1.1-bin-hadoop2.7/examples/src/main/java/org/apache/spark/examples/mllib/JavaGradientBoostingRegressionExample.java\n",
            "spark-3.1.1-bin-hadoop2.7/examples/src/main/java/org/apache/spark/examples/mllib/JavaRankingMetricsExample.java\n",
            "spark-3.1.1-bin-hadoop2.7/examples/src/main/java/org/apache/spark/examples/mllib/JavaIsotonicRegressionExample.java\n",
            "spark-3.1.1-bin-hadoop2.7/examples/src/main/java/org/apache/spark/examples/mllib/JavaElementwiseProductExample.java\n",
            "spark-3.1.1-bin-hadoop2.7/examples/src/main/java/org/apache/spark/examples/mllib/JavaCorrelationsExample.java\n",
            "spark-3.1.1-bin-hadoop2.7/examples/src/main/java/org/apache/spark/examples/mllib/JavaPowerIterationClusteringExample.java\n",
            "spark-3.1.1-bin-hadoop2.7/examples/src/main/java/org/apache/spark/examples/mllib/JavaBisectingKMeansExample.java\n",
            "spark-3.1.1-bin-hadoop2.7/examples/src/main/java/org/apache/spark/examples/mllib/JavaDecisionTreeClassificationExample.java\n",
            "spark-3.1.1-bin-hadoop2.7/examples/src/main/java/org/apache/spark/examples/mllib/JavaPCAExample.java\n",
            "spark-3.1.1-bin-hadoop2.7/examples/src/main/java/org/apache/spark/examples/mllib/JavaRecommendationExample.java\n",
            "spark-3.1.1-bin-hadoop2.7/examples/src/main/java/org/apache/spark/examples/mllib/JavaLatentDirichletAllocationExample.java\n",
            "spark-3.1.1-bin-hadoop2.7/examples/src/main/java/org/apache/spark/examples/mllib/JavaHypothesisTestingExample.java\n",
            "spark-3.1.1-bin-hadoop2.7/examples/src/main/java/org/apache/spark/examples/mllib/JavaMultiLabelClassificationMetricsExample.java\n",
            "spark-3.1.1-bin-hadoop2.7/examples/src/main/java/org/apache/spark/examples/mllib/JavaBinaryClassificationMetricsExample.java\n",
            "spark-3.1.1-bin-hadoop2.7/examples/src/main/java/org/apache/spark/examples/mllib/JavaStreamingTestExample.java\n",
            "spark-3.1.1-bin-hadoop2.7/examples/src/main/java/org/apache/spark/examples/JavaPageRank.java\n",
            "spark-3.1.1-bin-hadoop2.7/examples/src/main/java/org/apache/spark/examples/JavaLogQuery.java\n",
            "spark-3.1.1-bin-hadoop2.7/examples/src/main/java/org/apache/spark/examples/streaming/\n",
            "spark-3.1.1-bin-hadoop2.7/examples/src/main/java/org/apache/spark/examples/streaming/JavaStatefulNetworkWordCount.java\n",
            "spark-3.1.1-bin-hadoop2.7/examples/src/main/java/org/apache/spark/examples/streaming/JavaCustomReceiver.java\n",
            "spark-3.1.1-bin-hadoop2.7/examples/src/main/java/org/apache/spark/examples/streaming/JavaRecord.java\n",
            "spark-3.1.1-bin-hadoop2.7/examples/src/main/java/org/apache/spark/examples/streaming/JavaNetworkWordCount.java\n",
            "spark-3.1.1-bin-hadoop2.7/examples/src/main/java/org/apache/spark/examples/streaming/JavaDirectKerberizedKafkaWordCount.java\n",
            "spark-3.1.1-bin-hadoop2.7/examples/src/main/java/org/apache/spark/examples/streaming/JavaDirectKafkaWordCount.java\n",
            "spark-3.1.1-bin-hadoop2.7/examples/src/main/java/org/apache/spark/examples/streaming/JavaSqlNetworkWordCount.java\n",
            "spark-3.1.1-bin-hadoop2.7/examples/src/main/java/org/apache/spark/examples/streaming/JavaRecoverableNetworkWordCount.java\n",
            "spark-3.1.1-bin-hadoop2.7/examples/src/main/java/org/apache/spark/examples/streaming/JavaQueueStream.java\n",
            "spark-3.1.1-bin-hadoop2.7/examples/src/main/java/org/apache/spark/examples/JavaSparkPi.java\n",
            "spark-3.1.1-bin-hadoop2.7/examples/src/main/java/org/apache/spark/examples/sql/\n",
            "spark-3.1.1-bin-hadoop2.7/examples/src/main/java/org/apache/spark/examples/sql/JavaUserDefinedScalar.java\n",
            "spark-3.1.1-bin-hadoop2.7/examples/src/main/java/org/apache/spark/examples/sql/hive/\n",
            "spark-3.1.1-bin-hadoop2.7/examples/src/main/java/org/apache/spark/examples/sql/hive/JavaSparkHiveExample.java\n",
            "spark-3.1.1-bin-hadoop2.7/examples/src/main/java/org/apache/spark/examples/sql/JavaUserDefinedTypedAggregation.java\n",
            "spark-3.1.1-bin-hadoop2.7/examples/src/main/java/org/apache/spark/examples/sql/JavaSQLDataSourceExample.java\n",
            "spark-3.1.1-bin-hadoop2.7/examples/src/main/java/org/apache/spark/examples/sql/JavaSparkSQLExample.java\n",
            "spark-3.1.1-bin-hadoop2.7/examples/src/main/java/org/apache/spark/examples/sql/JavaUserDefinedUntypedAggregation.java\n",
            "spark-3.1.1-bin-hadoop2.7/examples/src/main/java/org/apache/spark/examples/sql/streaming/\n",
            "spark-3.1.1-bin-hadoop2.7/examples/src/main/java/org/apache/spark/examples/sql/streaming/JavaStructuredKafkaWordCount.java\n",
            "spark-3.1.1-bin-hadoop2.7/examples/src/main/java/org/apache/spark/examples/sql/streaming/JavaStructuredNetworkWordCountWindowed.java\n",
            "spark-3.1.1-bin-hadoop2.7/examples/src/main/java/org/apache/spark/examples/sql/streaming/JavaStructuredSessionization.java\n",
            "spark-3.1.1-bin-hadoop2.7/examples/src/main/java/org/apache/spark/examples/sql/streaming/JavaStructuredNetworkWordCount.java\n",
            "spark-3.1.1-bin-hadoop2.7/examples/src/main/java/org/apache/spark/examples/sql/streaming/JavaStructuredKerberizedKafkaWordCount.java\n",
            "spark-3.1.1-bin-hadoop2.7/examples/src/main/java/org/apache/spark/examples/JavaTC.java\n",
            "spark-3.1.1-bin-hadoop2.7/examples/src/main/scripts/\n",
            "spark-3.1.1-bin-hadoop2.7/examples/src/main/scripts/getGpusResources.sh\n",
            "spark-3.1.1-bin-hadoop2.7/examples/src/main/python/\n",
            "spark-3.1.1-bin-hadoop2.7/examples/src/main/python/kmeans.py\n",
            "spark-3.1.1-bin-hadoop2.7/examples/src/main/python/ml/\n",
            "spark-3.1.1-bin-hadoop2.7/examples/src/main/python/ml/dct_example.py\n",
            "spark-3.1.1-bin-hadoop2.7/examples/src/main/python/ml/count_vectorizer_example.py\n",
            "spark-3.1.1-bin-hadoop2.7/examples/src/main/python/ml/chisq_selector_example.py\n",
            "spark-3.1.1-bin-hadoop2.7/examples/src/main/python/ml/gradient_boosted_tree_regressor_example.py\n",
            "spark-3.1.1-bin-hadoop2.7/examples/src/main/python/ml/tf_idf_example.py\n",
            "spark-3.1.1-bin-hadoop2.7/examples/src/main/python/ml/cross_validator.py\n",
            "spark-3.1.1-bin-hadoop2.7/examples/src/main/python/ml/linear_regression_with_elastic_net.py\n",
            "spark-3.1.1-bin-hadoop2.7/examples/src/main/python/ml/normalizer_example.py\n",
            "spark-3.1.1-bin-hadoop2.7/examples/src/main/python/ml/fm_regressor_example.py\n",
            "spark-3.1.1-bin-hadoop2.7/examples/src/main/python/ml/univariate_feature_selector_example.py\n",
            "spark-3.1.1-bin-hadoop2.7/examples/src/main/python/ml/polynomial_expansion_example.py\n",
            "spark-3.1.1-bin-hadoop2.7/examples/src/main/python/ml/pipeline_example.py\n",
            "spark-3.1.1-bin-hadoop2.7/examples/src/main/python/ml/generalized_linear_regression_example.py\n",
            "spark-3.1.1-bin-hadoop2.7/examples/src/main/python/ml/multilayer_perceptron_classification.py\n",
            "spark-3.1.1-bin-hadoop2.7/examples/src/main/python/ml/bisecting_k_means_example.py\n",
            "spark-3.1.1-bin-hadoop2.7/examples/src/main/python/ml/chi_square_test_example.py\n",
            "spark-3.1.1-bin-hadoop2.7/examples/src/main/python/ml/train_validation_split.py\n",
            "spark-3.1.1-bin-hadoop2.7/examples/src/main/python/ml/stopwords_remover_example.py\n",
            "spark-3.1.1-bin-hadoop2.7/examples/src/main/python/ml/linearsvc.py\n",
            "spark-3.1.1-bin-hadoop2.7/examples/src/main/python/ml/lda_example.py\n",
            "spark-3.1.1-bin-hadoop2.7/examples/src/main/python/ml/random_forest_regressor_example.py\n",
            "spark-3.1.1-bin-hadoop2.7/examples/src/main/python/ml/vector_assembler_example.py\n",
            "spark-3.1.1-bin-hadoop2.7/examples/src/main/python/ml/word2vec_example.py\n",
            "spark-3.1.1-bin-hadoop2.7/examples/src/main/python/ml/string_indexer_example.py\n",
            "spark-3.1.1-bin-hadoop2.7/examples/src/main/python/ml/decision_tree_classification_example.py\n",
            "spark-3.1.1-bin-hadoop2.7/examples/src/main/python/ml/index_to_string_example.py\n",
            "spark-3.1.1-bin-hadoop2.7/examples/src/main/python/ml/bucketizer_example.py\n",
            "spark-3.1.1-bin-hadoop2.7/examples/src/main/python/ml/vector_size_hint_example.py\n",
            "spark-3.1.1-bin-hadoop2.7/examples/src/main/python/ml/vector_indexer_example.py\n",
            "spark-3.1.1-bin-hadoop2.7/examples/src/main/python/ml/tokenizer_example.py\n",
            "spark-3.1.1-bin-hadoop2.7/examples/src/main/python/ml/robust_scaler_example.py\n",
            "spark-3.1.1-bin-hadoop2.7/examples/src/main/python/ml/standard_scaler_example.py\n",
            "spark-3.1.1-bin-hadoop2.7/examples/src/main/python/ml/kmeans_example.py\n",
            "spark-3.1.1-bin-hadoop2.7/examples/src/main/python/ml/power_iteration_clustering_example.py\n",
            "spark-3.1.1-bin-hadoop2.7/examples/src/main/python/ml/naive_bayes_example.py\n",
            "spark-3.1.1-bin-hadoop2.7/examples/src/main/python/ml/pca_example.py\n",
            "spark-3.1.1-bin-hadoop2.7/examples/src/main/python/ml/aft_survival_regression.py\n",
            "spark-3.1.1-bin-hadoop2.7/examples/src/main/python/ml/min_max_scaler_example.py\n",
            "spark-3.1.1-bin-hadoop2.7/examples/src/main/python/ml/elementwise_product_example.py\n",
            "spark-3.1.1-bin-hadoop2.7/examples/src/main/python/ml/dataframe_example.py\n",
            "spark-3.1.1-bin-hadoop2.7/examples/src/main/python/ml/n_gram_example.py\n",
            "spark-3.1.1-bin-hadoop2.7/examples/src/main/python/ml/rformula_example.py\n",
            "spark-3.1.1-bin-hadoop2.7/examples/src/main/python/ml/one_vs_rest_example.py\n",
            "spark-3.1.1-bin-hadoop2.7/examples/src/main/python/ml/als_example.py\n",
            "spark-3.1.1-bin-hadoop2.7/examples/src/main/python/ml/onehot_encoder_example.py\n",
            "spark-3.1.1-bin-hadoop2.7/examples/src/main/python/ml/vector_slicer_example.py\n",
            "spark-3.1.1-bin-hadoop2.7/examples/src/main/python/ml/logistic_regression_with_elastic_net.py\n",
            "spark-3.1.1-bin-hadoop2.7/examples/src/main/python/ml/sql_transformer.py\n",
            "spark-3.1.1-bin-hadoop2.7/examples/src/main/python/ml/multiclass_logistic_regression_with_elastic_net.py\n",
            "spark-3.1.1-bin-hadoop2.7/examples/src/main/python/ml/summarizer_example.py\n",
            "spark-3.1.1-bin-hadoop2.7/examples/src/main/python/ml/quantile_discretizer_example.py\n",
            "spark-3.1.1-bin-hadoop2.7/examples/src/main/python/ml/feature_hasher_example.py\n",
            "spark-3.1.1-bin-hadoop2.7/examples/src/main/python/ml/imputer_example.py\n",
            "spark-3.1.1-bin-hadoop2.7/examples/src/main/python/ml/bucketed_random_projection_lsh_example.py\n",
            "spark-3.1.1-bin-hadoop2.7/examples/src/main/python/ml/estimator_transformer_param_example.py\n",
            "spark-3.1.1-bin-hadoop2.7/examples/src/main/python/ml/gradient_boosted_tree_classifier_example.py\n",
            "spark-3.1.1-bin-hadoop2.7/examples/src/main/python/ml/logistic_regression_summary_example.py\n",
            "spark-3.1.1-bin-hadoop2.7/examples/src/main/python/ml/decision_tree_regression_example.py\n",
            "spark-3.1.1-bin-hadoop2.7/examples/src/main/python/ml/fm_classifier_example.py\n",
            "spark-3.1.1-bin-hadoop2.7/examples/src/main/python/ml/gaussian_mixture_example.py\n",
            "spark-3.1.1-bin-hadoop2.7/examples/src/main/python/ml/fpgrowth_example.py\n",
            "spark-3.1.1-bin-hadoop2.7/examples/src/main/python/ml/variance_threshold_selector_example.py\n",
            "spark-3.1.1-bin-hadoop2.7/examples/src/main/python/ml/random_forest_classifier_example.py\n",
            "spark-3.1.1-bin-hadoop2.7/examples/src/main/python/ml/correlation_example.py\n",
            "spark-3.1.1-bin-hadoop2.7/examples/src/main/python/ml/min_hash_lsh_example.py\n",
            "spark-3.1.1-bin-hadoop2.7/examples/src/main/python/ml/binarizer_example.py\n",
            "spark-3.1.1-bin-hadoop2.7/examples/src/main/python/ml/prefixspan_example.py\n",
            "spark-3.1.1-bin-hadoop2.7/examples/src/main/python/ml/max_abs_scaler_example.py\n",
            "spark-3.1.1-bin-hadoop2.7/examples/src/main/python/ml/isotonic_regression_example.py\n",
            "spark-3.1.1-bin-hadoop2.7/examples/src/main/python/ml/interaction_example.py\n",
            "spark-3.1.1-bin-hadoop2.7/examples/src/main/python/logistic_regression.py\n",
            "spark-3.1.1-bin-hadoop2.7/examples/src/main/python/als.py\n",
            "spark-3.1.1-bin-hadoop2.7/examples/src/main/python/mllib/\n",
            "spark-3.1.1-bin-hadoop2.7/examples/src/main/python/mllib/word2vec.py\n",
            "spark-3.1.1-bin-hadoop2.7/examples/src/main/python/mllib/correlations_example.py\n",
            "spark-3.1.1-bin-hadoop2.7/examples/src/main/python/mllib/gradient_boosting_classification_example.py\n",
            "spark-3.1.1-bin-hadoop2.7/examples/src/main/python/mllib/kernel_density_estimation_example.py\n",
            "spark-3.1.1-bin-hadoop2.7/examples/src/main/python/mllib/hypothesis_testing_example.py\n",
            "spark-3.1.1-bin-hadoop2.7/examples/src/main/python/mllib/svd_example.py\n",
            "spark-3.1.1-bin-hadoop2.7/examples/src/main/python/mllib/kmeans.py\n",
            "spark-3.1.1-bin-hadoop2.7/examples/src/main/python/mllib/latent_dirichlet_allocation_example.py\n",
            "spark-3.1.1-bin-hadoop2.7/examples/src/main/python/mllib/tf_idf_example.py\n",
            "spark-3.1.1-bin-hadoop2.7/examples/src/main/python/mllib/correlations.py\n",
            "spark-3.1.1-bin-hadoop2.7/examples/src/main/python/mllib/random_forest_regression_example.py\n",
            "spark-3.1.1-bin-hadoop2.7/examples/src/main/python/mllib/normalizer_example.py\n",
            "spark-3.1.1-bin-hadoop2.7/examples/src/main/python/mllib/logistic_regression.py\n",
            "spark-3.1.1-bin-hadoop2.7/examples/src/main/python/mllib/multi_label_metrics_example.py\n",
            "spark-3.1.1-bin-hadoop2.7/examples/src/main/python/mllib/gradient_boosting_regression_example.py\n",
            "spark-3.1.1-bin-hadoop2.7/examples/src/main/python/mllib/random_forest_classification_example.py\n",
            "spark-3.1.1-bin-hadoop2.7/examples/src/main/python/mllib/streaming_linear_regression_example.py\n",
            "spark-3.1.1-bin-hadoop2.7/examples/src/main/python/mllib/sampled_rdds.py\n",
            "spark-3.1.1-bin-hadoop2.7/examples/src/main/python/mllib/bisecting_k_means_example.py\n",
            "spark-3.1.1-bin-hadoop2.7/examples/src/main/python/mllib/logistic_regression_with_lbfgs_example.py\n",
            "spark-3.1.1-bin-hadoop2.7/examples/src/main/python/mllib/k_means_example.py\n",
            "spark-3.1.1-bin-hadoop2.7/examples/src/main/python/mllib/streaming_k_means_example.py\n",
            "spark-3.1.1-bin-hadoop2.7/examples/src/main/python/mllib/word2vec_example.py\n",
            "spark-3.1.1-bin-hadoop2.7/examples/src/main/python/mllib/multi_class_metrics_example.py\n",
            "spark-3.1.1-bin-hadoop2.7/examples/src/main/python/mllib/decision_tree_classification_example.py\n",
            "spark-3.1.1-bin-hadoop2.7/examples/src/main/python/mllib/summary_statistics_example.py\n",
            "spark-3.1.1-bin-hadoop2.7/examples/src/main/python/mllib/binary_classification_metrics_example.py\n",
            "spark-3.1.1-bin-hadoop2.7/examples/src/main/python/mllib/standard_scaler_example.py\n",
            "spark-3.1.1-bin-hadoop2.7/examples/src/main/python/mllib/power_iteration_clustering_example.py\n",
            "spark-3.1.1-bin-hadoop2.7/examples/src/main/python/mllib/gaussian_mixture_model.py\n",
            "spark-3.1.1-bin-hadoop2.7/examples/src/main/python/mllib/regression_metrics_example.py\n",
            "spark-3.1.1-bin-hadoop2.7/examples/src/main/python/mllib/naive_bayes_example.py\n",
            "spark-3.1.1-bin-hadoop2.7/examples/src/main/python/mllib/elementwise_product_example.py\n",
            "spark-3.1.1-bin-hadoop2.7/examples/src/main/python/mllib/linear_regression_with_sgd_example.py\n",
            "spark-3.1.1-bin-hadoop2.7/examples/src/main/python/mllib/pca_rowmatrix_example.py\n",
            "spark-3.1.1-bin-hadoop2.7/examples/src/main/python/mllib/hypothesis_testing_kolmogorov_smirnov_test_example.py\n",
            "spark-3.1.1-bin-hadoop2.7/examples/src/main/python/mllib/random_rdd_generation.py\n",
            "spark-3.1.1-bin-hadoop2.7/examples/src/main/python/mllib/decision_tree_regression_example.py\n",
            "spark-3.1.1-bin-hadoop2.7/examples/src/main/python/mllib/gaussian_mixture_example.py\n",
            "spark-3.1.1-bin-hadoop2.7/examples/src/main/python/mllib/recommendation_example.py\n",
            "spark-3.1.1-bin-hadoop2.7/examples/src/main/python/mllib/fpgrowth_example.py\n",
            "spark-3.1.1-bin-hadoop2.7/examples/src/main/python/mllib/ranking_metrics_example.py\n",
            "spark-3.1.1-bin-hadoop2.7/examples/src/main/python/mllib/svm_with_sgd_example.py\n",
            "spark-3.1.1-bin-hadoop2.7/examples/src/main/python/mllib/isotonic_regression_example.py\n",
            "spark-3.1.1-bin-hadoop2.7/examples/src/main/python/mllib/stratified_sampling_example.py\n",
            "spark-3.1.1-bin-hadoop2.7/examples/src/main/python/wordcount.py\n",
            "spark-3.1.1-bin-hadoop2.7/examples/src/main/python/status_api_demo.py\n",
            "spark-3.1.1-bin-hadoop2.7/examples/src/main/python/pagerank.py\n",
            "spark-3.1.1-bin-hadoop2.7/examples/src/main/python/sort.py\n",
            "spark-3.1.1-bin-hadoop2.7/examples/src/main/python/transitive_closure.py\n",
            "spark-3.1.1-bin-hadoop2.7/examples/src/main/python/avro_inputformat.py\n",
            "spark-3.1.1-bin-hadoop2.7/examples/src/main/python/pi.py\n",
            "spark-3.1.1-bin-hadoop2.7/examples/src/main/python/streaming/\n",
            "spark-3.1.1-bin-hadoop2.7/examples/src/main/python/streaming/queue_stream.py\n",
            "spark-3.1.1-bin-hadoop2.7/examples/src/main/python/streaming/stateful_network_wordcount.py\n",
            "spark-3.1.1-bin-hadoop2.7/examples/src/main/python/streaming/network_wordjoinsentiments.py\n",
            "spark-3.1.1-bin-hadoop2.7/examples/src/main/python/streaming/sql_network_wordcount.py\n",
            "spark-3.1.1-bin-hadoop2.7/examples/src/main/python/streaming/network_wordcount.py\n",
            "spark-3.1.1-bin-hadoop2.7/examples/src/main/python/streaming/hdfs_wordcount.py\n",
            "spark-3.1.1-bin-hadoop2.7/examples/src/main/python/streaming/recoverable_network_wordcount.py\n",
            "spark-3.1.1-bin-hadoop2.7/examples/src/main/python/sql/\n",
            "spark-3.1.1-bin-hadoop2.7/examples/src/main/python/sql/datasource.py\n",
            "spark-3.1.1-bin-hadoop2.7/examples/src/main/python/sql/hive.py\n",
            "spark-3.1.1-bin-hadoop2.7/examples/src/main/python/sql/arrow.py\n",
            "spark-3.1.1-bin-hadoop2.7/examples/src/main/python/sql/streaming/\n",
            "spark-3.1.1-bin-hadoop2.7/examples/src/main/python/sql/streaming/structured_network_wordcount_windowed.py\n",
            "spark-3.1.1-bin-hadoop2.7/examples/src/main/python/sql/streaming/structured_network_wordcount.py\n",
            "spark-3.1.1-bin-hadoop2.7/examples/src/main/python/sql/streaming/structured_kafka_wordcount.py\n",
            "spark-3.1.1-bin-hadoop2.7/examples/src/main/python/sql/basic.py\n",
            "spark-3.1.1-bin-hadoop2.7/examples/src/main/python/parquet_inputformat.py\n",
            "spark-3.1.1-bin-hadoop2.7/examples/jars/\n",
            "spark-3.1.1-bin-hadoop2.7/examples/jars/spark-examples_2.12-3.1.1.jar\n",
            "spark-3.1.1-bin-hadoop2.7/examples/jars/scopt_2.12-3.7.1.jar\n",
            "spark-3.1.1-bin-hadoop2.7/conf/\n",
            "spark-3.1.1-bin-hadoop2.7/conf/metrics.properties.template\n",
            "spark-3.1.1-bin-hadoop2.7/conf/workers.template\n",
            "spark-3.1.1-bin-hadoop2.7/conf/fairscheduler.xml.template\n",
            "spark-3.1.1-bin-hadoop2.7/conf/log4j.properties.template\n",
            "spark-3.1.1-bin-hadoop2.7/conf/spark-defaults.conf.template\n",
            "spark-3.1.1-bin-hadoop2.7/conf/spark-env.sh.template\n",
            "spark-3.1.1-bin-hadoop2.7/bin/\n",
            "spark-3.1.1-bin-hadoop2.7/bin/sparkR.cmd\n",
            "spark-3.1.1-bin-hadoop2.7/bin/sparkR\n",
            "spark-3.1.1-bin-hadoop2.7/bin/spark-submit\n",
            "spark-3.1.1-bin-hadoop2.7/bin/pyspark2.cmd\n",
            "spark-3.1.1-bin-hadoop2.7/bin/spark-class\n",
            "spark-3.1.1-bin-hadoop2.7/bin/pyspark.cmd\n",
            "spark-3.1.1-bin-hadoop2.7/bin/spark-submit2.cmd\n",
            "spark-3.1.1-bin-hadoop2.7/bin/load-spark-env.cmd\n",
            "spark-3.1.1-bin-hadoop2.7/bin/spark-sql\n",
            "spark-3.1.1-bin-hadoop2.7/bin/docker-image-tool.sh\n",
            "spark-3.1.1-bin-hadoop2.7/bin/find-spark-home.cmd\n",
            "spark-3.1.1-bin-hadoop2.7/bin/load-spark-env.sh\n",
            "spark-3.1.1-bin-hadoop2.7/bin/pyspark\n",
            "spark-3.1.1-bin-hadoop2.7/bin/spark-shell.cmd\n",
            "spark-3.1.1-bin-hadoop2.7/bin/spark-shell2.cmd\n",
            "spark-3.1.1-bin-hadoop2.7/bin/spark-submit.cmd\n",
            "spark-3.1.1-bin-hadoop2.7/bin/beeline.cmd\n",
            "spark-3.1.1-bin-hadoop2.7/bin/find-spark-home\n",
            "spark-3.1.1-bin-hadoop2.7/bin/spark-class.cmd\n",
            "spark-3.1.1-bin-hadoop2.7/bin/sparkR2.cmd\n",
            "spark-3.1.1-bin-hadoop2.7/bin/beeline\n",
            "spark-3.1.1-bin-hadoop2.7/bin/spark-class2.cmd\n",
            "spark-3.1.1-bin-hadoop2.7/bin/spark-sql.cmd\n",
            "spark-3.1.1-bin-hadoop2.7/bin/run-example\n",
            "spark-3.1.1-bin-hadoop2.7/bin/spark-shell\n",
            "spark-3.1.1-bin-hadoop2.7/bin/run-example.cmd\n",
            "spark-3.1.1-bin-hadoop2.7/bin/spark-sql2.cmd\n",
            "spark-3.1.1-bin-hadoop2.7/python/\n",
            "spark-3.1.1-bin-hadoop2.7/python/.gitignore\n",
            "spark-3.1.1-bin-hadoop2.7/python/run-tests-with-coverage\n",
            "spark-3.1.1-bin-hadoop2.7/python/mypy.ini\n",
            "spark-3.1.1-bin-hadoop2.7/python/pylintrc\n",
            "spark-3.1.1-bin-hadoop2.7/python/MANIFEST.in\n",
            "spark-3.1.1-bin-hadoop2.7/python/README.md\n",
            "spark-3.1.1-bin-hadoop2.7/python/test_coverage/\n",
            "spark-3.1.1-bin-hadoop2.7/python/test_coverage/coverage_daemon.py\n",
            "spark-3.1.1-bin-hadoop2.7/python/test_coverage/conf/\n",
            "spark-3.1.1-bin-hadoop2.7/python/test_coverage/conf/spark-defaults.conf\n",
            "spark-3.1.1-bin-hadoop2.7/python/test_coverage/sitecustomize.py\n",
            "spark-3.1.1-bin-hadoop2.7/python/run-tests.py\n",
            "spark-3.1.1-bin-hadoop2.7/python/setup.py\n",
            "spark-3.1.1-bin-hadoop2.7/python/test_support/\n",
            "spark-3.1.1-bin-hadoop2.7/python/test_support/userlibrary.py\n",
            "spark-3.1.1-bin-hadoop2.7/python/test_support/hello/\n",
            "spark-3.1.1-bin-hadoop2.7/python/test_support/hello/sub_hello/\n",
            "spark-3.1.1-bin-hadoop2.7/python/test_support/hello/sub_hello/sub_hello.txt\n",
            "spark-3.1.1-bin-hadoop2.7/python/test_support/hello/hello.txt\n",
            "spark-3.1.1-bin-hadoop2.7/python/test_support/userlib-0.1.zip\n",
            "spark-3.1.1-bin-hadoop2.7/python/test_support/SimpleHTTPServer.py\n",
            "spark-3.1.1-bin-hadoop2.7/python/test_support/sql/\n",
            "spark-3.1.1-bin-hadoop2.7/python/test_support/sql/people.json\n",
            "spark-3.1.1-bin-hadoop2.7/python/test_support/sql/people_array.json\n",
            "spark-3.1.1-bin-hadoop2.7/python/test_support/sql/people_array_utf16le.json\n",
            "spark-3.1.1-bin-hadoop2.7/python/test_support/sql/text-test.txt\n",
            "spark-3.1.1-bin-hadoop2.7/python/test_support/sql/ages.csv\n",
            "spark-3.1.1-bin-hadoop2.7/python/test_support/sql/parquet_partitioned/\n",
            "spark-3.1.1-bin-hadoop2.7/python/test_support/sql/parquet_partitioned/year=2015/\n",
            "spark-3.1.1-bin-hadoop2.7/python/test_support/sql/parquet_partitioned/year=2015/month=10/\n",
            "spark-3.1.1-bin-hadoop2.7/python/test_support/sql/parquet_partitioned/year=2015/month=10/day=26/\n",
            "spark-3.1.1-bin-hadoop2.7/python/test_support/sql/parquet_partitioned/year=2015/month=10/day=26/.part-r-00005.gz.parquet.crc\n",
            "spark-3.1.1-bin-hadoop2.7/python/test_support/sql/parquet_partitioned/year=2015/month=10/day=26/part-r-00005.gz.parquet\n",
            "spark-3.1.1-bin-hadoop2.7/python/test_support/sql/parquet_partitioned/year=2015/month=10/day=25/\n",
            "spark-3.1.1-bin-hadoop2.7/python/test_support/sql/parquet_partitioned/year=2015/month=10/day=25/.part-r-00002.gz.parquet.crc\n",
            "spark-3.1.1-bin-hadoop2.7/python/test_support/sql/parquet_partitioned/year=2015/month=10/day=25/.part-r-00004.gz.parquet.crc\n",
            "spark-3.1.1-bin-hadoop2.7/python/test_support/sql/parquet_partitioned/year=2015/month=10/day=25/part-r-00004.gz.parquet\n",
            "spark-3.1.1-bin-hadoop2.7/python/test_support/sql/parquet_partitioned/year=2015/month=10/day=25/part-r-00002.gz.parquet\n",
            "spark-3.1.1-bin-hadoop2.7/python/test_support/sql/parquet_partitioned/year=2015/month=9/\n",
            "spark-3.1.1-bin-hadoop2.7/python/test_support/sql/parquet_partitioned/year=2015/month=9/day=1/\n",
            "spark-3.1.1-bin-hadoop2.7/python/test_support/sql/parquet_partitioned/year=2015/month=9/day=1/.part-r-00007.gz.parquet.crc\n",
            "spark-3.1.1-bin-hadoop2.7/python/test_support/sql/parquet_partitioned/year=2015/month=9/day=1/part-r-00007.gz.parquet\n",
            "spark-3.1.1-bin-hadoop2.7/python/test_support/sql/parquet_partitioned/_metadata\n",
            "spark-3.1.1-bin-hadoop2.7/python/test_support/sql/parquet_partitioned/year=2014/\n",
            "spark-3.1.1-bin-hadoop2.7/python/test_support/sql/parquet_partitioned/year=2014/month=9/\n",
            "spark-3.1.1-bin-hadoop2.7/python/test_support/sql/parquet_partitioned/year=2014/month=9/day=1/\n",
            "spark-3.1.1-bin-hadoop2.7/python/test_support/sql/parquet_partitioned/year=2014/month=9/day=1/.part-r-00008.gz.parquet.crc\n",
            "spark-3.1.1-bin-hadoop2.7/python/test_support/sql/parquet_partitioned/year=2014/month=9/day=1/part-r-00008.gz.parquet\n",
            "spark-3.1.1-bin-hadoop2.7/python/test_support/sql/parquet_partitioned/_common_metadata\n",
            "spark-3.1.1-bin-hadoop2.7/python/test_support/sql/parquet_partitioned/_SUCCESS\n",
            "spark-3.1.1-bin-hadoop2.7/python/test_support/sql/orc_partitioned/\n",
            "spark-3.1.1-bin-hadoop2.7/python/test_support/sql/orc_partitioned/b=1/\n",
            "spark-3.1.1-bin-hadoop2.7/python/test_support/sql/orc_partitioned/b=1/c=1/\n",
            "spark-3.1.1-bin-hadoop2.7/python/test_support/sql/orc_partitioned/b=1/c=1/part-r-00000-829af031-b970-49d6-ad39-30460a0be2c8.orc\n",
            "spark-3.1.1-bin-hadoop2.7/python/test_support/sql/orc_partitioned/b=1/c=1/.part-r-00000-829af031-b970-49d6-ad39-30460a0be2c8.orc.crc\n",
            "spark-3.1.1-bin-hadoop2.7/python/test_support/sql/orc_partitioned/b=0/\n",
            "spark-3.1.1-bin-hadoop2.7/python/test_support/sql/orc_partitioned/b=0/c=0/\n",
            "spark-3.1.1-bin-hadoop2.7/python/test_support/sql/orc_partitioned/b=0/c=0/part-r-00000-829af031-b970-49d6-ad39-30460a0be2c8.orc\n",
            "spark-3.1.1-bin-hadoop2.7/python/test_support/sql/orc_partitioned/b=0/c=0/.part-r-00000-829af031-b970-49d6-ad39-30460a0be2c8.orc.crc\n",
            "spark-3.1.1-bin-hadoop2.7/python/test_support/sql/orc_partitioned/_SUCCESS\n",
            "spark-3.1.1-bin-hadoop2.7/python/test_support/sql/ages_newlines.csv\n",
            "spark-3.1.1-bin-hadoop2.7/python/test_support/sql/streaming/\n",
            "spark-3.1.1-bin-hadoop2.7/python/test_support/sql/streaming/text-test.txt\n",
            "spark-3.1.1-bin-hadoop2.7/python/test_support/sql/people1.json\n",
            "spark-3.1.1-bin-hadoop2.7/python/pyspark/\n",
            "spark-3.1.1-bin-hadoop2.7/python/pyspark/tests/\n",
            "spark-3.1.1-bin-hadoop2.7/python/pyspark/tests/test_rddbarrier.py\n",
            "spark-3.1.1-bin-hadoop2.7/python/pyspark/tests/test_worker.py\n",
            "spark-3.1.1-bin-hadoop2.7/python/pyspark/tests/test_serializers.py\n",
            "spark-3.1.1-bin-hadoop2.7/python/pyspark/tests/test_util.py\n",
            "spark-3.1.1-bin-hadoop2.7/python/pyspark/tests/test_rdd.py\n",
            "spark-3.1.1-bin-hadoop2.7/python/pyspark/tests/__init__.py\n",
            "spark-3.1.1-bin-hadoop2.7/python/pyspark/tests/test_broadcast.py\n",
            "spark-3.1.1-bin-hadoop2.7/python/pyspark/tests/test_appsubmit.py\n",
            "spark-3.1.1-bin-hadoop2.7/python/pyspark/tests/test_profiler.py\n",
            "spark-3.1.1-bin-hadoop2.7/python/pyspark/tests/test_pin_thread.py\n",
            "spark-3.1.1-bin-hadoop2.7/python/pyspark/tests/test_install_spark.py\n",
            "spark-3.1.1-bin-hadoop2.7/python/pyspark/tests/test_shuffle.py\n",
            "spark-3.1.1-bin-hadoop2.7/python/pyspark/tests/test_join.py\n",
            "spark-3.1.1-bin-hadoop2.7/python/pyspark/tests/test_taskcontext.py\n",
            "spark-3.1.1-bin-hadoop2.7/python/pyspark/tests/test_context.py\n",
            "spark-3.1.1-bin-hadoop2.7/python/pyspark/tests/test_readwrite.py\n",
            "spark-3.1.1-bin-hadoop2.7/python/pyspark/tests/test_conf.py\n",
            "spark-3.1.1-bin-hadoop2.7/python/pyspark/tests/test_daemon.py\n",
            "spark-3.1.1-bin-hadoop2.7/python/pyspark/__init__.pyi\n",
            "spark-3.1.1-bin-hadoop2.7/python/pyspark/_typing.pyi\n",
            "spark-3.1.1-bin-hadoop2.7/python/pyspark/testing/\n",
            "spark-3.1.1-bin-hadoop2.7/python/pyspark/testing/mlutils.py\n",
            "spark-3.1.1-bin-hadoop2.7/python/pyspark/testing/__init__.py\n",
            "spark-3.1.1-bin-hadoop2.7/python/pyspark/testing/mllibutils.py\n",
            "spark-3.1.1-bin-hadoop2.7/python/pyspark/testing/utils.py\n",
            "spark-3.1.1-bin-hadoop2.7/python/pyspark/testing/sqlutils.py\n",
            "spark-3.1.1-bin-hadoop2.7/python/pyspark/testing/streamingutils.py\n",
            "spark-3.1.1-bin-hadoop2.7/python/pyspark/accumulators.py\n",
            "spark-3.1.1-bin-hadoop2.7/python/pyspark/rddsampler.py\n",
            "spark-3.1.1-bin-hadoop2.7/python/pyspark/install.py\n",
            "spark-3.1.1-bin-hadoop2.7/python/pyspark/status.pyi\n",
            "spark-3.1.1-bin-hadoop2.7/python/pyspark/ml/\n",
            "spark-3.1.1-bin-hadoop2.7/python/pyspark/ml/tests/\n",
            "spark-3.1.1-bin-hadoop2.7/python/pyspark/ml/tests/test_algorithms.py\n",
            "spark-3.1.1-bin-hadoop2.7/python/pyspark/ml/tests/test_evaluation.py\n",
            "spark-3.1.1-bin-hadoop2.7/python/pyspark/ml/tests/test_util.py\n",
            "spark-3.1.1-bin-hadoop2.7/python/pyspark/ml/tests/test_feature.py\n",
            "spark-3.1.1-bin-hadoop2.7/python/pyspark/ml/tests/test_pipeline.py\n",
            "spark-3.1.1-bin-hadoop2.7/python/pyspark/ml/tests/test_wrapper.py\n",
            "spark-3.1.1-bin-hadoop2.7/python/pyspark/ml/tests/__init__.py\n",
            "spark-3.1.1-bin-hadoop2.7/python/pyspark/ml/tests/test_tuning.py\n",
            "spark-3.1.1-bin-hadoop2.7/python/pyspark/ml/tests/test_persistence.py\n",
            "spark-3.1.1-bin-hadoop2.7/python/pyspark/ml/tests/test_param.py\n",
            "spark-3.1.1-bin-hadoop2.7/python/pyspark/ml/tests/test_training_summary.py\n",
            "spark-3.1.1-bin-hadoop2.7/python/pyspark/ml/tests/test_linalg.py\n",
            "spark-3.1.1-bin-hadoop2.7/python/pyspark/ml/tests/test_image.py\n",
            "spark-3.1.1-bin-hadoop2.7/python/pyspark/ml/tests/test_stat.py\n",
            "spark-3.1.1-bin-hadoop2.7/python/pyspark/ml/tests/test_base.py\n",
            "spark-3.1.1-bin-hadoop2.7/python/pyspark/ml/evaluation.pyi\n",
            "spark-3.1.1-bin-hadoop2.7/python/pyspark/ml/_typing.pyi\n",
            "spark-3.1.1-bin-hadoop2.7/python/pyspark/ml/functions.py\n",
            "spark-3.1.1-bin-hadoop2.7/python/pyspark/ml/recommendation.pyi\n",
            "spark-3.1.1-bin-hadoop2.7/python/pyspark/ml/tuning.py\n",
            "spark-3.1.1-bin-hadoop2.7/python/pyspark/ml/fpm.pyi\n",
            "spark-3.1.1-bin-hadoop2.7/python/pyspark/ml/pipeline.py\n",
            "spark-3.1.1-bin-hadoop2.7/python/pyspark/ml/base.py\n",
            "spark-3.1.1-bin-hadoop2.7/python/pyspark/ml/feature.py\n",
            "spark-3.1.1-bin-hadoop2.7/python/pyspark/ml/wrapper.pyi\n",
            "spark-3.1.1-bin-hadoop2.7/python/pyspark/ml/__init__.py\n",
            "spark-3.1.1-bin-hadoop2.7/python/pyspark/ml/stat.pyi\n",
            "spark-3.1.1-bin-hadoop2.7/python/pyspark/ml/stat.py\n",
            "spark-3.1.1-bin-hadoop2.7/python/pyspark/ml/image.py\n",
            "spark-3.1.1-bin-hadoop2.7/python/pyspark/ml/classification.py\n",
            "spark-3.1.1-bin-hadoop2.7/python/pyspark/ml/common.pyi\n",
            "spark-3.1.1-bin-hadoop2.7/python/pyspark/ml/pipeline.pyi\n",
            "spark-3.1.1-bin-hadoop2.7/python/pyspark/ml/recommendation.py\n",
            "spark-3.1.1-bin-hadoop2.7/python/pyspark/ml/clustering.pyi\n",
            "spark-3.1.1-bin-hadoop2.7/python/pyspark/ml/regression.py\n",
            "spark-3.1.1-bin-hadoop2.7/python/pyspark/ml/param/\n",
            "spark-3.1.1-bin-hadoop2.7/python/pyspark/ml/param/__init__.pyi\n",
            "spark-3.1.1-bin-hadoop2.7/python/pyspark/ml/param/_shared_params_code_gen.py\n",
            "spark-3.1.1-bin-hadoop2.7/python/pyspark/ml/param/__init__.py\n",
            "spark-3.1.1-bin-hadoop2.7/python/pyspark/ml/param/shared.py\n",
            "spark-3.1.1-bin-hadoop2.7/python/pyspark/ml/param/_shared_params_code_gen.pyi\n",
            "spark-3.1.1-bin-hadoop2.7/python/pyspark/ml/param/shared.pyi\n",
            "spark-3.1.1-bin-hadoop2.7/python/pyspark/ml/feature.pyi\n",
            "spark-3.1.1-bin-hadoop2.7/python/pyspark/ml/classification.pyi\n",
            "spark-3.1.1-bin-hadoop2.7/python/pyspark/ml/tree.py\n",
            "spark-3.1.1-bin-hadoop2.7/python/pyspark/ml/util.pyi\n",
            "spark-3.1.1-bin-hadoop2.7/python/pyspark/ml/tuning.pyi\n",
            "spark-3.1.1-bin-hadoop2.7/python/pyspark/ml/fpm.py\n",
            "spark-3.1.1-bin-hadoop2.7/python/pyspark/ml/regression.pyi\n",
            "spark-3.1.1-bin-hadoop2.7/python/pyspark/ml/functions.pyi\n",
            "spark-3.1.1-bin-hadoop2.7/python/pyspark/ml/base.pyi\n",
            "spark-3.1.1-bin-hadoop2.7/python/pyspark/ml/wrapper.py\n",
            "spark-3.1.1-bin-hadoop2.7/python/pyspark/ml/image.pyi\n",
            "spark-3.1.1-bin-hadoop2.7/python/pyspark/ml/tree.pyi\n",
            "spark-3.1.1-bin-hadoop2.7/python/pyspark/ml/clustering.py\n",
            "spark-3.1.1-bin-hadoop2.7/python/pyspark/ml/common.py\n",
            "spark-3.1.1-bin-hadoop2.7/python/pyspark/ml/linalg/\n",
            "spark-3.1.1-bin-hadoop2.7/python/pyspark/ml/linalg/__init__.pyi\n",
            "spark-3.1.1-bin-hadoop2.7/python/pyspark/ml/linalg/__init__.py\n",
            "spark-3.1.1-bin-hadoop2.7/python/pyspark/ml/evaluation.py\n",
            "spark-3.1.1-bin-hadoop2.7/python/pyspark/ml/util.py\n",
            "spark-3.1.1-bin-hadoop2.7/python/pyspark/context.pyi\n",
            "spark-3.1.1-bin-hadoop2.7/python/pyspark/find_spark_home.py\n",
            "spark-3.1.1-bin-hadoop2.7/python/pyspark/serializers.py\n",
            "spark-3.1.1-bin-hadoop2.7/python/pyspark/java_gateway.py\n",
            "spark-3.1.1-bin-hadoop2.7/python/pyspark/traceback_utils.py\n",
            "spark-3.1.1-bin-hadoop2.7/python/pyspark/resource/\n",
            "spark-3.1.1-bin-hadoop2.7/python/pyspark/resource/tests/\n",
            "spark-3.1.1-bin-hadoop2.7/python/pyspark/resource/tests/__init__.py\n",
            "spark-3.1.1-bin-hadoop2.7/python/pyspark/resource/tests/test_resources.py\n",
            "spark-3.1.1-bin-hadoop2.7/python/pyspark/resource/profile.py\n",
            "spark-3.1.1-bin-hadoop2.7/python/pyspark/resource/__init__.py\n",
            "spark-3.1.1-bin-hadoop2.7/python/pyspark/resource/information.py\n",
            "spark-3.1.1-bin-hadoop2.7/python/pyspark/resource/requests.pyi\n",
            "spark-3.1.1-bin-hadoop2.7/python/pyspark/resource/information.pyi\n",
            "spark-3.1.1-bin-hadoop2.7/python/pyspark/resource/requests.py\n",
            "spark-3.1.1-bin-hadoop2.7/python/pyspark/resource/profile.pyi\n",
            "spark-3.1.1-bin-hadoop2.7/python/pyspark/conf.py\n",
            "spark-3.1.1-bin-hadoop2.7/python/pyspark/resultiterable.pyi\n",
            "spark-3.1.1-bin-hadoop2.7/python/pyspark/version.pyi\n",
            "spark-3.1.1-bin-hadoop2.7/python/pyspark/__init__.py\n",
            "spark-3.1.1-bin-hadoop2.7/python/pyspark/files.pyi\n",
            "spark-3.1.1-bin-hadoop2.7/python/pyspark/mllib/\n",
            "spark-3.1.1-bin-hadoop2.7/python/pyspark/mllib/tests/\n",
            "spark-3.1.1-bin-hadoop2.7/python/pyspark/mllib/tests/test_algorithms.py\n",
            "spark-3.1.1-bin-hadoop2.7/python/pyspark/mllib/tests/test_streaming_algorithms.py\n",
            "spark-3.1.1-bin-hadoop2.7/python/pyspark/mllib/tests/test_util.py\n",
            "spark-3.1.1-bin-hadoop2.7/python/pyspark/mllib/tests/test_feature.py\n",
            "spark-3.1.1-bin-hadoop2.7/python/pyspark/mllib/tests/__init__.py\n",
            "spark-3.1.1-bin-hadoop2.7/python/pyspark/mllib/tests/test_linalg.py\n",
            "spark-3.1.1-bin-hadoop2.7/python/pyspark/mllib/tests/test_stat.py\n",
            "spark-3.1.1-bin-hadoop2.7/python/pyspark/mllib/evaluation.pyi\n",
            "spark-3.1.1-bin-hadoop2.7/python/pyspark/mllib/_typing.pyi\n",
            "spark-3.1.1-bin-hadoop2.7/python/pyspark/mllib/recommendation.pyi\n",
            "spark-3.1.1-bin-hadoop2.7/python/pyspark/mllib/fpm.pyi\n",
            "spark-3.1.1-bin-hadoop2.7/python/pyspark/mllib/feature.py\n",
            "spark-3.1.1-bin-hadoop2.7/python/pyspark/mllib/__init__.py\n",
            "spark-3.1.1-bin-hadoop2.7/python/pyspark/mllib/classification.py\n",
            "spark-3.1.1-bin-hadoop2.7/python/pyspark/mllib/common.pyi\n",
            "spark-3.1.1-bin-hadoop2.7/python/pyspark/mllib/random.pyi\n",
            "spark-3.1.1-bin-hadoop2.7/python/pyspark/mllib/recommendation.py\n",
            "spark-3.1.1-bin-hadoop2.7/python/pyspark/mllib/clustering.pyi\n",
            "spark-3.1.1-bin-hadoop2.7/python/pyspark/mllib/regression.py\n",
            "spark-3.1.1-bin-hadoop2.7/python/pyspark/mllib/feature.pyi\n",
            "spark-3.1.1-bin-hadoop2.7/python/pyspark/mllib/classification.pyi\n",
            "spark-3.1.1-bin-hadoop2.7/python/pyspark/mllib/tree.py\n",
            "spark-3.1.1-bin-hadoop2.7/python/pyspark/mllib/util.pyi\n",
            "spark-3.1.1-bin-hadoop2.7/python/pyspark/mllib/fpm.py\n",
            "spark-3.1.1-bin-hadoop2.7/python/pyspark/mllib/regression.pyi\n",
            "spark-3.1.1-bin-hadoop2.7/python/pyspark/mllib/random.py\n",
            "spark-3.1.1-bin-hadoop2.7/python/pyspark/mllib/stat/\n",
            "spark-3.1.1-bin-hadoop2.7/python/pyspark/mllib/stat/__init__.pyi\n",
            "spark-3.1.1-bin-hadoop2.7/python/pyspark/mllib/stat/distribution.py\n",
            "spark-3.1.1-bin-hadoop2.7/python/pyspark/mllib/stat/__init__.py\n",
            "spark-3.1.1-bin-hadoop2.7/python/pyspark/mllib/stat/KernelDensity.py\n",
            "spark-3.1.1-bin-hadoop2.7/python/pyspark/mllib/stat/_statistics.pyi\n",
            "spark-3.1.1-bin-hadoop2.7/python/pyspark/mllib/stat/distribution.pyi\n",
            "spark-3.1.1-bin-hadoop2.7/python/pyspark/mllib/stat/test.pyi\n",
            "spark-3.1.1-bin-hadoop2.7/python/pyspark/mllib/stat/test.py\n",
            "spark-3.1.1-bin-hadoop2.7/python/pyspark/mllib/stat/_statistics.py\n",
            "spark-3.1.1-bin-hadoop2.7/python/pyspark/mllib/stat/KernelDensity.pyi\n",
            "spark-3.1.1-bin-hadoop2.7/python/pyspark/mllib/tree.pyi\n",
            "spark-3.1.1-bin-hadoop2.7/python/pyspark/mllib/clustering.py\n",
            "spark-3.1.1-bin-hadoop2.7/python/pyspark/mllib/common.py\n",
            "spark-3.1.1-bin-hadoop2.7/python/pyspark/mllib/linalg/\n",
            "spark-3.1.1-bin-hadoop2.7/python/pyspark/mllib/linalg/__init__.pyi\n",
            "spark-3.1.1-bin-hadoop2.7/python/pyspark/mllib/linalg/__init__.py\n",
            "spark-3.1.1-bin-hadoop2.7/python/pyspark/mllib/linalg/distributed.py\n",
            "spark-3.1.1-bin-hadoop2.7/python/pyspark/mllib/linalg/distributed.pyi\n",
            "spark-3.1.1-bin-hadoop2.7/python/pyspark/mllib/evaluation.py\n",
            "spark-3.1.1-bin-hadoop2.7/python/pyspark/mllib/util.py\n",
            "spark-3.1.1-bin-hadoop2.7/python/pyspark/resultiterable.py\n",
            "spark-3.1.1-bin-hadoop2.7/python/pyspark/profiler.py\n",
            "spark-3.1.1-bin-hadoop2.7/python/pyspark/statcounter.py\n",
            "spark-3.1.1-bin-hadoop2.7/python/pyspark/join.py\n",
            "spark-3.1.1-bin-hadoop2.7/python/pyspark/daemon.py\n",
            "spark-3.1.1-bin-hadoop2.7/python/pyspark/rdd.py\n",
            "spark-3.1.1-bin-hadoop2.7/python/pyspark/context.py\n",
            "spark-3.1.1-bin-hadoop2.7/python/pyspark/cloudpickle/\n",
            "spark-3.1.1-bin-hadoop2.7/python/pyspark/cloudpickle/cloudpickle_fast.py\n",
            "spark-3.1.1-bin-hadoop2.7/python/pyspark/cloudpickle/__init__.py\n",
            "spark-3.1.1-bin-hadoop2.7/python/pyspark/cloudpickle/compat.py\n",
            "spark-3.1.1-bin-hadoop2.7/python/pyspark/cloudpickle/cloudpickle.py\n",
            "spark-3.1.1-bin-hadoop2.7/python/pyspark/storagelevel.pyi\n",
            "spark-3.1.1-bin-hadoop2.7/python/pyspark/version.py\n",
            "spark-3.1.1-bin-hadoop2.7/python/pyspark/py.typed\n",
            "spark-3.1.1-bin-hadoop2.7/python/pyspark/files.py\n",
            "spark-3.1.1-bin-hadoop2.7/python/pyspark/worker.py\n",
            "spark-3.1.1-bin-hadoop2.7/python/pyspark/statcounter.pyi\n",
            "spark-3.1.1-bin-hadoop2.7/python/pyspark/conf.pyi\n",
            "spark-3.1.1-bin-hadoop2.7/python/pyspark/shell.py\n",
            "spark-3.1.1-bin-hadoop2.7/python/pyspark/streaming/\n",
            "spark-3.1.1-bin-hadoop2.7/python/pyspark/streaming/tests/\n",
            "spark-3.1.1-bin-hadoop2.7/python/pyspark/streaming/tests/test_listener.py\n",
            "spark-3.1.1-bin-hadoop2.7/python/pyspark/streaming/tests/test_kinesis.py\n",
            "spark-3.1.1-bin-hadoop2.7/python/pyspark/streaming/tests/__init__.py\n",
            "spark-3.1.1-bin-hadoop2.7/python/pyspark/streaming/tests/test_dstream.py\n",
            "spark-3.1.1-bin-hadoop2.7/python/pyspark/streaming/tests/test_context.py\n",
            "spark-3.1.1-bin-hadoop2.7/python/pyspark/streaming/dstream.pyi\n",
            "spark-3.1.1-bin-hadoop2.7/python/pyspark/streaming/kinesis.pyi\n",
            "spark-3.1.1-bin-hadoop2.7/python/pyspark/streaming/context.pyi\n",
            "spark-3.1.1-bin-hadoop2.7/python/pyspark/streaming/dstream.py\n",
            "spark-3.1.1-bin-hadoop2.7/python/pyspark/streaming/listener.pyi\n",
            "spark-3.1.1-bin-hadoop2.7/python/pyspark/streaming/__init__.py\n",
            "spark-3.1.1-bin-hadoop2.7/python/pyspark/streaming/kinesis.py\n",
            "spark-3.1.1-bin-hadoop2.7/python/pyspark/streaming/listener.py\n",
            "spark-3.1.1-bin-hadoop2.7/python/pyspark/streaming/context.py\n",
            "spark-3.1.1-bin-hadoop2.7/python/pyspark/streaming/util.py\n",
            "spark-3.1.1-bin-hadoop2.7/python/pyspark/accumulators.pyi\n",
            "spark-3.1.1-bin-hadoop2.7/python/pyspark/profiler.pyi\n",
            "spark-3.1.1-bin-hadoop2.7/python/pyspark/status.py\n",
            "spark-3.1.1-bin-hadoop2.7/python/pyspark/broadcast.pyi\n",
            "spark-3.1.1-bin-hadoop2.7/python/pyspark/sql/\n",
            "spark-3.1.1-bin-hadoop2.7/python/pyspark/sql/tests/\n",
            "spark-3.1.1-bin-hadoop2.7/python/pyspark/sql/tests/test_functions.py\n",
            "spark-3.1.1-bin-hadoop2.7/python/pyspark/sql/tests/test_readwriter.py\n",
            "spark-3.1.1-bin-hadoop2.7/python/pyspark/sql/tests/test_utils.py\n",
            "spark-3.1.1-bin-hadoop2.7/python/pyspark/sql/tests/test_pandas_grouped_map.py\n",
            "spark-3.1.1-bin-hadoop2.7/python/pyspark/sql/tests/test_dataframe.py\n",
            "spark-3.1.1-bin-hadoop2.7/python/pyspark/sql/tests/test_pandas_map.py\n",
            "spark-3.1.1-bin-hadoop2.7/python/pyspark/sql/tests/test_udf.py\n",
            "spark-3.1.1-bin-hadoop2.7/python/pyspark/sql/tests/test_streaming.py\n",
            "spark-3.1.1-bin-hadoop2.7/python/pyspark/sql/tests/__init__.py\n",
            "spark-3.1.1-bin-hadoop2.7/python/pyspark/sql/tests/test_serde.py\n",
            "spark-3.1.1-bin-hadoop2.7/python/pyspark/sql/tests/test_pandas_udf_window.py\n",
            "spark-3.1.1-bin-hadoop2.7/python/pyspark/sql/tests/test_group.py\n",
            "spark-3.1.1-bin-hadoop2.7/python/pyspark/sql/tests/test_pandas_udf.py\n",
            "spark-3.1.1-bin-hadoop2.7/python/pyspark/sql/tests/test_pandas_cogrouped_map.py\n",
            "spark-3.1.1-bin-hadoop2.7/python/pyspark/sql/tests/test_pandas_udf_grouped_agg.py\n",
            "spark-3.1.1-bin-hadoop2.7/python/pyspark/sql/tests/test_pandas_udf_scalar.py\n",
            "spark-3.1.1-bin-hadoop2.7/python/pyspark/sql/tests/test_catalog.py\n",
            "spark-3.1.1-bin-hadoop2.7/python/pyspark/sql/tests/test_datasources.py\n",
            "spark-3.1.1-bin-hadoop2.7/python/pyspark/sql/tests/test_pandas_udf_typehints.py\n",
            "spark-3.1.1-bin-hadoop2.7/python/pyspark/sql/tests/test_types.py\n",
            "spark-3.1.1-bin-hadoop2.7/python/pyspark/sql/tests/test_column.py\n",
            "spark-3.1.1-bin-hadoop2.7/python/pyspark/sql/tests/test_context.py\n",
            "spark-3.1.1-bin-hadoop2.7/python/pyspark/sql/tests/test_conf.py\n",
            "spark-3.1.1-bin-hadoop2.7/python/pyspark/sql/tests/test_arrow.py\n",
            "spark-3.1.1-bin-hadoop2.7/python/pyspark/sql/tests/test_session.py\n",
            "spark-3.1.1-bin-hadoop2.7/python/pyspark/sql/__init__.pyi\n",
            "spark-3.1.1-bin-hadoop2.7/python/pyspark/sql/pandas/\n",
            "spark-3.1.1-bin-hadoop2.7/python/pyspark/sql/pandas/map_ops.pyi\n",
            "spark-3.1.1-bin-hadoop2.7/python/pyspark/sql/pandas/functions.py\n",
            "spark-3.1.1-bin-hadoop2.7/python/pyspark/sql/pandas/serializers.py\n",
            "spark-3.1.1-bin-hadoop2.7/python/pyspark/sql/pandas/__init__.py\n",
            "spark-3.1.1-bin-hadoop2.7/python/pyspark/sql/pandas/typehints.py\n",
            "spark-3.1.1-bin-hadoop2.7/python/pyspark/sql/pandas/group_ops.pyi\n",
            "spark-3.1.1-bin-hadoop2.7/python/pyspark/sql/pandas/map_ops.py\n",
            "spark-3.1.1-bin-hadoop2.7/python/pyspark/sql/pandas/types.py\n",
            "spark-3.1.1-bin-hadoop2.7/python/pyspark/sql/pandas/conversion.pyi\n",
            "spark-3.1.1-bin-hadoop2.7/python/pyspark/sql/pandas/group_ops.py\n",
            "spark-3.1.1-bin-hadoop2.7/python/pyspark/sql/pandas/functions.pyi\n",
            "spark-3.1.1-bin-hadoop2.7/python/pyspark/sql/pandas/utils.py\n",
            "spark-3.1.1-bin-hadoop2.7/python/pyspark/sql/pandas/conversion.py\n",
            "spark-3.1.1-bin-hadoop2.7/python/pyspark/sql/pandas/_typing/\n",
            "spark-3.1.1-bin-hadoop2.7/python/pyspark/sql/pandas/_typing/__init__.pyi\n",
            "spark-3.1.1-bin-hadoop2.7/python/pyspark/sql/pandas/_typing/protocols/\n",
            "spark-3.1.1-bin-hadoop2.7/python/pyspark/sql/pandas/_typing/protocols/__init__.pyi\n",
            "spark-3.1.1-bin-hadoop2.7/python/pyspark/sql/pandas/_typing/protocols/series.pyi\n",
            "spark-3.1.1-bin-hadoop2.7/python/pyspark/sql/pandas/_typing/protocols/frame.pyi\n",
            "spark-3.1.1-bin-hadoop2.7/python/pyspark/sql/_typing.pyi\n",
            "spark-3.1.1-bin-hadoop2.7/python/pyspark/sql/functions.py\n",
            "spark-3.1.1-bin-hadoop2.7/python/pyspark/sql/readwriter.py\n",
            "spark-3.1.1-bin-hadoop2.7/python/pyspark/sql/streaming.pyi\n",
            "spark-3.1.1-bin-hadoop2.7/python/pyspark/sql/context.pyi\n",
            "spark-3.1.1-bin-hadoop2.7/python/pyspark/sql/column.pyi\n",
            "spark-3.1.1-bin-hadoop2.7/python/pyspark/sql/catalog.py\n",
            "spark-3.1.1-bin-hadoop2.7/python/pyspark/sql/types.pyi\n",
            "spark-3.1.1-bin-hadoop2.7/python/pyspark/sql/window.py\n",
            "spark-3.1.1-bin-hadoop2.7/python/pyspark/sql/udf.py\n",
            "spark-3.1.1-bin-hadoop2.7/python/pyspark/sql/conf.py\n",
            "spark-3.1.1-bin-hadoop2.7/python/pyspark/sql/__init__.py\n",
            "spark-3.1.1-bin-hadoop2.7/python/pyspark/sql/session.py\n",
            "spark-3.1.1-bin-hadoop2.7/python/pyspark/sql/column.py\n",
            "spark-3.1.1-bin-hadoop2.7/python/pyspark/sql/group.py\n",
            "spark-3.1.1-bin-hadoop2.7/python/pyspark/sql/catalog.pyi\n",
            "spark-3.1.1-bin-hadoop2.7/python/pyspark/sql/group.pyi\n",
            "spark-3.1.1-bin-hadoop2.7/python/pyspark/sql/context.py\n",
            "spark-3.1.1-bin-hadoop2.7/python/pyspark/sql/dataframe.pyi\n",
            "spark-3.1.1-bin-hadoop2.7/python/pyspark/sql/types.py\n",
            "spark-3.1.1-bin-hadoop2.7/python/pyspark/sql/functions.pyi\n",
            "spark-3.1.1-bin-hadoop2.7/python/pyspark/sql/conf.pyi\n",
            "spark-3.1.1-bin-hadoop2.7/python/pyspark/sql/udf.pyi\n",
            "spark-3.1.1-bin-hadoop2.7/python/pyspark/sql/dataframe.py\n",
            "spark-3.1.1-bin-hadoop2.7/python/pyspark/sql/avro/\n",
            "spark-3.1.1-bin-hadoop2.7/python/pyspark/sql/avro/functions.py\n",
            "spark-3.1.1-bin-hadoop2.7/python/pyspark/sql/avro/__init__.py\n",
            "spark-3.1.1-bin-hadoop2.7/python/pyspark/sql/avro/functions.pyi\n",
            "spark-3.1.1-bin-hadoop2.7/python/pyspark/sql/utils.py\n",
            "spark-3.1.1-bin-hadoop2.7/python/pyspark/sql/readwriter.pyi\n",
            "spark-3.1.1-bin-hadoop2.7/python/pyspark/sql/window.pyi\n",
            "spark-3.1.1-bin-hadoop2.7/python/pyspark/sql/session.pyi\n",
            "spark-3.1.1-bin-hadoop2.7/python/pyspark/sql/streaming.py\n",
            "spark-3.1.1-bin-hadoop2.7/python/pyspark/shuffle.py\n",
            "spark-3.1.1-bin-hadoop2.7/python/pyspark/rdd.pyi\n",
            "spark-3.1.1-bin-hadoop2.7/python/pyspark/taskcontext.pyi\n",
            "spark-3.1.1-bin-hadoop2.7/python/pyspark/taskcontext.py\n",
            "spark-3.1.1-bin-hadoop2.7/python/pyspark/_globals.py\n",
            "spark-3.1.1-bin-hadoop2.7/python/pyspark/broadcast.py\n",
            "spark-3.1.1-bin-hadoop2.7/python/pyspark/util.py\n",
            "spark-3.1.1-bin-hadoop2.7/python/pyspark/storagelevel.py\n",
            "spark-3.1.1-bin-hadoop2.7/python/.coveragerc\n",
            "spark-3.1.1-bin-hadoop2.7/python/docs/\n",
            "spark-3.1.1-bin-hadoop2.7/python/docs/make2.bat\n",
            "spark-3.1.1-bin-hadoop2.7/python/docs/source/\n",
            "spark-3.1.1-bin-hadoop2.7/python/docs/source/reference/\n",
            "spark-3.1.1-bin-hadoop2.7/python/docs/source/reference/pyspark.ss.rst\n",
            "spark-3.1.1-bin-hadoop2.7/python/docs/source/reference/index.rst\n",
            "spark-3.1.1-bin-hadoop2.7/python/docs/source/reference/pyspark.ml.rst\n",
            "spark-3.1.1-bin-hadoop2.7/python/docs/source/reference/pyspark.rst\n",
            "spark-3.1.1-bin-hadoop2.7/python/docs/source/reference/pyspark.mllib.rst\n",
            "spark-3.1.1-bin-hadoop2.7/python/docs/source/reference/pyspark.streaming.rst\n",
            "spark-3.1.1-bin-hadoop2.7/python/docs/source/reference/pyspark.sql.rst\n",
            "spark-3.1.1-bin-hadoop2.7/python/docs/source/reference/pyspark.resource.rst\n",
            "spark-3.1.1-bin-hadoop2.7/python/docs/source/index.rst\n",
            "spark-3.1.1-bin-hadoop2.7/python/docs/source/getting_started/\n",
            "spark-3.1.1-bin-hadoop2.7/python/docs/source/getting_started/index.rst\n",
            "spark-3.1.1-bin-hadoop2.7/python/docs/source/getting_started/quickstart.ipynb\n",
            "spark-3.1.1-bin-hadoop2.7/python/docs/source/getting_started/install.rst\n",
            "spark-3.1.1-bin-hadoop2.7/python/docs/source/conf.py\n",
            "spark-3.1.1-bin-hadoop2.7/python/docs/source/_templates/\n",
            "spark-3.1.1-bin-hadoop2.7/python/docs/source/_templates/autosummary/\n",
            "spark-3.1.1-bin-hadoop2.7/python/docs/source/_templates/autosummary/class.rst\n",
            "spark-3.1.1-bin-hadoop2.7/python/docs/source/_templates/autosummary/class_with_docs.rst\n",
            "spark-3.1.1-bin-hadoop2.7/python/docs/source/_static/\n",
            "spark-3.1.1-bin-hadoop2.7/python/docs/source/_static/copybutton.js\n",
            "spark-3.1.1-bin-hadoop2.7/python/docs/source/_static/css/\n",
            "spark-3.1.1-bin-hadoop2.7/python/docs/source/_static/css/pyspark.css\n",
            "spark-3.1.1-bin-hadoop2.7/python/docs/source/development/\n",
            "spark-3.1.1-bin-hadoop2.7/python/docs/source/development/setting_ide.rst\n",
            "spark-3.1.1-bin-hadoop2.7/python/docs/source/development/index.rst\n",
            "spark-3.1.1-bin-hadoop2.7/python/docs/source/development/debugging.rst\n",
            "spark-3.1.1-bin-hadoop2.7/python/docs/source/development/testing.rst\n",
            "spark-3.1.1-bin-hadoop2.7/python/docs/source/development/contributing.rst\n",
            "spark-3.1.1-bin-hadoop2.7/python/docs/source/user_guide/\n",
            "spark-3.1.1-bin-hadoop2.7/python/docs/source/user_guide/arrow_pandas.rst\n",
            "spark-3.1.1-bin-hadoop2.7/python/docs/source/user_guide/index.rst\n",
            "spark-3.1.1-bin-hadoop2.7/python/docs/source/user_guide/python_packaging.rst\n",
            "spark-3.1.1-bin-hadoop2.7/python/docs/source/migration_guide/\n",
            "spark-3.1.1-bin-hadoop2.7/python/docs/source/migration_guide/pyspark_2.3.0_to_2.3.1_above.rst\n",
            "spark-3.1.1-bin-hadoop2.7/python/docs/source/migration_guide/index.rst\n",
            "spark-3.1.1-bin-hadoop2.7/python/docs/source/migration_guide/pyspark_2.4_to_3.0.rst\n",
            "spark-3.1.1-bin-hadoop2.7/python/docs/source/migration_guide/pyspark_1.0_1.2_to_1.3.rst\n",
            "spark-3.1.1-bin-hadoop2.7/python/docs/source/migration_guide/pyspark_2.3_to_2.4.rst\n",
            "spark-3.1.1-bin-hadoop2.7/python/docs/source/migration_guide/pyspark_1.4_to_1.5.rst\n",
            "spark-3.1.1-bin-hadoop2.7/python/docs/source/migration_guide/pyspark_2.2_to_2.3.rst\n",
            "spark-3.1.1-bin-hadoop2.7/python/docs/make.bat\n",
            "spark-3.1.1-bin-hadoop2.7/python/docs/Makefile\n",
            "spark-3.1.1-bin-hadoop2.7/python/lib/\n",
            "spark-3.1.1-bin-hadoop2.7/python/lib/PY4J_LICENSE.txt\n",
            "spark-3.1.1-bin-hadoop2.7/python/lib/py4j-0.10.9-src.zip\n",
            "spark-3.1.1-bin-hadoop2.7/python/lib/pyspark.zip\n",
            "spark-3.1.1-bin-hadoop2.7/python/run-tests\n",
            "spark-3.1.1-bin-hadoop2.7/python/setup.cfg\n",
            "spark-3.1.1-bin-hadoop2.7/licenses/\n",
            "spark-3.1.1-bin-hadoop2.7/licenses/LICENSE-respond.txt\n",
            "spark-3.1.1-bin-hadoop2.7/licenses/LICENSE-sbt-launch-lib.txt\n",
            "spark-3.1.1-bin-hadoop2.7/licenses/LICENSE-antlr.txt\n",
            "spark-3.1.1-bin-hadoop2.7/licenses/LICENSE-dagre-d3.txt\n",
            "spark-3.1.1-bin-hadoop2.7/licenses/LICENSE-pyrolite.txt\n",
            "spark-3.1.1-bin-hadoop2.7/licenses/LICENSE-sorttable.js.txt\n",
            "spark-3.1.1-bin-hadoop2.7/licenses/LICENSE-janino.txt\n",
            "spark-3.1.1-bin-hadoop2.7/licenses/LICENSE-protobuf.txt\n",
            "spark-3.1.1-bin-hadoop2.7/licenses/LICENSE-jquery.txt\n",
            "spark-3.1.1-bin-hadoop2.7/licenses/LICENSE-scopt.txt\n",
            "spark-3.1.1-bin-hadoop2.7/licenses/LICENSE-netlib.txt\n",
            "spark-3.1.1-bin-hadoop2.7/licenses/LICENSE-d3.min.js.txt\n",
            "spark-3.1.1-bin-hadoop2.7/licenses/LICENSE-graphlib-dot.txt\n",
            "spark-3.1.1-bin-hadoop2.7/licenses/LICENSE-AnchorJS.txt\n",
            "spark-3.1.1-bin-hadoop2.7/licenses/LICENSE-datatables.txt\n",
            "spark-3.1.1-bin-hadoop2.7/licenses/LICENSE-pmml-model.txt\n",
            "spark-3.1.1-bin-hadoop2.7/licenses/LICENSE-paranamer.txt\n",
            "spark-3.1.1-bin-hadoop2.7/licenses/LICENSE-jakarta-ws-rs-api\n",
            "spark-3.1.1-bin-hadoop2.7/licenses/LICENSE-dnsjava.txt\n",
            "spark-3.1.1-bin-hadoop2.7/licenses/LICENSE-jakarta.xml.bind-api.txt\n",
            "spark-3.1.1-bin-hadoop2.7/licenses/LICENSE-jakarta-annotation-api\n",
            "spark-3.1.1-bin-hadoop2.7/licenses/LICENSE-CC0.txt\n",
            "spark-3.1.1-bin-hadoop2.7/licenses/LICENSE-jodd.txt\n",
            "spark-3.1.1-bin-hadoop2.7/licenses/LICENSE-f2j.txt\n",
            "spark-3.1.1-bin-hadoop2.7/licenses/LICENSE-machinist.txt\n",
            "spark-3.1.1-bin-hadoop2.7/licenses/LICENSE-javolution.txt\n",
            "spark-3.1.1-bin-hadoop2.7/licenses/LICENSE-modernizr.txt\n",
            "spark-3.1.1-bin-hadoop2.7/licenses/LICENSE-spire.txt\n",
            "spark-3.1.1-bin-hadoop2.7/licenses/LICENSE-leveldbjni.txt\n",
            "spark-3.1.1-bin-hadoop2.7/licenses/LICENSE-join.txt\n",
            "spark-3.1.1-bin-hadoop2.7/licenses/LICENSE-zstd-jni.txt\n",
            "spark-3.1.1-bin-hadoop2.7/licenses/LICENSE-slf4j.txt\n",
            "spark-3.1.1-bin-hadoop2.7/licenses/LICENSE-arpack.txt\n",
            "spark-3.1.1-bin-hadoop2.7/licenses/LICENSE-jsp-api.txt\n",
            "spark-3.1.1-bin-hadoop2.7/licenses/LICENSE-JTransforms.txt\n",
            "spark-3.1.1-bin-hadoop2.7/licenses/LICENSE-JLargeArrays.txt\n",
            "spark-3.1.1-bin-hadoop2.7/licenses/LICENSE-bootstrap.txt\n",
            "spark-3.1.1-bin-hadoop2.7/licenses/LICENSE-reflectasm.txt\n",
            "spark-3.1.1-bin-hadoop2.7/licenses/LICENSE-javassist.html\n",
            "spark-3.1.1-bin-hadoop2.7/licenses/LICENSE-zstd.txt\n",
            "spark-3.1.1-bin-hadoop2.7/licenses/LICENSE-json-formatter.txt\n",
            "spark-3.1.1-bin-hadoop2.7/licenses/LICENSE-matchMedia-polyfill.txt\n",
            "spark-3.1.1-bin-hadoop2.7/licenses/LICENSE-scala.txt\n",
            "spark-3.1.1-bin-hadoop2.7/licenses/LICENSE-jakarta.activation-api.txt\n",
            "spark-3.1.1-bin-hadoop2.7/licenses/LICENSE-automaton.txt\n",
            "spark-3.1.1-bin-hadoop2.7/licenses/LICENSE-javax-transaction-transaction-api.txt\n",
            "spark-3.1.1-bin-hadoop2.7/licenses/LICENSE-jaxb-runtime.txt\n",
            "spark-3.1.1-bin-hadoop2.7/licenses/LICENSE-minlog.txt\n",
            "spark-3.1.1-bin-hadoop2.7/licenses/LICENSE-mustache.txt\n",
            "spark-3.1.1-bin-hadoop2.7/licenses/LICENSE-xmlenc.txt\n",
            "spark-3.1.1-bin-hadoop2.7/licenses/LICENSE-jline.txt\n",
            "spark-3.1.1-bin-hadoop2.7/licenses/LICENSE-istack-commons-runtime.txt\n",
            "spark-3.1.1-bin-hadoop2.7/licenses/LICENSE-py4j.txt\n",
            "spark-3.1.1-bin-hadoop2.7/licenses/LICENSE-vis-timeline.txt\n",
            "spark-3.1.1-bin-hadoop2.7/licenses/LICENSE-re2j.txt\n",
            "spark-3.1.1-bin-hadoop2.7/licenses/LICENSE-kryo.txt\n",
            "spark-3.1.1-bin-hadoop2.7/licenses/LICENSE-cloudpickle.txt\n"
          ],
          "name": "stdout"
        }
      ]
    },
    {
      "cell_type": "markdown",
      "metadata": {
        "id": "3VHSEaME8QUL"
      },
      "source": [
        "### Pandas dataframe is prettier than Spark DataFrame.show()"
      ]
    },
    {
      "cell_type": "code",
      "metadata": {
        "id": "V_5xBEiP9y0-"
      },
      "source": [
        "import os\n",
        "os.environ[\"SPARK_HOME\"] = \"/content/spark-3.1.1-bin-hadoop2.7\"\n",
        "import findspark\n",
        "findspark.init()"
      ],
      "execution_count": 2,
      "outputs": []
    },
    {
      "cell_type": "code",
      "metadata": {
        "colab": {
          "base_uri": "https://localhost:8080/"
        },
        "id": "YbzOJX4T9_qL",
        "outputId": "0c17f8fd-869f-419d-fa8e-5e54cb7bf9ad"
      },
      "source": [
        "from google.colab import drive\n",
        "drive.mount('/content/drive/')"
      ],
      "execution_count": 3,
      "outputs": [
        {
          "output_type": "stream",
          "text": [
            "Mounted at /content/drive/\n"
          ],
          "name": "stdout"
        }
      ]
    },
    {
      "cell_type": "code",
      "metadata": {
        "colab": {
          "base_uri": "https://localhost:8080/"
        },
        "id": "Y__NpPlw900R",
        "outputId": "f1ed5a23-3970-4795-95cb-d8722ea48f89"
      },
      "source": [
        "from pyspark.sql import SparkSession\n",
        "spark = SparkSession.builder.appName('ml-bank').getOrCreate()\n",
        "df = spark.read.csv('/content/drive/My Drive/bank.csv', header = True, inferSchema = True)\n",
        "df.printSchema()"
      ],
      "execution_count": 4,
      "outputs": [
        {
          "output_type": "stream",
          "text": [
            "root\n",
            " |-- age: integer (nullable = true)\n",
            " |-- job: string (nullable = true)\n",
            " |-- marital: string (nullable = true)\n",
            " |-- education: string (nullable = true)\n",
            " |-- default: string (nullable = true)\n",
            " |-- balance: integer (nullable = true)\n",
            " |-- housing: string (nullable = true)\n",
            " |-- loan: string (nullable = true)\n",
            " |-- contact: string (nullable = true)\n",
            " |-- day: integer (nullable = true)\n",
            " |-- month: string (nullable = true)\n",
            " |-- duration: integer (nullable = true)\n",
            " |-- campaign: integer (nullable = true)\n",
            " |-- pdays: integer (nullable = true)\n",
            " |-- previous: integer (nullable = true)\n",
            " |-- poutcome: string (nullable = true)\n",
            " |-- deposit: string (nullable = true)\n",
            "\n"
          ],
          "name": "stdout"
        }
      ]
    },
    {
      "cell_type": "code",
      "metadata": {
        "colab": {
          "base_uri": "https://localhost:8080/",
          "height": 576
        },
        "id": "4Yh4vP4V8QUN",
        "outputId": "5cbea432-d7c7-4273-9ead-b022a2149ace"
      },
      "source": [
        "import pandas as pd\n",
        "pd.DataFrame(df.take(5), columns=df.columns).transpose()"
      ],
      "execution_count": 5,
      "outputs": [
        {
          "output_type": "execute_result",
          "data": {
            "text/html": [
              "<div>\n",
              "<style scoped>\n",
              "    .dataframe tbody tr th:only-of-type {\n",
              "        vertical-align: middle;\n",
              "    }\n",
              "\n",
              "    .dataframe tbody tr th {\n",
              "        vertical-align: top;\n",
              "    }\n",
              "\n",
              "    .dataframe thead th {\n",
              "        text-align: right;\n",
              "    }\n",
              "</style>\n",
              "<table border=\"1\" class=\"dataframe\">\n",
              "  <thead>\n",
              "    <tr style=\"text-align: right;\">\n",
              "      <th></th>\n",
              "      <th>0</th>\n",
              "      <th>1</th>\n",
              "      <th>2</th>\n",
              "      <th>3</th>\n",
              "      <th>4</th>\n",
              "    </tr>\n",
              "  </thead>\n",
              "  <tbody>\n",
              "    <tr>\n",
              "      <th>age</th>\n",
              "      <td>59</td>\n",
              "      <td>56</td>\n",
              "      <td>41</td>\n",
              "      <td>55</td>\n",
              "      <td>54</td>\n",
              "    </tr>\n",
              "    <tr>\n",
              "      <th>job</th>\n",
              "      <td>admin.</td>\n",
              "      <td>admin.</td>\n",
              "      <td>technician</td>\n",
              "      <td>services</td>\n",
              "      <td>admin.</td>\n",
              "    </tr>\n",
              "    <tr>\n",
              "      <th>marital</th>\n",
              "      <td>married</td>\n",
              "      <td>married</td>\n",
              "      <td>married</td>\n",
              "      <td>married</td>\n",
              "      <td>married</td>\n",
              "    </tr>\n",
              "    <tr>\n",
              "      <th>education</th>\n",
              "      <td>secondary</td>\n",
              "      <td>secondary</td>\n",
              "      <td>secondary</td>\n",
              "      <td>secondary</td>\n",
              "      <td>tertiary</td>\n",
              "    </tr>\n",
              "    <tr>\n",
              "      <th>default</th>\n",
              "      <td>no</td>\n",
              "      <td>no</td>\n",
              "      <td>no</td>\n",
              "      <td>no</td>\n",
              "      <td>no</td>\n",
              "    </tr>\n",
              "    <tr>\n",
              "      <th>balance</th>\n",
              "      <td>2343</td>\n",
              "      <td>45</td>\n",
              "      <td>1270</td>\n",
              "      <td>2476</td>\n",
              "      <td>184</td>\n",
              "    </tr>\n",
              "    <tr>\n",
              "      <th>housing</th>\n",
              "      <td>yes</td>\n",
              "      <td>no</td>\n",
              "      <td>yes</td>\n",
              "      <td>yes</td>\n",
              "      <td>no</td>\n",
              "    </tr>\n",
              "    <tr>\n",
              "      <th>loan</th>\n",
              "      <td>no</td>\n",
              "      <td>no</td>\n",
              "      <td>no</td>\n",
              "      <td>no</td>\n",
              "      <td>no</td>\n",
              "    </tr>\n",
              "    <tr>\n",
              "      <th>contact</th>\n",
              "      <td>unknown</td>\n",
              "      <td>unknown</td>\n",
              "      <td>unknown</td>\n",
              "      <td>unknown</td>\n",
              "      <td>unknown</td>\n",
              "    </tr>\n",
              "    <tr>\n",
              "      <th>day</th>\n",
              "      <td>5</td>\n",
              "      <td>5</td>\n",
              "      <td>5</td>\n",
              "      <td>5</td>\n",
              "      <td>5</td>\n",
              "    </tr>\n",
              "    <tr>\n",
              "      <th>month</th>\n",
              "      <td>may</td>\n",
              "      <td>may</td>\n",
              "      <td>may</td>\n",
              "      <td>may</td>\n",
              "      <td>may</td>\n",
              "    </tr>\n",
              "    <tr>\n",
              "      <th>duration</th>\n",
              "      <td>1042</td>\n",
              "      <td>1467</td>\n",
              "      <td>1389</td>\n",
              "      <td>579</td>\n",
              "      <td>673</td>\n",
              "    </tr>\n",
              "    <tr>\n",
              "      <th>campaign</th>\n",
              "      <td>1</td>\n",
              "      <td>1</td>\n",
              "      <td>1</td>\n",
              "      <td>1</td>\n",
              "      <td>2</td>\n",
              "    </tr>\n",
              "    <tr>\n",
              "      <th>pdays</th>\n",
              "      <td>-1</td>\n",
              "      <td>-1</td>\n",
              "      <td>-1</td>\n",
              "      <td>-1</td>\n",
              "      <td>-1</td>\n",
              "    </tr>\n",
              "    <tr>\n",
              "      <th>previous</th>\n",
              "      <td>0</td>\n",
              "      <td>0</td>\n",
              "      <td>0</td>\n",
              "      <td>0</td>\n",
              "      <td>0</td>\n",
              "    </tr>\n",
              "    <tr>\n",
              "      <th>poutcome</th>\n",
              "      <td>unknown</td>\n",
              "      <td>unknown</td>\n",
              "      <td>unknown</td>\n",
              "      <td>unknown</td>\n",
              "      <td>unknown</td>\n",
              "    </tr>\n",
              "    <tr>\n",
              "      <th>deposit</th>\n",
              "      <td>yes</td>\n",
              "      <td>yes</td>\n",
              "      <td>yes</td>\n",
              "      <td>yes</td>\n",
              "      <td>yes</td>\n",
              "    </tr>\n",
              "  </tbody>\n",
              "</table>\n",
              "</div>"
            ],
            "text/plain": [
              "                   0          1           2          3         4\n",
              "age               59         56          41         55        54\n",
              "job           admin.     admin.  technician   services    admin.\n",
              "marital      married    married     married    married   married\n",
              "education  secondary  secondary   secondary  secondary  tertiary\n",
              "default           no         no          no         no        no\n",
              "balance         2343         45        1270       2476       184\n",
              "housing          yes         no         yes        yes        no\n",
              "loan              no         no          no         no        no\n",
              "contact      unknown    unknown     unknown    unknown   unknown\n",
              "day                5          5           5          5         5\n",
              "month            may        may         may        may       may\n",
              "duration        1042       1467        1389        579       673\n",
              "campaign           1          1           1          1         2\n",
              "pdays             -1         -1          -1         -1        -1\n",
              "previous           0          0           0          0         0\n",
              "poutcome     unknown    unknown     unknown    unknown   unknown\n",
              "deposit          yes        yes         yes        yes       yes"
            ]
          },
          "metadata": {
            "tags": []
          },
          "execution_count": 5
        }
      ]
    },
    {
      "cell_type": "markdown",
      "metadata": {
        "id": "SSn8M0kb8QUO"
      },
      "source": [
        "### Our Classes are perfect balanced"
      ]
    },
    {
      "cell_type": "code",
      "metadata": {
        "scrolled": true,
        "colab": {
          "base_uri": "https://localhost:8080/",
          "height": 111
        },
        "id": "my0xatfw8QUP",
        "outputId": "e92aa975-870b-4317-f70f-225453bded35"
      },
      "source": [
        "df.groupby('deposit').count().toPandas()"
      ],
      "execution_count": 6,
      "outputs": [
        {
          "output_type": "execute_result",
          "data": {
            "text/html": [
              "<div>\n",
              "<style scoped>\n",
              "    .dataframe tbody tr th:only-of-type {\n",
              "        vertical-align: middle;\n",
              "    }\n",
              "\n",
              "    .dataframe tbody tr th {\n",
              "        vertical-align: top;\n",
              "    }\n",
              "\n",
              "    .dataframe thead th {\n",
              "        text-align: right;\n",
              "    }\n",
              "</style>\n",
              "<table border=\"1\" class=\"dataframe\">\n",
              "  <thead>\n",
              "    <tr style=\"text-align: right;\">\n",
              "      <th></th>\n",
              "      <th>deposit</th>\n",
              "      <th>count</th>\n",
              "    </tr>\n",
              "  </thead>\n",
              "  <tbody>\n",
              "    <tr>\n",
              "      <th>0</th>\n",
              "      <td>no</td>\n",
              "      <td>5873</td>\n",
              "    </tr>\n",
              "    <tr>\n",
              "      <th>1</th>\n",
              "      <td>yes</td>\n",
              "      <td>5289</td>\n",
              "    </tr>\n",
              "  </tbody>\n",
              "</table>\n",
              "</div>"
            ],
            "text/plain": [
              "  deposit  count\n",
              "0      no   5873\n",
              "1     yes   5289"
            ]
          },
          "metadata": {
            "tags": []
          },
          "execution_count": 6
        }
      ]
    },
    {
      "cell_type": "markdown",
      "metadata": {
        "id": "z5Xje3g88QUQ"
      },
      "source": [
        "### Summary statistics for numeric variables"
      ]
    },
    {
      "cell_type": "code",
      "metadata": {
        "colab": {
          "base_uri": "https://localhost:8080/",
          "height": 297
        },
        "id": "p7z55vg28QUQ",
        "outputId": "34bad759-5858-4944-c474-a1c99af8c9ca"
      },
      "source": [
        "numeric_features = [t[0] for t in df.dtypes if t[1] == 'int']\n",
        "df.select(numeric_features).describe().toPandas().transpose()"
      ],
      "execution_count": 7,
      "outputs": [
        {
          "output_type": "execute_result",
          "data": {
            "text/html": [
              "<div>\n",
              "<style scoped>\n",
              "    .dataframe tbody tr th:only-of-type {\n",
              "        vertical-align: middle;\n",
              "    }\n",
              "\n",
              "    .dataframe tbody tr th {\n",
              "        vertical-align: top;\n",
              "    }\n",
              "\n",
              "    .dataframe thead th {\n",
              "        text-align: right;\n",
              "    }\n",
              "</style>\n",
              "<table border=\"1\" class=\"dataframe\">\n",
              "  <thead>\n",
              "    <tr style=\"text-align: right;\">\n",
              "      <th></th>\n",
              "      <th>0</th>\n",
              "      <th>1</th>\n",
              "      <th>2</th>\n",
              "      <th>3</th>\n",
              "      <th>4</th>\n",
              "    </tr>\n",
              "  </thead>\n",
              "  <tbody>\n",
              "    <tr>\n",
              "      <th>summary</th>\n",
              "      <td>count</td>\n",
              "      <td>mean</td>\n",
              "      <td>stddev</td>\n",
              "      <td>min</td>\n",
              "      <td>max</td>\n",
              "    </tr>\n",
              "    <tr>\n",
              "      <th>age</th>\n",
              "      <td>11162</td>\n",
              "      <td>41.231947679627304</td>\n",
              "      <td>11.913369192215518</td>\n",
              "      <td>18</td>\n",
              "      <td>95</td>\n",
              "    </tr>\n",
              "    <tr>\n",
              "      <th>balance</th>\n",
              "      <td>11162</td>\n",
              "      <td>1528.5385235620856</td>\n",
              "      <td>3225.413325946149</td>\n",
              "      <td>-6847</td>\n",
              "      <td>81204</td>\n",
              "    </tr>\n",
              "    <tr>\n",
              "      <th>day</th>\n",
              "      <td>11162</td>\n",
              "      <td>15.658036194230425</td>\n",
              "      <td>8.420739541006462</td>\n",
              "      <td>1</td>\n",
              "      <td>31</td>\n",
              "    </tr>\n",
              "    <tr>\n",
              "      <th>duration</th>\n",
              "      <td>11162</td>\n",
              "      <td>371.99381831213043</td>\n",
              "      <td>347.12838571630687</td>\n",
              "      <td>2</td>\n",
              "      <td>3881</td>\n",
              "    </tr>\n",
              "    <tr>\n",
              "      <th>campaign</th>\n",
              "      <td>11162</td>\n",
              "      <td>2.508421429851281</td>\n",
              "      <td>2.7220771816614824</td>\n",
              "      <td>1</td>\n",
              "      <td>63</td>\n",
              "    </tr>\n",
              "    <tr>\n",
              "      <th>pdays</th>\n",
              "      <td>11162</td>\n",
              "      <td>51.33040673714388</td>\n",
              "      <td>108.75828197197717</td>\n",
              "      <td>-1</td>\n",
              "      <td>854</td>\n",
              "    </tr>\n",
              "    <tr>\n",
              "      <th>previous</th>\n",
              "      <td>11162</td>\n",
              "      <td>0.8325568894463358</td>\n",
              "      <td>2.292007218670508</td>\n",
              "      <td>0</td>\n",
              "      <td>58</td>\n",
              "    </tr>\n",
              "  </tbody>\n",
              "</table>\n",
              "</div>"
            ],
            "text/plain": [
              "              0                   1                   2      3      4\n",
              "summary   count                mean              stddev    min    max\n",
              "age       11162  41.231947679627304  11.913369192215518     18     95\n",
              "balance   11162  1528.5385235620856   3225.413325946149  -6847  81204\n",
              "day       11162  15.658036194230425   8.420739541006462      1     31\n",
              "duration  11162  371.99381831213043  347.12838571630687      2   3881\n",
              "campaign  11162   2.508421429851281  2.7220771816614824      1     63\n",
              "pdays     11162   51.33040673714388  108.75828197197717     -1    854\n",
              "previous  11162  0.8325568894463358   2.292007218670508      0     58"
            ]
          },
          "metadata": {
            "tags": []
          },
          "execution_count": 7
        }
      ]
    },
    {
      "cell_type": "markdown",
      "metadata": {
        "id": "ANyx0Y568QUR"
      },
      "source": [
        "### Correlations"
      ]
    },
    {
      "cell_type": "code",
      "metadata": {
        "colab": {
          "base_uri": "https://localhost:8080/",
          "height": 519
        },
        "id": "daFsYJzY8QUS",
        "outputId": "b15201ab-4ba2-4968-f669-6d7b1a84fcf9"
      },
      "source": [
        "numeric_data = df.select(numeric_features).toPandas()\n",
        "\n",
        "axs = pd.plotting.scatter_matrix(numeric_data, figsize=(8, 8));\n",
        "\n",
        "# Rotate axis labels and remove axis ticks\n",
        "n = len(numeric_data.columns)\n",
        "for i in range(n):\n",
        "    v = axs[i, 0]\n",
        "    v.yaxis.label.set_rotation(0)\n",
        "    v.yaxis.label.set_ha('right')\n",
        "    v.set_yticks(())\n",
        "    h = axs[n-1, i]\n",
        "    h.xaxis.label.set_rotation(90)\n",
        "    h.set_xticks(())"
      ],
      "execution_count": 8,
      "outputs": [
        {
          "output_type": "display_data",
          "data": {
            "image/png": "[encoded data removed]",
            "text/plain": [
              "<Figure size 576x576 with 49 Axes>"
            ]
          },
          "metadata": {
            "tags": [],
            "needs_background": "light"
          }
        }
      ]
    },
    {
      "cell_type": "markdown",
      "metadata": {
        "id": "mjzNkmLG8QUT"
      },
      "source": [
        "It's obvious that there aren't highly correlated independent variables. Therefore, we will keep all of them for the model. However, day and month columns are not really useful, we will remove these two columns."
      ]
    },
    {
      "cell_type": "code",
      "metadata": {
        "colab": {
          "base_uri": "https://localhost:8080/"
        },
        "id": "M3faAM3T8QUU",
        "outputId": "510fe9fa-5325-4691-8c74-ffb1799ddc91"
      },
      "source": [
        "df = df.select('age', 'job', 'marital', 'education', 'default', 'balance', 'housing', 'loan', 'contact', 'duration', 'campaign', 'pdays', 'previous', 'poutcome', 'deposit')\n",
        "cols = df.columns\n",
        "df.printSchema()"
      ],
      "execution_count": 9,
      "outputs": [
        {
          "output_type": "stream",
          "text": [
            "root\n",
            " |-- age: integer (nullable = true)\n",
            " |-- job: string (nullable = true)\n",
            " |-- marital: string (nullable = true)\n",
            " |-- education: string (nullable = true)\n",
            " |-- default: string (nullable = true)\n",
            " |-- balance: integer (nullable = true)\n",
            " |-- housing: string (nullable = true)\n",
            " |-- loan: string (nullable = true)\n",
            " |-- contact: string (nullable = true)\n",
            " |-- duration: integer (nullable = true)\n",
            " |-- campaign: integer (nullable = true)\n",
            " |-- pdays: integer (nullable = true)\n",
            " |-- previous: integer (nullable = true)\n",
            " |-- poutcome: string (nullable = true)\n",
            " |-- deposit: string (nullable = true)\n",
            "\n"
          ],
          "name": "stdout"
        }
      ]
    },
    {
      "cell_type": "markdown",
      "metadata": {
        "id": "IKSYvKpN8QUU"
      },
      "source": [
        "### Preparing Data for Machine Learning\n",
        "\n",
        "Category Indexing, One-Hot Encoding and VectorAssembler - a feature transformer that merges multiple columns into a vector column."
      ]
    },
    {
      "cell_type": "code",
      "metadata": {
        "id": "9VEiR7dq8QUV"
      },
      "source": [
        "from pyspark.ml.feature import OneHotEncoder, StringIndexer, VectorAssembler\n",
        "\n",
        "categoricalColumns = ['job', 'marital', 'education', 'default', 'housing', 'loan', 'contact', 'poutcome']\n",
        "stages = []\n",
        "\n",
        "for categoricalCol in categoricalColumns:\n",
        "    stringIndexer = StringIndexer(inputCol = categoricalCol, outputCol = categoricalCol + 'Index')\n",
        "    encoder = OneHotEncoder(inputCols=[stringIndexer.getOutputCol()], outputCols=[categoricalCol + \"classVec\"])\n",
        "    stages += [stringIndexer, encoder]\n",
        "\n",
        "label_stringIdx = StringIndexer(inputCol = 'deposit', outputCol = 'label')\n",
        "stages += [label_stringIdx]\n",
        "\n",
        "numericCols = ['age', 'balance', 'duration', 'campaign', 'pdays', 'previous']\n",
        "assemblerInputs = [c + \"classVec\" for c in categoricalColumns] + numericCols\n",
        "assembler = VectorAssembler(inputCols=assemblerInputs, outputCol=\"features\")\n",
        "stages += [assembler]"
      ],
      "execution_count": 10,
      "outputs": []
    },
    {
      "cell_type": "markdown",
      "metadata": {
        "id": "tYSq9gvx8QUW"
      },
      "source": [
        "The above code are taken from databricks' official site and it indexes each categorical column using the StringIndexer, then converts the indexed categories into one-hot encoded variables. The resulting output has the binary vectors appended to the end of each row. We use the StringIndexer again to encode our labels to label indices.\n",
        "\n",
        "Next, we use the VectorAssembler to combine all the feature columns into a single vector column."
      ]
    },
    {
      "cell_type": "markdown",
      "metadata": {
        "id": "McvE7ZGI8QUX"
      },
      "source": [
        "### Pipeline\n",
        "\n",
        "We use Pipeline to chain multiple Transformers and Estimators together to specify our machine learning workflow. A Pipeline’s stages are specified as an ordered array."
      ]
    },
    {
      "cell_type": "code",
      "metadata": {
        "colab": {
          "base_uri": "https://localhost:8080/"
        },
        "id": "pEFWv_P48QUX",
        "outputId": "37b20778-8e80-4938-919a-b8e0a1251351"
      },
      "source": [
        "from pyspark.ml import Pipeline\n",
        "pipeline = Pipeline(stages = stages)\n",
        "pipelineModel = pipeline.fit(df)\n",
        "df = pipelineModel.transform(df)\n",
        "selectedCols = ['label', 'features'] + cols\n",
        "df = df.select(selectedCols)\n",
        "df.printSchema()"
      ],
      "execution_count": 11,
      "outputs": [
        {
          "output_type": "stream",
          "text": [
            "root\n",
            " |-- label: double (nullable = false)\n",
            " |-- features: vector (nullable = true)\n",
            " |-- age: integer (nullable = true)\n",
            " |-- job: string (nullable = true)\n",
            " |-- marital: string (nullable = true)\n",
            " |-- education: string (nullable = true)\n",
            " |-- default: string (nullable = true)\n",
            " |-- balance: integer (nullable = true)\n",
            " |-- housing: string (nullable = true)\n",
            " |-- loan: string (nullable = true)\n",
            " |-- contact: string (nullable = true)\n",
            " |-- duration: integer (nullable = true)\n",
            " |-- campaign: integer (nullable = true)\n",
            " |-- pdays: integer (nullable = true)\n",
            " |-- previous: integer (nullable = true)\n",
            " |-- poutcome: string (nullable = true)\n",
            " |-- deposit: string (nullable = true)\n",
            "\n"
          ],
          "name": "stdout"
        }
      ]
    },
    {
      "cell_type": "code",
      "metadata": {
        "colab": {
          "base_uri": "https://localhost:8080/",
          "height": 593
        },
        "id": "23XBAX3M8QUY",
        "outputId": "82b7b34c-f8a5-4ff9-c60f-4e78f418c0a0"
      },
      "source": [
        "pd.DataFrame(df.take(5), columns=df.columns).transpose()"
      ],
      "execution_count": 12,
      "outputs": [
        {
          "output_type": "execute_result",
          "data": {
            "text/html": [
              "<div>\n",
              "<style scoped>\n",
              "    .dataframe tbody tr th:only-of-type {\n",
              "        vertical-align: middle;\n",
              "    }\n",
              "\n",
              "    .dataframe tbody tr th {\n",
              "        vertical-align: top;\n",
              "    }\n",
              "\n",
              "    .dataframe thead th {\n",
              "        text-align: right;\n",
              "    }\n",
              "</style>\n",
              "<table border=\"1\" class=\"dataframe\">\n",
              "  <thead>\n",
              "    <tr style=\"text-align: right;\">\n",
              "      <th></th>\n",
              "      <th>0</th>\n",
              "      <th>1</th>\n",
              "      <th>2</th>\n",
              "      <th>3</th>\n",
              "      <th>4</th>\n",
              "    </tr>\n",
              "  </thead>\n",
              "  <tbody>\n",
              "    <tr>\n",
              "      <th>label</th>\n",
              "      <td>1</td>\n",
              "      <td>1</td>\n",
              "      <td>1</td>\n",
              "      <td>1</td>\n",
              "      <td>1</td>\n",
              "    </tr>\n",
              "    <tr>\n",
              "      <th>features</th>\n",
              "      <td>(0.0, 0.0, 0.0, 1.0, 0.0, 0.0, 0.0, 0.0, 0.0, ...</td>\n",
              "      <td>(0.0, 0.0, 0.0, 1.0, 0.0, 0.0, 0.0, 0.0, 0.0, ...</td>\n",
              "      <td>(0.0, 0.0, 1.0, 0.0, 0.0, 0.0, 0.0, 0.0, 0.0, ...</td>\n",
              "      <td>(0.0, 0.0, 0.0, 0.0, 1.0, 0.0, 0.0, 0.0, 0.0, ...</td>\n",
              "      <td>(0.0, 0.0, 0.0, 1.0, 0.0, 0.0, 0.0, 0.0, 0.0, ...</td>\n",
              "    </tr>\n",
              "    <tr>\n",
              "      <th>age</th>\n",
              "      <td>59</td>\n",
              "      <td>56</td>\n",
              "      <td>41</td>\n",
              "      <td>55</td>\n",
              "      <td>54</td>\n",
              "    </tr>\n",
              "    <tr>\n",
              "      <th>job</th>\n",
              "      <td>admin.</td>\n",
              "      <td>admin.</td>\n",
              "      <td>technician</td>\n",
              "      <td>services</td>\n",
              "      <td>admin.</td>\n",
              "    </tr>\n",
              "    <tr>\n",
              "      <th>marital</th>\n",
              "      <td>married</td>\n",
              "      <td>married</td>\n",
              "      <td>married</td>\n",
              "      <td>married</td>\n",
              "      <td>married</td>\n",
              "    </tr>\n",
              "    <tr>\n",
              "      <th>education</th>\n",
              "      <td>secondary</td>\n",
              "      <td>secondary</td>\n",
              "      <td>secondary</td>\n",
              "      <td>secondary</td>\n",
              "      <td>tertiary</td>\n",
              "    </tr>\n",
              "    <tr>\n",
              "      <th>default</th>\n",
              "      <td>no</td>\n",
              "      <td>no</td>\n",
              "      <td>no</td>\n",
              "      <td>no</td>\n",
              "      <td>no</td>\n",
              "    </tr>\n",
              "    <tr>\n",
              "      <th>balance</th>\n",
              "      <td>2343</td>\n",
              "      <td>45</td>\n",
              "      <td>1270</td>\n",
              "      <td>2476</td>\n",
              "      <td>184</td>\n",
              "    </tr>\n",
              "    <tr>\n",
              "      <th>housing</th>\n",
              "      <td>yes</td>\n",
              "      <td>no</td>\n",
              "      <td>yes</td>\n",
              "      <td>yes</td>\n",
              "      <td>no</td>\n",
              "    </tr>\n",
              "    <tr>\n",
              "      <th>loan</th>\n",
              "      <td>no</td>\n",
              "      <td>no</td>\n",
              "      <td>no</td>\n",
              "      <td>no</td>\n",
              "      <td>no</td>\n",
              "    </tr>\n",
              "    <tr>\n",
              "      <th>contact</th>\n",
              "      <td>unknown</td>\n",
              "      <td>unknown</td>\n",
              "      <td>unknown</td>\n",
              "      <td>unknown</td>\n",
              "      <td>unknown</td>\n",
              "    </tr>\n",
              "    <tr>\n",
              "      <th>duration</th>\n",
              "      <td>1042</td>\n",
              "      <td>1467</td>\n",
              "      <td>1389</td>\n",
              "      <td>579</td>\n",
              "      <td>673</td>\n",
              "    </tr>\n",
              "    <tr>\n",
              "      <th>campaign</th>\n",
              "      <td>1</td>\n",
              "      <td>1</td>\n",
              "      <td>1</td>\n",
              "      <td>1</td>\n",
              "      <td>2</td>\n",
              "    </tr>\n",
              "    <tr>\n",
              "      <th>pdays</th>\n",
              "      <td>-1</td>\n",
              "      <td>-1</td>\n",
              "      <td>-1</td>\n",
              "      <td>-1</td>\n",
              "      <td>-1</td>\n",
              "    </tr>\n",
              "    <tr>\n",
              "      <th>previous</th>\n",
              "      <td>0</td>\n",
              "      <td>0</td>\n",
              "      <td>0</td>\n",
              "      <td>0</td>\n",
              "      <td>0</td>\n",
              "    </tr>\n",
              "    <tr>\n",
              "      <th>poutcome</th>\n",
              "      <td>unknown</td>\n",
              "      <td>unknown</td>\n",
              "      <td>unknown</td>\n",
              "      <td>unknown</td>\n",
              "      <td>unknown</td>\n",
              "    </tr>\n",
              "    <tr>\n",
              "      <th>deposit</th>\n",
              "      <td>yes</td>\n",
              "      <td>yes</td>\n",
              "      <td>yes</td>\n",
              "      <td>yes</td>\n",
              "      <td>yes</td>\n",
              "    </tr>\n",
              "  </tbody>\n",
              "</table>\n",
              "</div>"
            ],
            "text/plain": [
              "                                                           0  ...                                                  4\n",
              "label                                                      1  ...                                                  1\n",
              "features   (0.0, 0.0, 0.0, 1.0, 0.0, 0.0, 0.0, 0.0, 0.0, ...  ...  (0.0, 0.0, 0.0, 1.0, 0.0, 0.0, 0.0, 0.0, 0.0, ...\n",
              "age                                                       59  ...                                                 54\n",
              "job                                                   admin.  ...                                             admin.\n",
              "marital                                              married  ...                                            married\n",
              "education                                          secondary  ...                                           tertiary\n",
              "default                                                   no  ...                                                 no\n",
              "balance                                                 2343  ...                                                184\n",
              "housing                                                  yes  ...                                                 no\n",
              "loan                                                      no  ...                                                 no\n",
              "contact                                              unknown  ...                                            unknown\n",
              "duration                                                1042  ...                                                673\n",
              "campaign                                                   1  ...                                                  2\n",
              "pdays                                                     -1  ...                                                 -1\n",
              "previous                                                   0  ...                                                  0\n",
              "poutcome                                             unknown  ...                                            unknown\n",
              "deposit                                                  yes  ...                                                yes\n",
              "\n",
              "[17 rows x 5 columns]"
            ]
          },
          "metadata": {
            "tags": []
          },
          "execution_count": 12
        }
      ]
    },
    {
      "cell_type": "markdown",
      "metadata": {
        "id": "Q9nHMhUm8QUZ"
      },
      "source": [
        "As you can see, we now have features column and label column\n",
        "\n",
        "Randomly split data into train and test sets. set seed for reproducibility"
      ]
    },
    {
      "cell_type": "code",
      "metadata": {
        "colab": {
          "base_uri": "https://localhost:8080/"
        },
        "id": "W2Imel5S8QUZ",
        "outputId": "a5939e0a-e194-4358-a742-2cfe83065239"
      },
      "source": [
        "train, test = df.randomSplit([0.7, 0.3], seed = 2018)\n",
        "print(\"Training Dataset Count: \" + str(train.count()))\n",
        "print(\"Test Dataset Count: \" + str(test.count()))"
      ],
      "execution_count": 13,
      "outputs": [
        {
          "output_type": "stream",
          "text": [
            "Training Dataset Count: 7855\n",
            "Test Dataset Count: 3307\n"
          ],
          "name": "stdout"
        }
      ]
    },
    {
      "cell_type": "markdown",
      "metadata": {
        "id": "rW1CY9IP8QUa"
      },
      "source": [
        "### Logistic Regression Model"
      ]
    },
    {
      "cell_type": "code",
      "metadata": {
        "id": "5i1ZDlRk8QUb"
      },
      "source": [
        "from pyspark.ml.classification import LogisticRegression\n",
        "\n",
        "lr = LogisticRegression(featuresCol = 'features', labelCol = 'label', maxIter=10)\n",
        "lrModel = lr.fit(train)"
      ],
      "execution_count": 14,
      "outputs": []
    },
    {
      "cell_type": "markdown",
      "metadata": {
        "id": "sy5B0qx78QUb"
      },
      "source": [
        "We can obtain the coefficients by using LogisticRegressionModel's attributes."
      ]
    },
    {
      "cell_type": "code",
      "metadata": {
        "colab": {
          "base_uri": "https://localhost:8080/",
          "height": 265
        },
        "id": "QQL_58iz8QUc",
        "outputId": "888d6453-9cbd-46ad-b215-11381a591e42"
      },
      "source": [
        "import matplotlib.pyplot as plt\n",
        "import numpy as np\n",
        "\n",
        "beta = np.sort(lrModel.coefficients)\n",
        "\n",
        "plt.plot(beta)\n",
        "plt.ylabel('Beta Coefficients')\n",
        "plt.show()"
      ],
      "execution_count": 15,
      "outputs": [
        {
          "output_type": "display_data",
          "data": {
            "image/png": "[encoded data removed]",
            "text/plain": [
              "<Figure size 432x288 with 1 Axes>"
            ]
          },
          "metadata": {
            "tags": [],
            "needs_background": "light"
          }
        }
      ]
    },
    {
      "cell_type": "markdown",
      "metadata": {
        "id": "Z-hYl4FC8QUc"
      },
      "source": [
        "Obtain the receiver-operating characteristic and areaUnderROC"
      ]
    },
    {
      "cell_type": "code",
      "metadata": {
        "colab": {
          "base_uri": "https://localhost:8080/",
          "height": 312
        },
        "id": "QO0FQBap8QUd",
        "outputId": "11c555d8-96ca-449e-dca7-21447e5564fa"
      },
      "source": [
        "trainingSummary = lrModel.summary\n",
        "\n",
        "roc = trainingSummary.roc.toPandas()\n",
        "plt.plot(roc['FPR'],roc['TPR'])\n",
        "plt.ylabel('False Positive Rate')\n",
        "plt.xlabel('True Positive Rate')\n",
        "plt.title('ROC Curve')\n",
        "plt.show()\n",
        "\n",
        "print('Training set areaUnderROC: ' + str(trainingSummary.areaUnderROC))"
      ],
      "execution_count": 16,
      "outputs": [
        {
          "output_type": "display_data",
          "data": {
            "image/png": "[encoded data removed]",
            "text/plain": [
              "<Figure size 432x288 with 1 Axes>"
            ]
          },
          "metadata": {
            "tags": [],
            "needs_background": "light"
          }
        },
        {
          "output_type": "stream",
          "text": [
            "Training set areaUnderROC: 0.8865551189326405\n"
          ],
          "name": "stdout"
        }
      ]
    },
    {
      "cell_type": "markdown",
      "metadata": {
        "id": "K0FjerW38QUd"
      },
      "source": [
        "Precision and Recall"
      ]
    },
    {
      "cell_type": "code",
      "metadata": {
        "colab": {
          "base_uri": "https://localhost:8080/",
          "height": 279
        },
        "id": "qpQjb9838QUe",
        "outputId": "f4025e77-1944-4639-bba1-28e4247cf6d9"
      },
      "source": [
        "pr = trainingSummary.pr.toPandas()\n",
        "plt.plot(pr['recall'],pr['precision'])\n",
        "plt.ylabel('Precision')\n",
        "plt.xlabel('Recall')\n",
        "plt.show()"
      ],
      "execution_count": 17,
      "outputs": [
        {
          "output_type": "display_data",
          "data": {
            "image/png": "[encoded data removed]",
            "text/plain": [
              "<Figure size 432x288 with 1 Axes>"
            ]
          },
          "metadata": {
            "tags": [],
            "needs_background": "light"
          }
        }
      ]
    },
    {
      "cell_type": "markdown",
      "metadata": {
        "id": "JVEHm-yZ8QUe"
      },
      "source": [
        "Set the model threshold to maximize F-Measure"
      ]
    },
    {
      "cell_type": "code",
      "metadata": {
        "colab": {
          "base_uri": "https://localhost:8080/",
          "height": 279
        },
        "id": "NjR12oe18QUf",
        "outputId": "34bafebb-12ca-4e8d-dac9-42334731ba3f"
      },
      "source": [
        "f = trainingSummary.fMeasureByThreshold.toPandas()\n",
        "plt.plot(f['threshold'],f['F-Measure'])\n",
        "plt.ylabel('F-Measure')\n",
        "plt.xlabel('Threshold')\n",
        "plt.show()"
      ],
      "execution_count": 18,
      "outputs": [
        {
          "output_type": "display_data",
          "data": {
            "image/png": "[encoded data removed]",
            "text/plain": [
              "<Figure size 432x288 with 1 Axes>"
            ]
          },
          "metadata": {
            "tags": [],
            "needs_background": "light"
          }
        }
      ]
    },
    {
      "cell_type": "markdown",
      "metadata": {
        "id": "OoyAm7VX8QUf"
      },
      "source": [
        "Make predictions on the test set"
      ]
    },
    {
      "cell_type": "code",
      "metadata": {
        "colab": {
          "base_uri": "https://localhost:8080/"
        },
        "id": "UlximT968QUf",
        "outputId": "d6c39719-e05d-4385-d684-934c6b4a973f"
      },
      "source": [
        "predictions = lrModel.transform(test)\n",
        "predictions.select('age', 'job', 'label', 'rawPrediction', 'prediction', 'probability').show(10)"
      ],
      "execution_count": 19,
      "outputs": [
        {
          "output_type": "stream",
          "text": [
            "+---+----------+-----+--------------------+----------+--------------------+\n",
            "|age|       job|label|       rawPrediction|prediction|         probability|\n",
            "+---+----------+-----+--------------------+----------+--------------------+\n",
            "| 33|management|  0.0|[1.93500470498079...|       0.0|[0.87380233100701...|\n",
            "| 49|management|  0.0|[2.04809361205496...|       0.0|[0.88575484704982...|\n",
            "| 52|management|  0.0|[-0.7002122133357...|       1.0|[0.33176517908283...|\n",
            "| 53|management|  0.0|[1.03431610227357...|       0.0|[0.73775180622517...|\n",
            "| 58|management|  0.0|[2.74273671692568...|       0.0|[0.93950183380104...|\n",
            "| 32|management|  0.0|[1.25033004378244...|       0.0|[0.77735698810451...|\n",
            "| 57|management|  0.0|[1.19540519867323...|       0.0|[0.76770638557283...|\n",
            "| 52|management|  0.0|[3.26456982709641...|       0.0|[0.96319314409492...|\n",
            "| 46|management|  0.0|[2.15036209979036...|       0.0|[0.89570260888977...|\n",
            "| 31|management|  0.0|[1.47751802200862...|       0.0|[0.81419739986183...|\n",
            "+---+----------+-----+--------------------+----------+--------------------+\n",
            "only showing top 10 rows\n",
            "\n"
          ],
          "name": "stdout"
        }
      ]
    },
    {
      "cell_type": "markdown",
      "metadata": {
        "id": "IXqGlSTO8QUg"
      },
      "source": [
        "Evaluate our Logistic Regression model"
      ]
    },
    {
      "cell_type": "code",
      "metadata": {
        "colab": {
          "base_uri": "https://localhost:8080/"
        },
        "id": "4Fl-5cHr8QUg",
        "outputId": "0730b26c-631d-4311-e814-fe0c56cb3421"
      },
      "source": [
        "from pyspark.ml.evaluation import BinaryClassificationEvaluator\n",
        "\n",
        "evaluator = BinaryClassificationEvaluator()\n",
        "print('Test Area Under ROC', evaluator.evaluate(predictions))"
      ],
      "execution_count": 20,
      "outputs": [
        {
          "output_type": "stream",
          "text": [
            "Test Area Under ROC 0.8837112925002687\n"
          ],
          "name": "stdout"
        }
      ]
    },
    {
      "cell_type": "code",
      "metadata": {
        "colab": {
          "base_uri": "https://localhost:8080/",
          "height": 35
        },
        "id": "70r00tvf8QUh",
        "outputId": "a87d28ad-0f25-4582-e5e4-1075191183b8"
      },
      "source": [
        "evaluator.getMetricName()"
      ],
      "execution_count": 21,
      "outputs": [
        {
          "output_type": "execute_result",
          "data": {
            "application/vnd.google.colaboratory.intrinsic+json": {
              "type": "string"
            },
            "text/plain": [
              "'areaUnderROC'"
            ]
          },
          "metadata": {
            "tags": []
          },
          "execution_count": 21
        }
      ]
    },
    {
      "cell_type": "markdown",
      "metadata": {
        "id": "AleOLRtu8QUh"
      },
      "source": [
        "Pretty good."
      ]
    },
    {
      "cell_type": "markdown",
      "metadata": {
        "id": "ak7RpnTH8QUi"
      },
      "source": [
        "## Try tuning the model with the ParamGridBuilder and the CrossValidator."
      ]
    },
    {
      "cell_type": "code",
      "metadata": {
        "colab": {
          "base_uri": "https://localhost:8080/"
        },
        "id": "DyXRJuii8QUi",
        "outputId": "e2bec014-ea5f-4aef-aca5-f7717875e5ec"
      },
      "source": [
        "from pyspark.ml.tuning import ParamGridBuilder, CrossValidator\n",
        "\n",
        "# Create ParamGrid for Cross Validation\n",
        "paramGrid = (ParamGridBuilder()\n",
        "             .addGrid(lr.regParam, [0.01, 0.5, 2.0])\n",
        "             .addGrid(lr.elasticNetParam, [0.0, 0.5, 1.0])\n",
        "             .addGrid(lr.maxIter, [1, 5, 10])\n",
        "             .build())\n",
        "\n",
        "cv = CrossValidator(estimator=lr, estimatorParamMaps=paramGrid, evaluator=evaluator, numFolds=5)\n",
        "\n",
        "cvModel = cv.fit(train)\n",
        "predictions = cvModel.transform(test)\n",
        "print('Test Area Under ROC', evaluator.evaluate(predictions))"
      ],
      "execution_count": 22,
      "outputs": [
        {
          "output_type": "stream",
          "text": [
            "Test Area Under ROC 0.8833850995346151\n"
          ],
          "name": "stdout"
        }
      ]
    },
    {
      "cell_type": "code",
      "metadata": {
        "colab": {
          "base_uri": "https://localhost:8080/",
          "height": 35
        },
        "id": "ug7HYfyp8QUj",
        "outputId": "aa616dff-2336-4aad-e833-135f771dda2c"
      },
      "source": [
        "evaluator.getMetricName()"
      ],
      "execution_count": 23,
      "outputs": [
        {
          "output_type": "execute_result",
          "data": {
            "application/vnd.google.colaboratory.intrinsic+json": {
              "type": "string"
            },
            "text/plain": [
              "'areaUnderROC'"
            ]
          },
          "metadata": {
            "tags": []
          },
          "execution_count": 23
        }
      ]
    },
    {
      "cell_type": "markdown",
      "metadata": {
        "id": "zSEqVzQz8QUj"
      },
      "source": [
        "### Decision Tree Classifier\n",
        "\n",
        "Decision trees are widely used since they are easy to interpret, handle categorical features, extend to the multiclass classification setting, do not require feature scaling, and are able to capture non-linearities and feature interactions."
      ]
    },
    {
      "cell_type": "code",
      "metadata": {
        "colab": {
          "base_uri": "https://localhost:8080/"
        },
        "id": "GlKKOHmF8QUk",
        "outputId": "6e692b70-0be7-4d51-f3de-a8c9ac99aaf7"
      },
      "source": [
        "from pyspark.ml.classification import DecisionTreeClassifier\n",
        "\n",
        "dt = DecisionTreeClassifier(featuresCol = 'features', labelCol = 'label', maxDepth = 3)\n",
        "dtModel = dt.fit(train)\n",
        "predictions = dtModel.transform(test)\n",
        "predictions.select('age', 'job', 'label', 'rawPrediction', 'prediction', 'probability').show(10)"
      ],
      "execution_count": 24,
      "outputs": [
        {
          "output_type": "stream",
          "text": [
            "+---+----------+-----+--------------+----------+--------------------+\n",
            "|age|       job|label| rawPrediction|prediction|         probability|\n",
            "+---+----------+-----+--------------+----------+--------------------+\n",
            "| 33|management|  0.0|[2498.0,481.0]|       0.0|[0.83853642161799...|\n",
            "| 49|management|  0.0|[2498.0,481.0]|       0.0|[0.83853642161799...|\n",
            "| 52|management|  0.0|[520.0,1931.0]|       1.0|[0.21215830273357...|\n",
            "| 53|management|  0.0|[2498.0,481.0]|       0.0|[0.83853642161799...|\n",
            "| 58|management|  0.0|[2498.0,481.0]|       0.0|[0.83853642161799...|\n",
            "| 32|management|  0.0|[2498.0,481.0]|       0.0|[0.83853642161799...|\n",
            "| 57|management|  0.0|[2498.0,481.0]|       0.0|[0.83853642161799...|\n",
            "| 52|management|  0.0|[2498.0,481.0]|       0.0|[0.83853642161799...|\n",
            "| 46|management|  0.0|[2498.0,481.0]|       0.0|[0.83853642161799...|\n",
            "| 31|management|  0.0|[2498.0,481.0]|       0.0|[0.83853642161799...|\n",
            "+---+----------+-----+--------------+----------+--------------------+\n",
            "only showing top 10 rows\n",
            "\n"
          ],
          "name": "stdout"
        }
      ]
    },
    {
      "cell_type": "markdown",
      "metadata": {
        "id": "GmP_dawg8QUl"
      },
      "source": [
        "Evaluate our Decision Tree model"
      ]
    },
    {
      "cell_type": "code",
      "metadata": {
        "colab": {
          "base_uri": "https://localhost:8080/"
        },
        "id": "0_DnwbMp8QUl",
        "outputId": "196610cd-73ad-4501-e5ba-f36500d4bc09"
      },
      "source": [
        "evaluator = BinaryClassificationEvaluator()\n",
        "print(\"Test Area Under ROC: \" + str(evaluator.evaluate(predictions, {evaluator.metricName: \"areaUnderROC\"})))"
      ],
      "execution_count": 25,
      "outputs": [
        {
          "output_type": "stream",
          "text": [
            "Test Area Under ROC: 0.7808118726917547\n"
          ],
          "name": "stdout"
        }
      ]
    },
    {
      "cell_type": "code",
      "metadata": {
        "colab": {
          "base_uri": "https://localhost:8080/",
          "height": 35
        },
        "id": "_pkbxK-o8QUl",
        "outputId": "7c18402c-c8a0-4b82-a91e-5cffb7222d05"
      },
      "source": [
        "evaluator.getMetricName()"
      ],
      "execution_count": 26,
      "outputs": [
        {
          "output_type": "execute_result",
          "data": {
            "application/vnd.google.colaboratory.intrinsic+json": {
              "type": "string"
            },
            "text/plain": [
              "'areaUnderROC'"
            ]
          },
          "metadata": {
            "tags": []
          },
          "execution_count": 26
        }
      ]
    },
    {
      "cell_type": "markdown",
      "metadata": {
        "id": "AIUcS0Q-8QUm"
      },
      "source": [
        "One simple decision tree performed poorly because it is too weak given the range of different features. The prediction accuracy of decision trees can be improved by Ensemble methods."
      ]
    },
    {
      "cell_type": "markdown",
      "metadata": {
        "id": "1ClDQITI8QUm"
      },
      "source": [
        "### Random Forest Classifier"
      ]
    },
    {
      "cell_type": "code",
      "metadata": {
        "colab": {
          "base_uri": "https://localhost:8080/"
        },
        "id": "AX5Cko-e8QUm",
        "outputId": "d0c2dfba-638a-4bca-9289-7f6ff2b56f42"
      },
      "source": [
        "from pyspark.ml.classification import RandomForestClassifier\n",
        "\n",
        "rf = RandomForestClassifier(featuresCol = 'features', labelCol = 'label')\n",
        "rfModel = rf.fit(train)\n",
        "predictions = rfModel.transform(test)\n",
        "predictions.select('age', 'job', 'label', 'rawPrediction', 'prediction', 'probability').show(10)"
      ],
      "execution_count": 27,
      "outputs": [
        {
          "output_type": "stream",
          "text": [
            "+---+----------+-----+--------------------+----------+--------------------+\n",
            "|age|       job|label|       rawPrediction|prediction|         probability|\n",
            "+---+----------+-----+--------------------+----------+--------------------+\n",
            "| 33|management|  0.0|[14.4890094197057...|       0.0|[0.72445047098528...|\n",
            "| 49|management|  0.0|[13.4475506949713...|       0.0|[0.67237753474856...|\n",
            "| 52|management|  0.0|[6.59005991305165...|       1.0|[0.32950299565258...|\n",
            "| 53|management|  0.0|[13.4243783764349...|       0.0|[0.67121891882174...|\n",
            "| 58|management|  0.0|[14.8683239159242...|       0.0|[0.74341619579621...|\n",
            "| 32|management|  0.0|[14.8683239159242...|       0.0|[0.74341619579621...|\n",
            "| 57|management|  0.0|[14.2473270959733...|       0.0|[0.71236635479866...|\n",
            "| 52|management|  0.0|[16.8631448347109...|       0.0|[0.84315724173554...|\n",
            "| 46|management|  0.0|[16.6176701224876...|       0.0|[0.83088350612438...|\n",
            "| 31|management|  0.0|[14.1345031932085...|       0.0|[0.70672515966042...|\n",
            "+---+----------+-----+--------------------+----------+--------------------+\n",
            "only showing top 10 rows\n",
            "\n"
          ],
          "name": "stdout"
        }
      ]
    },
    {
      "cell_type": "code",
      "metadata": {
        "colab": {
          "base_uri": "https://localhost:8080/"
        },
        "id": "TZI8bu6i8QUn",
        "outputId": "d060ad4a-fc26-456d-99c2-ed7f7b03f048"
      },
      "source": [
        "evaluator = BinaryClassificationEvaluator()\n",
        "print(\"Test Area Under ROC: \" + str(evaluator.evaluate(predictions, {evaluator.metricName: \"areaUnderROC\"})))"
      ],
      "execution_count": 28,
      "outputs": [
        {
          "output_type": "stream",
          "text": [
            "Test Area Under ROC: 0.879875687897399\n"
          ],
          "name": "stdout"
        }
      ]
    },
    {
      "cell_type": "code",
      "metadata": {
        "colab": {
          "base_uri": "https://localhost:8080/",
          "height": 35
        },
        "id": "fCYUOAs78QUn",
        "outputId": "29c1943b-1cf7-49e1-8ee1-72b238822636"
      },
      "source": [
        "evaluator.getMetricName()"
      ],
      "execution_count": 29,
      "outputs": [
        {
          "output_type": "execute_result",
          "data": {
            "application/vnd.google.colaboratory.intrinsic+json": {
              "type": "string"
            },
            "text/plain": [
              "'areaUnderROC'"
            ]
          },
          "metadata": {
            "tags": []
          },
          "execution_count": 29
        }
      ]
    },
    {
      "cell_type": "code",
      "metadata": {
        "colab": {
          "base_uri": "https://localhost:8080/"
        },
        "id": "2KE7AuSO8QUn",
        "outputId": "2c288959-9266-4ccc-b6b0-6f25079c0d84"
      },
      "source": [
        "print(rf.explainParams())"
      ],
      "execution_count": 30,
      "outputs": [
        {
          "output_type": "stream",
          "text": [
            "bootstrap: Whether bootstrap samples are used when building trees. (default: True)\n",
            "cacheNodeIds: If false, the algorithm will pass trees to executors to match instances with nodes. If true, the algorithm will cache node IDs for each instance. Caching can speed up training of deeper trees. Users can set how often should the cache be checkpointed or disable it by setting checkpointInterval. (default: False)\n",
            "checkpointInterval: set checkpoint interval (>= 1) or disable checkpoint (-1). E.g. 10 means that the cache will get checkpointed every 10 iterations. Note: this setting will be ignored if the checkpoint directory is not set in the SparkContext. (default: 10)\n",
            "featureSubsetStrategy: The number of features to consider for splits at each tree node. Supported options: 'auto' (choose automatically for task: If numTrees == 1, set to 'all'. If numTrees > 1 (forest), set to 'sqrt' for classification and to 'onethird' for regression), 'all' (use all features), 'onethird' (use 1/3 of the features), 'sqrt' (use sqrt(number of features)), 'log2' (use log2(number of features)), 'n' (when n is in the range (0, 1.0], use n * number of features. When n is in the range (1, number of features), use n features). default = 'auto' (default: auto)\n",
            "featuresCol: features column name. (default: features, current: features)\n",
            "impurity: Criterion used for information gain calculation (case-insensitive). Supported options: entropy, gini (default: gini)\n",
            "labelCol: label column name. (default: label, current: label)\n",
            "leafCol: Leaf indices column name. Predicted leaf index of each instance in each tree by preorder. (default: )\n",
            "maxBins: Max number of bins for discretizing continuous features.  Must be >=2 and >= number of categories for any categorical feature. (default: 32)\n",
            "maxDepth: Maximum depth of the tree. (>= 0) E.g., depth 0 means 1 leaf node; depth 1 means 1 internal node + 2 leaf nodes. (default: 5)\n",
            "maxMemoryInMB: Maximum memory in MB allocated to histogram aggregation. If too small, then 1 node will be split per iteration, and its aggregates may exceed this size. (default: 256)\n",
            "minInfoGain: Minimum information gain for a split to be considered at a tree node. (default: 0.0)\n",
            "minInstancesPerNode: Minimum number of instances each child must have after split. If a split causes the left or right child to have fewer than minInstancesPerNode, the split will be discarded as invalid. Should be >= 1. (default: 1)\n",
            "minWeightFractionPerNode: Minimum fraction of the weighted sample count that each child must have after split. If a split causes the fraction of the total weight in the left or right child to be less than minWeightFractionPerNode, the split will be discarded as invalid. Should be in interval [0.0, 0.5). (default: 0.0)\n",
            "numTrees: Number of trees to train (>= 1). (default: 20)\n",
            "predictionCol: prediction column name. (default: prediction)\n",
            "probabilityCol: Column name for predicted class conditional probabilities. Note: Not all models output well-calibrated probability estimates! These probabilities should be treated as confidences, not precise probabilities. (default: probability)\n",
            "rawPredictionCol: raw prediction (a.k.a. confidence) column name. (default: rawPrediction)\n",
            "seed: random seed. (default: -2564494092829367569)\n",
            "subsamplingRate: Fraction of the training data used for learning each decision tree, in range (0, 1]. (default: 1.0)\n",
            "thresholds: Thresholds in multi-class classification to adjust the probability of predicting each class. Array must have length equal to the number of classes, with values > 0, excepting that at most one value may be 0. The class with largest value p/t is predicted, where p is the original probability of that class and t is the class's threshold. (undefined)\n",
            "weightCol: weight column name. If this is not set or empty, we treat all instance weights as 1.0. (undefined)\n"
          ],
          "name": "stdout"
        }
      ]
    },
    {
      "cell_type": "markdown",
      "metadata": {
        "id": "-hP6xi3a8QUo"
      },
      "source": [
        "### Gradient-boosted Tree Classifier"
      ]
    },
    {
      "cell_type": "code",
      "metadata": {
        "colab": {
          "base_uri": "https://localhost:8080/"
        },
        "id": "Sf2cd1Fq8QUo",
        "outputId": "efe03fb5-42ca-4db0-ca27-c6400f8b8594"
      },
      "source": [
        "from pyspark.ml.classification import GBTClassifier\n",
        "\n",
        "gbt = GBTClassifier(maxIter=10)\n",
        "gbtModel = gbt.fit(train)\n",
        "predictions = gbtModel.transform(test)\n",
        "predictions.select('age', 'job', 'label', 'rawPrediction', 'prediction', 'probability').show(10)"
      ],
      "execution_count": 31,
      "outputs": [
        {
          "output_type": "stream",
          "text": [
            "+---+----------+-----+--------------------+----------+--------------------+\n",
            "|age|       job|label|       rawPrediction|prediction|         probability|\n",
            "+---+----------+-----+--------------------+----------+--------------------+\n",
            "| 33|management|  0.0|[0.94992370947246...|       0.0|[0.86987425549896...|\n",
            "| 49|management|  0.0|[1.28281748604659...|       0.0|[0.92861688965145...|\n",
            "| 52|management|  0.0|[-0.5021429054421...|       1.0|[0.26809961471379...|\n",
            "| 53|management|  0.0|[0.09646513340517...|       0.0|[0.54808351175538...|\n",
            "| 58|management|  0.0|[1.05831377292163...|       0.0|[0.89250881497055...|\n",
            "| 32|management|  0.0|[0.57268875896254...|       0.0|[0.75866558918304...|\n",
            "| 57|management|  0.0|[0.34932946844840...|       0.0|[0.66789037418062...|\n",
            "| 52|management|  0.0|[1.33264456943866...|       0.0|[0.93494709840561...|\n",
            "| 46|management|  0.0|[1.28262818068783...|       0.0|[0.92859178839697...|\n",
            "| 31|management|  0.0|[1.16094954405484...|       0.0|[0.91067454521219...|\n",
            "+---+----------+-----+--------------------+----------+--------------------+\n",
            "only showing top 10 rows\n",
            "\n"
          ],
          "name": "stdout"
        }
      ]
    },
    {
      "cell_type": "code",
      "metadata": {
        "colab": {
          "base_uri": "https://localhost:8080/"
        },
        "id": "kZXgf3NU8QUp",
        "outputId": "1dbfaa2a-abac-4190-8f49-2e8e1e3c5d36"
      },
      "source": [
        "evaluator = BinaryClassificationEvaluator()\n",
        "print(\"Test Area Under ROC: \" + str(evaluator.evaluate(predictions, {evaluator.metricName: \"areaUnderROC\"})))"
      ],
      "execution_count": 32,
      "outputs": [
        {
          "output_type": "stream",
          "text": [
            "Test Area Under ROC: 0.8935091626908479\n"
          ],
          "name": "stdout"
        }
      ]
    },
    {
      "cell_type": "code",
      "metadata": {
        "colab": {
          "base_uri": "https://localhost:8080/",
          "height": 35
        },
        "id": "zSuttA8T8QUp",
        "outputId": "da1f0f81-47a1-4ed8-da8c-cf95c37d4cd0"
      },
      "source": [
        "evaluator.getMetricName()"
      ],
      "execution_count": 33,
      "outputs": [
        {
          "output_type": "execute_result",
          "data": {
            "application/vnd.google.colaboratory.intrinsic+json": {
              "type": "string"
            },
            "text/plain": [
              "'areaUnderROC'"
            ]
          },
          "metadata": {
            "tags": []
          },
          "execution_count": 33
        }
      ]
    },
    {
      "cell_type": "markdown",
      "metadata": {
        "id": "rxjH_2_M8QUq"
      },
      "source": [
        "Gradient-boosted Tree achieved the best results, we will try tuning this model with the ParamGridBuilder and the CrossValidator. Before that we can use explainParams() to print a list of all params and their definitions to understand what params available for tuning."
      ]
    },
    {
      "cell_type": "code",
      "metadata": {
        "colab": {
          "base_uri": "https://localhost:8080/"
        },
        "id": "93b7hmHq8QUq",
        "outputId": "5b463cb9-bf83-4377-c33b-0d0363214e21"
      },
      "source": [
        "print(gbt.explainParams())"
      ],
      "execution_count": 34,
      "outputs": [
        {
          "output_type": "stream",
          "text": [
            "cacheNodeIds: If false, the algorithm will pass trees to executors to match instances with nodes. If true, the algorithm will cache node IDs for each instance. Caching can speed up training of deeper trees. Users can set how often should the cache be checkpointed or disable it by setting checkpointInterval. (default: False)\n",
            "checkpointInterval: set checkpoint interval (>= 1) or disable checkpoint (-1). E.g. 10 means that the cache will get checkpointed every 10 iterations. Note: this setting will be ignored if the checkpoint directory is not set in the SparkContext. (default: 10)\n",
            "featureSubsetStrategy: The number of features to consider for splits at each tree node. Supported options: 'auto' (choose automatically for task: If numTrees == 1, set to 'all'. If numTrees > 1 (forest), set to 'sqrt' for classification and to 'onethird' for regression), 'all' (use all features), 'onethird' (use 1/3 of the features), 'sqrt' (use sqrt(number of features)), 'log2' (use log2(number of features)), 'n' (when n is in the range (0, 1.0], use n * number of features. When n is in the range (1, number of features), use n features). default = 'auto' (default: all)\n",
            "featuresCol: features column name. (default: features)\n",
            "impurity: Criterion used for information gain calculation (case-insensitive). Supported options: variance (default: variance)\n",
            "labelCol: label column name. (default: label)\n",
            "leafCol: Leaf indices column name. Predicted leaf index of each instance in each tree by preorder. (default: )\n",
            "lossType: Loss function which GBT tries to minimize (case-insensitive). Supported options: logistic (default: logistic)\n",
            "maxBins: Max number of bins for discretizing continuous features.  Must be >=2 and >= number of categories for any categorical feature. (default: 32)\n",
            "maxDepth: Maximum depth of the tree. (>= 0) E.g., depth 0 means 1 leaf node; depth 1 means 1 internal node + 2 leaf nodes. (default: 5)\n",
            "maxIter: max number of iterations (>= 0). (default: 20, current: 10)\n",
            "maxMemoryInMB: Maximum memory in MB allocated to histogram aggregation. If too small, then 1 node will be split per iteration, and its aggregates may exceed this size. (default: 256)\n",
            "minInfoGain: Minimum information gain for a split to be considered at a tree node. (default: 0.0)\n",
            "minInstancesPerNode: Minimum number of instances each child must have after split. If a split causes the left or right child to have fewer than minInstancesPerNode, the split will be discarded as invalid. Should be >= 1. (default: 1)\n",
            "minWeightFractionPerNode: Minimum fraction of the weighted sample count that each child must have after split. If a split causes the fraction of the total weight in the left or right child to be less than minWeightFractionPerNode, the split will be discarded as invalid. Should be in interval [0.0, 0.5). (default: 0.0)\n",
            "predictionCol: prediction column name. (default: prediction)\n",
            "probabilityCol: Column name for predicted class conditional probabilities. Note: Not all models output well-calibrated probability estimates! These probabilities should be treated as confidences, not precise probabilities. (default: probability)\n",
            "rawPredictionCol: raw prediction (a.k.a. confidence) column name. (default: rawPrediction)\n",
            "seed: random seed. (default: -6314055219712472170)\n",
            "stepSize: Step size (a.k.a. learning rate) in interval (0, 1] for shrinking the contribution of each estimator. (default: 0.1)\n",
            "subsamplingRate: Fraction of the training data used for learning each decision tree, in range (0, 1]. (default: 1.0)\n",
            "thresholds: Thresholds in multi-class classification to adjust the probability of predicting each class. Array must have length equal to the number of classes, with values > 0, excepting that at most one value may be 0. The class with largest value p/t is predicted, where p is the original probability of that class and t is the class's threshold. (undefined)\n",
            "validationIndicatorCol: name of the column that indicates whether each row is for training or for validation. False indicates training; true indicates validation. (undefined)\n",
            "validationTol: Threshold for stopping early when fit with validation is used. If the error rate on the validation input changes by less than the validationTol, then learning will stop early (before `maxIter`). This parameter is ignored when fit without validation is used. (default: 0.01)\n",
            "weightCol: weight column name. If this is not set or empty, we treat all instance weights as 1.0. (undefined)\n"
          ],
          "name": "stdout"
        }
      ]
    },
    {
      "cell_type": "code",
      "metadata": {
        "colab": {
          "base_uri": "https://localhost:8080/"
        },
        "id": "7gaaTDxJ8QUr",
        "outputId": "39336f15-2443-4611-afdd-ff64657df4ef"
      },
      "source": [
        "from pyspark.ml.tuning import ParamGridBuilder, CrossValidator\n",
        "\n",
        "paramGrid = (ParamGridBuilder()\n",
        "             .addGrid(gbt.maxDepth, [2, 4, 6])\n",
        "             .addGrid(gbt.maxBins, [20, 60])\n",
        "             .addGrid(gbt.maxIter, [10, 20])\n",
        "             .build())\n",
        "\n",
        "cv = CrossValidator(estimator=gbt, estimatorParamMaps=paramGrid, evaluator=evaluator, numFolds=5)\n",
        "\n",
        "# Run cross validations.  This can take about 6 minutes since it is training over 20 trees!\n",
        "cvModel = cv.fit(train)\n",
        "predictions = cvModel.transform(test)\n",
        "evaluator.evaluate(predictions)"
      ],
      "execution_count": 35,
      "outputs": [
        {
          "output_type": "execute_result",
          "data": {
            "text/plain": [
              "0.8954659543871663"
            ]
          },
          "metadata": {
            "tags": []
          },
          "execution_count": 35
        }
      ]
    },
    {
      "cell_type": "code",
      "metadata": {
        "id": "J4z3MDIHAlGA"
      },
      "source": [
        ""
      ],
      "execution_count": 35,
      "outputs": []
    }
  ]
}